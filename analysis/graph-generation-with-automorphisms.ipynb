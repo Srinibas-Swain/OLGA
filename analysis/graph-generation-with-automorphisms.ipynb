{
 "cells": [
  {
   "cell_type": "markdown",
   "metadata": {},
   "source": [
    "$\\newcommand{\\sett}[1]{\\left\\{ #1 \\right\\}}$"
   ]
  },
  {
   "cell_type": "markdown",
   "metadata": {
    "run_control": {
     "frozen": false,
     "read_only": false
    }
   },
   "source": [
    "Consider the following graph, from Example 6.2, p. 196 ![original](./images/6-2-original.svg.png)"
   ]
  },
  {
   "cell_type": "markdown",
   "metadata": {},
   "source": [
    "This graph is of order 6 with vertices from $0, \\dots, 5$.  "
   ]
  },
  {
   "cell_type": "markdown",
   "metadata": {},
   "source": [
    "The automorphism group is \n",
    "$$\n",
    "\\left\\{\n",
    "\\begin{matrix}\n",
    "\\mathbf{I}, \\\\\n",
    "(1,2), ~\n",
    "(0,5), \\\\\n",
    "(0,5)(1,2), \\\\\n",
    "(0,2)(1,5)(3,4), ~\n",
    "(0,1)(2,5)(3,4) \\\\\n",
    "(0,1,5,2)(3,4), ~\n",
    "(0,2,5,1)(3,4)\n",
    "\\end{matrix}\n",
    "\\right\\}\n",
    "$$"
   ]
  },
  {
   "cell_type": "markdown",
   "metadata": {},
   "source": [
    "Note: Constructing the automorphism group of a graph is as difficult as the graph isomorphism problem.  "
   ]
  },
  {
   "cell_type": "markdown",
   "metadata": {},
   "source": [
    "# Methodology"
   ]
  },
  {
   "cell_type": "markdown",
   "metadata": {},
   "source": [
    "Say, we need to generate all graphs of order 7, which has G as a \"subgraph\".  \n",
    "The vertex number of the new vertex would be $v_6$.  \n",
    "We have to add edges only from $v_6$ to $\\left\\{ 0, \\dots, 6 \\right\\}$. \n",
    "\n",
    "Lets denote the new graph as $G_{6, s_0}$ where $s_o \\subset \\left\\{ 0, \\dots, 6 \\right\\}$\n",
    "\n",
    "So we can add either one edge, two edges or upto 6 edges from $v_6$.  "
   ]
  },
  {
   "cell_type": "markdown",
   "metadata": {},
   "source": [
    "## Intuition"
   ]
  },
  {
   "cell_type": "markdown",
   "metadata": {},
   "source": [
    "Consider the case of adding just one edge, whereupon the number of possible graphs would be 6, which are $G_{6, \\sett{0}}, G_{6, \\sett{1}}, G_{6, \\sett{2}}, G_{6, \\sett{3}}, G_{6, \\sett{4}}, G_{6, \\sett{5}}$. \n",
    "\n",
    "But the graphs $G_{6, \\sett{3}}, G_{6, \\sett{4}}$ would be isomorphic. The other 4 graphs would be isomorphic to each other as well.   \n",
    "\n",
    "So instead of generating 6 graphs, we should generate just two graphs.   \n",
    "This can be done by iterating over the elements of the automorphism group of G and collecting unique new graphs. \n",
    "For example, say we already have $G_{6, \\sett{0}}$ in the bag.  \n",
    "Now, we construct $G_{6, \\sett{1}}$ and check if any graph in the bag is isomorphic to this.  \n",
    "This is done by applying each automorphism to $G_{6, \\sett{1}}$ and checking if the resulting graph is present in the bag. In case of $G_{6, \\sett{1}}$, on applying $(0,2,5,1)(3,4)$ transforms it to $G_{6, \\sett{0}}$ and hence, we dont add $G_{6, \\sett{1}}$ to the bag."
   ]
  },
  {
   "cell_type": "markdown",
   "metadata": {},
   "source": [
    "This can be achieved, albeit naively, as follows.  \n",
    "$g_{6, S_k}$ denotes the graph obtained by adding edges from 6 to each vertex in $S_k$ of the parent graph g.  \n",
    "$\\mathcal{A(g)}$ denote the automorphism group of g.  \n",
    "\n",
    "* Set $G_{p,k} = \\{\\}$\n",
    "* For each k-subset $S_k$ of V\n",
    "  * for $e \\in \\mathcal{G}$\n",
    "    * $g_a \\leftarrow g_{6, S_k} \\circ e$\n",
    "    * \\textbf{if} $g_a \\notin G_{p,k}$\n",
    "      * $G_{p,k} \\leftarrow G_{p,k} \\cup g_a$"
   ]
  }
 ],
 "metadata": {
  "hide_input": false,
  "kernelspec": {
   "display_name": "Python 3",
   "language": "python",
   "name": "python3"
  },
  "language_info": {
   "codemirror_mode": {
    "name": "ipython",
    "version": 3
   },
   "file_extension": ".py",
   "mimetype": "text/x-python",
   "name": "python",
   "nbconvert_exporter": "python",
   "pygments_lexer": "ipython3",
   "version": "3.5.2"
  },
  "latex_envs": {
   "bibliofile": "biblio.bib",
   "cite_by": "apalike",
   "current_citInitial": 1,
   "eqLabelWithNumbers": true,
   "eqNumInitial": 0
  },
  "nav_menu": {},
  "toc": {
   "navigate_menu": true,
   "number_sections": true,
   "sideBar": true,
   "threshold": 6,
   "toc_cell": false,
   "toc_section_display": "block",
   "toc_window_display": true
  },
  "toc_position": {
   "height": "923px",
   "left": "0px",
   "right": "1946.89px",
   "top": "130px",
   "width": "182px"
  }
 },
 "nbformat": 4,
 "nbformat_minor": 2
}
