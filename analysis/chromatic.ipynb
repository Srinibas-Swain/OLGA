{
 "cells": [
  {
   "cell_type": "markdown",
   "metadata": {},
   "source": [
    "$\n",
    "\\newcommand{\\algocomment}[1]{\\color{green}{\\text{#1}}}\n",
    "\\newcommand{\\algofun}[1]{ {\\color{maroon}{#1} } }\n",
    "\\newcommand{\\algovar}[1]{ {\\color{blue}{#1} } }\n",
    "\\newcommand{\\algofocus}[1]{ {\\colorbox{yellow}{#1} } }\n",
    "\\newcommand{\\algoif}{~{ {\\mathbf{if} } }~}\n",
    "\\newcommand{\\algoelse}{~{\\mathbf{else}}~}\n",
    "\\newcommand{\\algoelsif}{~{ \\color{black}{\\mathbf{elsif} } }~}\n",
    "\\newcommand{\\algofor}{~{ \\color{black}{\\mathbf{for} } }~}\n",
    "\\newcommand{\\algodo}{~{ \\color{black}{\\mathbf{do} } }~}\n",
    "\\newcommand{\\algowhile}{~{ \\color{black}{\\mathbf{while} } }~}\n",
    "\\newcommand{\\algoreturn}{~\\mathbf{return}~}\n",
    "\\newcommand{\\algocontinue}{~\\mathbf{continue}~}\n",
    "$"
   ]
  },
  {
   "cell_type": "markdown",
   "metadata": {},
   "source": [
    "# Randall-Brown's Modified Algorithm"
   ]
  },
  {
   "cell_type": "markdown",
   "metadata": {},
   "source": [
    "1. Find the following using Matula-Dsatur algo or the DSI algo\n",
    "  1. coloration order (?) of the vertices\n",
    "  1. an initial clique (?) of dimension w\n",
    "  1. an initial coloration with r colors \n",
    "  1. $\\algoif$ w == r:\n",
    "    1. stop\n",
    "1. color the vertices of the clique K with $1, \\dots, w$  \n",
    "$\\algocomment{U(x_k): set of colors which can color x_k}$  \n",
    "$\\algocomment{it has an upper bound of q-1}$  \n",
    "$\\algocomment{each vertex limited by the color with its rank}$  \n",
    "1. for $x_k \\notin K$\n",
    "  * $\\algofor j \\in Adj(K, x_k)$\n",
    "    * $U(x_k) = U(x_k) \\setminus (j)$\n",
    "1. $k = w+1, q=r$  \n",
    "1. $\\algowhile U(x_k) \\neq \\emptyset$\n",
    "  1. $c_k = min(U(x_k))$    ..  ... # $\\algocomment{Color $x_k$ with the least possible color $c_k$}$\n",
    "  1. $U(x_k) = U(x_k) \\setminus c_k$\n",
    "  1. $\\algofor y \\in Adj(x_k) \\setminus K$ $\\algocomment{Prohibit $c_k$ for all neighbors of $x_k$ (with greater rank?) until there is a modification of $c_k$}$\n",
    "    * $U(y) = U(y) \\setminus c_k$ \n",
    "  1. $k = k + 1$\n",
    " \n",
    "1. "
   ]
  },
  {
   "cell_type": "code",
   "execution_count": null,
   "metadata": {
    "run_control": {
     "frozen": false,
     "read_only": false
    }
   },
   "outputs": [],
   "source": []
  },
  {
   "cell_type": "code",
   "execution_count": null,
   "metadata": {
    "run_control": {
     "frozen": false,
     "read_only": false
    }
   },
   "outputs": [],
   "source": []
  },
  {
   "cell_type": "code",
   "execution_count": null,
   "metadata": {
    "run_control": {
     "frozen": false,
     "read_only": false
    }
   },
   "outputs": [],
   "source": []
  },
  {
   "cell_type": "code",
   "execution_count": null,
   "metadata": {
    "run_control": {
     "frozen": false,
     "read_only": false
    }
   },
   "outputs": [],
   "source": []
  },
  {
   "cell_type": "code",
   "execution_count": null,
   "metadata": {
    "run_control": {
     "frozen": false,
     "read_only": false
    }
   },
   "outputs": [],
   "source": []
  },
  {
   "cell_type": "code",
   "execution_count": null,
   "metadata": {
    "run_control": {
     "frozen": false,
     "read_only": false
    }
   },
   "outputs": [],
   "source": []
  },
  {
   "cell_type": "markdown",
   "metadata": {},
   "source": [
    "```python\n",
    "if w == r:\n",
    "    return\n",
    "```"
   ]
  },
  {
   "cell_type": "code",
   "execution_count": null,
   "metadata": {
    "run_control": {
     "frozen": false,
     "read_only": false
    }
   },
   "outputs": [],
   "source": []
  },
  {
   "cell_type": "code",
   "execution_count": null,
   "metadata": {
    "run_control": {
     "frozen": false,
     "read_only": false
    }
   },
   "outputs": [],
   "source": []
  }
 ],
 "metadata": {
  "hide_input": false,
  "kernelspec": {
   "display_name": "Python 3",
   "language": "python",
   "name": "python3"
  },
  "language_info": {
   "codemirror_mode": {
    "name": "ipython",
    "version": 3
   },
   "file_extension": ".py",
   "mimetype": "text/x-python",
   "name": "python",
   "nbconvert_exporter": "python",
   "pygments_lexer": "ipython3",
   "version": "3.6.0"
  },
  "latex_envs": {
   "bibliofile": "biblio.bib",
   "cite_by": "apalike",
   "current_citInitial": 1,
   "eqLabelWithNumbers": true,
   "eqNumInitial": 0
  },
  "nav_menu": {},
  "toc": {
   "navigate_menu": true,
   "number_sections": true,
   "sideBar": true,
   "threshold": 6,
   "toc_cell": false,
   "toc_section_display": "block",
   "toc_window_display": true
  },
  "toc_position": {
   "height": "717px",
   "left": "0px",
   "right": "1734px",
   "top": "231px",
   "width": "182px"
  }
 },
 "nbformat": 4,
 "nbformat_minor": 2
}
