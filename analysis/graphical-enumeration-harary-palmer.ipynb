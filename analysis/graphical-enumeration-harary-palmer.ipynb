{
 "cells": [
  {
   "cell_type": "markdown",
   "metadata": {},
   "source": [
    "# number of labelled connected graphs"
   ]
  },
  {
   "cell_type": "markdown",
   "metadata": {},
   "source": [
    "Theorem @ pg. 7"
   ]
  },
  {
   "cell_type": "markdown",
   "metadata": {},
   "source": [
    "$\\newcommand{\\choose}[2]{\\left( \\begin{matrix} #1 \\\\ #2 \\end{matrix} \\right)}$"
   ]
  },
  {
   "cell_type": "markdown",
   "metadata": {},
   "source": [
    "The number of connected graphs of order (number of vertices) $p$ is given by  \n",
    "$\\displaystyle C_p = 2^{\\choose{p}{2}} - \\frac{1}{p} \\sum_{k=1}^{p-1} \\choose{p}{k} ~ k ~ 2^{\\choose{p-k}{2}} ~ C_k$"
   ]
  },
  {
   "cell_type": "markdown",
   "metadata": {},
   "source": [
    "To prove (1.2.1) we observe that a different rooted, labeled graph is obtained when a labeled graph is rooted at each of its points. Hence the number of rooted, labeled graphs of order p is $p G_p$. The number of rooted, labeled graphs in which the root is in a component of exactly k points is $k C_k \\choose{p}{k} G_{p-k}$. On summing from k = 1 to p, we arrive again at the number of rooted, labeled graphs, namely\n",
    "\n",
    "$\\sum_{k=1}^{p} \\choose{p}{k} ~ k ~ G_{p-k} ~ C_k$"
   ]
  },
  {
   "cell_type": "code",
   "execution_count": 4,
   "metadata": {
    "ExecuteTime": {
     "end_time": "2018-01-14T17:26:18.841013Z",
     "start_time": "2018-01-14T17:26:18.834739Z"
    },
    "run_control": {
     "frozen": false,
     "read_only": false
    }
   },
   "outputs": [
    {
     "data": {
      "text/plain": [
       "10.0"
      ]
     },
     "execution_count": 4,
     "metadata": {},
     "output_type": "execute_result"
    }
   ],
   "source": [
    "import scipy.misc as sp_misc\n",
    "\n",
    "sp_misc.comb(5,3)"
   ]
  },
  {
   "cell_type": "code",
   "execution_count": 10,
   "metadata": {
    "ExecuteTime": {
     "end_time": "2018-01-14T17:29:14.866026Z",
     "start_time": "2018-01-14T17:29:14.846649Z"
    },
    "run_control": {
     "frozen": false,
     "read_only": false
    }
   },
   "outputs": [
    {
     "data": {
      "text/plain": [
       "[(2, 1.0), (3, 4.0), (4, 38.0), (5, 728.0), (6, 26704.0)]"
      ]
     },
     "execution_count": 10,
     "metadata": {},
     "output_type": "execute_result"
    }
   ],
   "source": [
    "def c_p(p):\n",
    "    term1 = 2**(sp_misc.comb(p, 2))\n",
    "    term2 = 0\n",
    "    for k in range(1, p):\n",
    "        term2 += sp_misc.comb(p, k) * k * 2**(sp_misc.comb(p-k,2)) * c_p(k)\n",
    "    return term1 - term2/p\n",
    "\n",
    "[(p, c_p(p)) for p in range(2,7)]"
   ]
  }
 ],
 "metadata": {
  "hide_input": false,
  "kernelspec": {
   "display_name": "Python 3",
   "language": "python",
   "name": "python3"
  },
  "language_info": {
   "codemirror_mode": {
    "name": "ipython",
    "version": 3
   },
   "file_extension": ".py",
   "mimetype": "text/x-python",
   "name": "python",
   "nbconvert_exporter": "python",
   "pygments_lexer": "ipython3",
   "version": "3.5.2"
  },
  "latex_envs": {
   "bibliofile": "biblio.bib",
   "cite_by": "apalike",
   "current_citInitial": 1,
   "eqLabelWithNumbers": true,
   "eqNumInitial": 0
  },
  "nav_menu": {},
  "toc": {
   "navigate_menu": true,
   "number_sections": true,
   "sideBar": true,
   "threshold": 6,
   "toc_cell": false,
   "toc_section_display": "block",
   "toc_window_display": true
  },
  "toc_position": {
   "height": "868px",
   "left": "0px",
   "right": "1946.89px",
   "top": "131px",
   "width": "182px"
  }
 },
 "nbformat": 4,
 "nbformat_minor": 2
}
