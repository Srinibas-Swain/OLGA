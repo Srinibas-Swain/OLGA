{
 "cells": [
  {
   "cell_type": "code",
   "metadata": {},
   "outputs": [],
   "source": [
    "import numpy as np\n",
    "from matplotlib import pyplot as plt\n",
    "%matplotlib inline\n",
    "\n",
    "import random as rnd\n",
    "import os\n",
    "import math\n",
    "import re\n",
    "\n",
    "# required for interactive plotting\n",
    "from __future__ import print_function\n",
    "from ipywidgets import interact, interactive, fixed\n",
    "import ipywidgets as widgets\n",
    "import numpy.polynomial as np_poly\n",
    "\n",
    "from IPython.display import Math\n",
    "from IPython.display import Latex\n",
    "from IPython.display import HTML\n",
    "\n",
    "from pprint import pprint\n",
    "import functools as ft"
   ]
  },
  {
   "cell_type": "markdown",
   "metadata": {},
   "source": [
    "initialization\n",
    "$\n",
    "\\newcommand{\\Brace}[1]{\\left\\{#1\\right\\}}\n",
    "\\newcommand{\\Bracket}[1]{\\left[#1\\right]}\n",
    "\\newcommand{\\cases}[1]{\\begin{cases}#1\\end{cases}}\n",
    "\\newcommand{\\cov}[1]{\\text{cov} \\sigma\\left[#1\\right]}\n",
    "\\newcommand{\\diff}[2]{\\frac{d #1}{d #2}}\n",
    "\\newcommand{\\difftwo}[2]{\\frac{d^2 #1}{d {#2}^2}}\n",
    "\\newcommand{\\diffn}[2]{{#1}^{\\prime}(#2)}\n",
    "\\newcommand{\\ds}{\\displaystyle}\n",
    "\\newcommand{\\E}[1]{\\mathbb{E}\\left[ #1 \\right]}\n",
    "\\newcommand{\\expb}[1]{\\exp\\left\\{#1\\right\\}} \n",
    "\\newcommand{\\EXP}[1]{\\exp\\left\\{#1\\right\\}} \n",
    "\\newcommand{\\frachalf}[1]{\\frac{#1}{2}~}\n",
    "\\newcommand{\\fracone}[1]{\\frac{1}{#1}~}\n",
    "\\newcommand{\\fracrec}[1]{\\frac{1}{#1}~}\n",
    "\\newcommand{\\half}{\\fracone{2}}\n",
    "\\newcommand{\\H}[1]{\\mathbb{H}\\left[#1\\right]}\n",
    "\\newcommand{\\Int}[2]{\\displaystyle \\int_{#1}^{#2}~}\n",
    "\\newcommand{\\intinfinf}{\\Int{-\\infty}{\\infty}}\n",
    "\\newcommand{\\inv}[1]{#1^{-1}}\n",
    "\\newcommand{\\invp}[1]{\\left({#1}\\right)^{-1}}\n",
    "\\newcommand{\\KL}[2]{\\text{KL}\\left(#1 \\Vert #2\\right)}\n",
    "\\newcommand{\\Lim}[1]{\\displaystyle \\lim_{#1}}\n",
    "\\newcommand{\\Ln}[1]{\\ln \\left\\(#1\\right\\)}\n",
    "\\newcommand{\\Lnb}[1]{\\ln \\left\\{#1\\right\\} }\n",
    "\\newcommand{\\Mod}[1]{\\left|#1\\right|}\n",
    "\\newcommand{\\Norm}[1]{\\left\\lVert #1 \\right\\rVert}\n",
    "\\newcommand{\\Normsqr}[1]{\\Norm{#1}^2}\n",
    "\\newcommand{\\map}[1]{#1_{\\text{MAP}}}\n",
    "\\newcommand{\\ml}[1]{#1_{\\text{ML}}}\n",
    "\\newcommand{\\MI}[1]{\\mathcal{I}\\left(#1\\right)}\n",
    "\\newcommand{\\P}{\\mathbb{P}}\n",
    "\\newcommand{\\Paran}[1]{\\left(#1\\right)}\n",
    "\\newcommand{\\Partial}[2]{\\frac{\\partial #1}{\\partial #2}}\n",
    "\\newcommand{\\sqrbrkt}[1]{\\Bracket{#1}^2}\n",
    "\\newcommand{\\sqrbrc}[1]{\\Brace{#1}^2}\n",
    "\\newcommand{\\trace}[1]{\\text{Tr}\\left( #1 \\right)}\n",
    "\\newcommand{\\traceb}[1]{\\text{Tr}\\left\\{#1\\right\\}}\n",
    "\\newcommand{\\underl}[1]{\\text{$\\underline{#1}$}}\n",
    "\\newcommand{\\V}[1]{\\mathbb{V}\\left[#1\\right]}\n",
    "$\n",
    "$\n",
    "\\DeclareMathOperator*{\\argmin}{arg\\,min}\n",
    "\\DeclareMathOperator*{\\argmax}{arg\\,max}\n",
    "$\n",
    "$\n",
    "\\newcommand{\\mat}[1]{ \\begin{matrix}#1\\end{matrix} }\n",
    "\\newcommand{\\matb}[1]{ \\left[ \\begin{matrix} #1 \\end{matrix} \\right] }\n",
    "\\newcommand{\\matp}[1]{ \\left( \\begin{matrix} #1 \\end{matrix} \\right)}\n",
    "\\newcommand{\\arrthree}[1]{\n",
    "\\begin{array}{rlr} #1 \\end{array}}\n",
    "$"
   ]
  },
  {
   "cell_type": "markdown",
   "metadata": {},
   "source": [
    "$\n",
    "\\newcommand{\\C}{\\mathbb{C}}\n",
    "\\newcommand{\\Ca}{\\mathcal{C}}\n",
    "\\newcommand{\\Caone}{\\Ca_1}\n",
    "\\newcommand{\\Catwo}{\\Ca_2}\n",
    "\\newcommand{\\Cak}{\\Ca_k}\n",
    "\\newcommand{\\D}{\\mathcal{D}}\n",
    "\\newcommand{\\G}{\\mathcal{G}}\n",
    "\\newcommand{\\I}{\\mathcal{I}}\n",
    "\\newcommand{\\L}{\\mathcal{L}}\n",
    "\\newcommand{\\M}{\\mathcal{M}}\n",
    "\\newcommand{\\N}{\\mathbb{N}}\n",
    "\\newcommand{\\R}{\\mathbb{R}}\n",
    "\\newcommand{\\Ra}{\\mathcal{R}}\n",
    "\\newcommand{\\Ua}{\\mathcal{U}}\n",
    "$\n",
    "$\n",
    "\\newcommand{\\commentgray}[1]{\\color{gray}{\\text{#1}}}\n",
    "$"
   ]
  },
  {
   "cell_type": "markdown",
   "metadata": {},
   "source": [
    "$\n",
    "\\newcommand{\\algocomment}[1]{\\color{green}{\\text{#1}}}\n",
    "\\newcommand{\\algofun}[1]{ {\\color{maroon}{#1} } }\n",
    "\\newcommand{\\algovar}[1]{ {\\color{blue}{#1} } }\n",
    "\\newcommand{\\algofocus}[1]{ {\\colorbox{yellow}{#1} } }\n",
    "\\newcommand{\\algoif}{~{ {\\mathbf{if} } }~}\n",
    "\\newcommand{\\algoelse}{~{\\mathbf{else}}~}\n",
    "\\newcommand{\\algoelsif}{~{ \\color{black}{\\mathbf{elsif} } }~}\n",
    "\\newcommand{\\algofor}{~{ \\color{black}{\\mathbf{for} } }~}\n",
    "\\newcommand{\\algowhile}{~{ \\color{black}{\\mathbf{while} } }~}\n",
    "\\newcommand{\\algoreturn}{~\\mathbf{return}~}\n",
    "\\newcommand{\\algocontinue}{~\\mathbf{continue}~}\n",
    "$"
   ]
  },
  {
   "cell_type": "markdown",
   "metadata": {},
   "source": [
    "sum, product\n",
    "$\n",
    "\\newcommand{\\sumi}{\\displaystyle \\sum_i}\n",
    "\\newcommand{\\sumiD}{\\displaystyle \\sum_{i=1}^{D}}\n",
    "\\newcommand{\\sumiL}{\\displaystyle \\sum_{i=1}^{L}}\n",
    "\\newcommand{\\sumiN}{\\displaystyle \\sum_{i=1}^{N}}\n",
    "\\newcommand{\\sumjD}{\\displaystyle \\sum_{j=1}^{D}}\n",
    "\\newcommand{\\sumjK}{\\displaystyle \\sum_{j=1}^{K}}\n",
    "\\newcommand{\\sumjMl}{\\sum_{j=1}^{M-1}}\n",
    "\\newcommand{\\sumkK}{\\displaystyle \\sum_{k=1}^{K}}\n",
    "\\newcommand{\\sumkM}{\\displaystyle \\sum_{k=1}^{M}}\n",
    "\\newcommand{\\sumkMl}{\\sum_{k=1}^{M-1}}\n",
    "\\newcommand{\\sumkp}{\\displaystyle \\sum_{k=1}^{p}}\n",
    "\\newcommand{\\summN}{\\displaystyle \\sum_{m=1}^{N}}\n",
    "\\newcommand{\\sumnN}{\\displaystyle \\sum_{n=1}^{N}}\n",
    "$\n",
    "$\n",
    "\\newcommand{\\prodi}{\\displaystyle \\prod_i}\n",
    "\\newcommand{\\prodiD}{\\displaystyle \\prod_{i=1}^{D}}\n",
    "\\newcommand{\\prodiL}{\\displaystyle \\prod_{i=1}^{L}}\n",
    "\\newcommand{\\prodiN}{\\displaystyle \\prod_{i=1}^{N}}\n",
    "\\newcommand{\\prodjK}{\\displaystyle \\prod_{j=1}^{K}}\n",
    "\\newcommand{\\prodkK}{\\displaystyle \\prod_{k=1}^{K}}\n",
    "\\newcommand{\\prodmN}{\\displaystyle \\prod_{m=1}^{N}}\n",
    "\\newcommand{\\prodnN}{\\displaystyle \\prod_{n=1}^{N}}\n",
    "$"
   ]
  },
  {
   "cell_type": "markdown",
   "metadata": {},
   "source": [
    "alphabet shortcuts\n",
    "$\n",
    "\\newcommand{\\ab}{\\mathbf{a}}\n",
    "\\newcommand{\\at}{\\ab^T}\n",
    "\\newcommand{\\Ab}{\\mathbf{A}}\n",
    "\\newcommand{\\At}{\\Ab^T}\n",
    "\\newcommand{\\Ai}{\\inv{\\Ab}}\n",
    "\\newcommand{\\Abjk}{\\Ab_{jk}}\n",
    "\\newcommand{\\bb}{\\mathbf{b}}\n",
    "\\newcommand{\\bt}{\\bb^T}\n",
    "\\newcommand{\\Bb}{\\mathbf{B}}\n",
    "\\newcommand{\\Bt}{\\Bb^T}\n",
    "\\newcommand{\\Cb}{\\mathbf{C}}\n",
    "\\newcommand{\\Cn}{\\Cb_{N}}\n",
    "\\newcommand{\\Db}{\\mathbf{D}}\n",
    "\\newcommand{\\fb}{\\mathbf{f}}\n",
    "\\newcommand{\\fp}{f^{\\prime}}\n",
    "\\newcommand{\\Gb}{\\mathbf{G}}\n",
    "\\newcommand{\\Hb}{\\mathbf{H}}\n",
    "\\newcommand{\\hx}{h(\\xb)}\n",
    "\\newcommand{\\Jb}{\\mathbf{J}}\n",
    "\\newcommand{\\kb}{\\mathbf{k}}\n",
    "\\newcommand{\\kt}{\\kb^T}\n",
    "\\newcommand{\\Kb}{\\mathbf{K}}\n",
    "\\newcommand{\\Lb}{\\mathbf{L}}\n",
    "\\newcommand{\\Lt}{\\Lb^T}\n",
    "\\newcommand{\\Lbi}{\\Lb^{-1}}\n",
    "\\newcommand{\\mb}{\\mathbf{m}}\n",
    "\\newcommand{\\mt}{\\mb^T}\n",
    "\\newcommand{\\mbn}{\\mb_N}\n",
    "\\newcommand{\\mbnt}{\\mbn^T}\n",
    "\\newcommand{\\mbN}{\\mb_N}\n",
    "\\newcommand{\\mbNt}{\\mbn^T}\n",
    "\\newcommand{\\Mb}{\\mathbf{M}}\n",
    "\\newcommand{\\Qb}{\\mathbf{Q}}\n",
    "\\newcommand{\\Rb}{\\mathbf{R}}\n",
    "\\newcommand{\\sb}{\\mathbf{s}}\n",
    "\\newcommand{\\Sb}{\\mathbf{S}}\n",
    "\\newcommand{\\tb}{\\mathbf{t}}\n",
    "\\newcommand{\\tbnn}{\\tb_{N}}\n",
    "\\newcommand{\\tbnp}{\\tb_{N+1}}\n",
    "\\newcommand{\\tt}{\\tb^T}\n",
    "\\newcommand{\\Tb}{\\mathbf{T}}\n",
    "\\newcommand{\\Tt}{\\Tb^T}\n",
    "\\newcommand{\\ub}{\\mathbf{u}}\n",
    "\\newcommand{\\Ub}{\\mathbf{U}}\n",
    "\\newcommand{\\Ut}{\\Ub^T}\n",
    "\\newcommand{\\vb}{\\mathbf{v}}\n",
    "\\newcommand{\\Vb}{\\mathbf{V}}\n",
    "\\newcommand{\\wb}{\\mathbf{w}}\n",
    "\\newcommand{\\wnr}[1]{\\wb^{(\\text{#1})}}\n",
    "\\newcommand{\\wt}{\\wb^T}\n",
    "\\newcommand{\\Wb}{\\mathbf{W}}\n",
    "\\newcommand{\\Wt}{\\Wb^T}\n",
    "\\newcommand{\\Wtilde}{\\widetilde{\\Wb}}\n",
    "\\newcommand{\\Wtildet}{\\Wtilde^T}\n",
    "\\newcommand{\\Xb}{\\mathbf{X}}\n",
    "\\newcommand{\\Xt}{\\Xb^T}\n",
    "\\newcommand{\\Xk}{\\Xb_k}\n",
    "\\newcommand{\\Xkt}{\\Xk^T}\n",
    "\\newcommand{\\Xtilde}{\\widetilde{\\Xb}}\n",
    "\\newcommand{\\Xtildet}{\\Xtilde^T}\n",
    "\\newcommand{\\xb}{\\mathbf{x}}\n",
    "\\newcommand{\\xt}{\\xb^T}\n",
    "\\newcommand{\\xtilde}{\\widetilde{\\xb}}\n",
    "\\newcommand{\\xtilden}{\\xtilde_n}\n",
    "\\newcommand{\\xtildent}{\\xtilden^T}\n",
    "\\newcommand{\\xp}{x^{\\prime}}\n",
    "\\newcommand{\\xbp}{\\xb^{\\prime}}\n",
    "\\newcommand{\\xbm}{\\xb_m}\n",
    "\\newcommand{\\xbn}{\\xb_n}\n",
    "\\newcommand{\\xbnp}{\\xb_{N+1}}\n",
    "\\newcommand{\\xab}{\\mathbf{x_a}}\n",
    "\\newcommand{\\xabt}{\\mathbf{x_a}^T}\n",
    "\\newcommand{\\xbb}{\\mathbf{x_b}}\n",
    "\\newcommand{\\xbbt}{\\mathbf{x_b}^T}\n",
    "\\newcommand{\\yb}{\\mathbf{y}}\n",
    "\\newcommand{\\yt}{\\yb^T}\n",
    "\\newcommand{\\yx}{y(\\xb)}\n",
    "\\newcommand{\\Yb}{\\mathbf{Y}}\n",
    "\\newcommand{\\Yt}{\\Yb^T}\n",
    "\\newcommand{\\zb}{\\mathbf{z}}\n",
    "\\newcommand{\\zt}{\\zb^T}\n",
    "\\newcommand{\\zbm}{\\zb_m}\n",
    "\\newcommand{\\zbn}{\\zb_n}\n",
    "\\newcommand{\\zbnp}{\\zb_{n-1}}\n",
    "\\newcommand{\\znk}{\\zb_{nk}}\n",
    "\\newcommand{\\znpj}{\\zb_{n-1,j}}\n",
    "\\newcommand{\\Zb}{\\mathbf{Z}}\n",
    "$"
   ]
  },
  {
   "cell_type": "markdown",
   "metadata": {},
   "source": [
    "math shortcuts\n",
    "$\n",
    "\\newcommand{\\alphab}{\\pmb{\\alpha}}\n",
    "\\newcommand{\\alphabt}{\\alphab^T}\n",
    "\\newcommand{\\betab}{\\pmb{\\beta}}\n",
    "\\newcommand{\\betabp}{\\betab^{\\prime}}\n",
    "\\newcommand{\\chib}{\\boldsymbol{\\chi}}\n",
    "\\newcommand{\\etab}{\\pmb{\\eta}}\n",
    "\\newcommand{\\etabp}{\\etab^{\\prime}}\n",
    "\\newcommand{\\etat}{\\eta^T}\n",
    "\\newcommand{\\etabt}{\\etab^T}\n",
    "\\newcommand{\\Lambdab}{\\pmb{\\Lambda}}\n",
    "\\newcommand{\\laa}{\\Lambda_{aa}}\n",
    "\\newcommand{\\laai}{\\Lambda_{aa}^{-1}}\n",
    "\\newcommand{\\lab}{\\Lambda_{ab}}\n",
    "\\newcommand{\\lba}{\\Lambda_{ba}}\n",
    "\\newcommand{\\lbb}{\\Lambda_{bb}}\n",
    "\\newcommand{\\lbbi}{\\Lambda_{bb}^{-1}}\n",
    "\\newcommand{\\li}{\\Lambda^{-1}}\n",
    "\\newcommand{\\Li}{\\Lambda^{-1}}\n",
    "\\newcommand{\\mub}{\\pmb{\\mu}}\n",
    "\\newcommand{\\mut}{\\mub^T}\n",
    "\\newcommand{\\muab}{\\pmb{\\mu}_a}\n",
    "\\newcommand{\\mubb}{\\pmb{\\mu}_b}\n",
    "\\newcommand{\\Phib}{\\pmb{\\Phi}}\n",
    "\\newcommand{\\Phibt}{\\Phib^T}\n",
    "\\newcommand{\\pib}{\\pmb{\\pi}}\n",
    "\\newcommand{\\sigmasqr}{\\sigma^2}\n",
    "\\newcommand{\\saa}{\\Sigma_{aa}}\n",
    "\\newcommand{\\sab}{\\Sigma_{ab}}\n",
    "\\newcommand{\\sba}{\\Sigma_{ba}}\n",
    "\\newcommand{\\sbb}{\\Sigma_{bb}}\n",
    "\\newcommand{\\Sigmai}{\\inv{\\Sigma}}\n",
    "\\newcommand{\\thetab}{\\pmb{\\theta}}\n",
    "\\newcommand{\\thetat}{\\thetab^T}\n",
    "\\newcommand{\\thetabh}{\\hat{\\thetab}}\n",
    "\\newcommand{\\thetaold}{\\thetab^{\\text{old}}}\n",
    "$\n",
    "$\n",
    "\\newcommand{\\zerob}{\\pmb{0}}\n",
    "\\newcommand{\\oneb}{\\pmb{1}}\n",
    "\\newcommand{\\ed}{\\mathbb{E}_{\\D}}\n",
    "\\newcommand{\\edyx}{\\ed\\left[y(\\xb ; \\D)\\right]}\n",
    "\\newcommand{\\dx}{~dx}\n",
    "\\newcommand{\\dxb}{~d\\xb}\n",
    "\\newcommand{\\pxdxb}{p(\\xb) \\dxb}\n",
    "\\newcommand{\\dwb}{~d\\wb}\n",
    "$"
   ]
  },
  {
   "cell_type": "markdown",
   "metadata": {},
   "source": [
    "aliases for distributions\n",
    "$\\newcommand{\\multivarcoeff}{\\frac{1}{(2\\pi)^{D/2}}\n",
    "\\frac{1}{\\left| \\mathbf{\\Sigma}\\right|^{1/2}}}$\n",
    "$\\newcommand{\\multivarexp}[2]\n",
    "{\n",
    "\\left\\{\n",
    " -\\frac{1}{2} \n",
    " {#1}^T \n",
    " #2\n",
    " {#1}\n",
    "\\right\\}\n",
    "}$\n",
    "$\\newcommand{\\multivarexpx}[1]{\\multivarexp{#1}{\\Sigma^{-1}}}$\n",
    "$\\newcommand{\\multivarexpstd}{\\multivarexpx{(\\xb-\\mub)}}$\n",
    "$\\newcommand{\\gam}{\\operatorname{Gam}}$\n",
    "$\n",
    "\\newcommand{\\Nl}[3]{\\mathcal{N}\\left(#1 \\mid #2, #3\\right)}\n",
    "\\newcommand{\\Nstdx}{\\Nl{\\mathbf{x}}{\\mathbf{\\mu}}{\\Sigma}}\n",
    "$"
   ]
  },
  {
   "cell_type": "markdown",
   "metadata": {},
   "source": [
    "# Schreier-Sims algorithm"
   ]
  },
  {
   "cell_type": "markdown",
   "metadata": {},
   "source": [
    "Let G be a permutation group on $\\mathcal{X} = \\Brace{1, \\dots, n-1}$ and set\n",
    "\\begin{array}{lll}\n",
    "G_0 &= \\{g \\in G   &\\mid ~g(0) = 0\\} \\\\\n",
    "G_1 &= \\{g \\in G_0 &\\mid ~g(1) = 1\\} \\\\\n",
    "& \\vdots  \\\\\n",
    "G_{n-1} &= \\{g \\in G_{n-2} &\\mid ~g(n-1) = n-1\\} = \\Brace{\\I}\\\\\n",
    "\\end{array}"
   ]
  },
  {
   "cell_type": "markdown",
   "metadata": {},
   "source": [
    "$$\n",
    "\\text{also, } G \\supseteq G_0 \\supseteq \\dots \\supseteq G_{n-1} = \\Brace{\\I}\n",
    "$$"
   ]
  },
  {
   "cell_type": "markdown",
   "metadata": {},
   "source": [
    "\\begin{array}{lll}\n",
    "\\text{Let }       & \\mathbf{orb}(0) &= \\Brace{g(0) \\mid g \\in G} \\\\\n",
    "\\text{Let }       & n_0             &= \\Mod{\\mathbf{orb}} \\\\\n",
    "\\text{Then }      & \\mathbf{orb}(0) &= \\Brace{x_{0,1}, x_{0,2}, \\dots, x_{0, n_0}}\\\\\n",
    "\\text{Let }       & \\mathcal{U}_0   &= \\Brace{h_{0,1}, h_{0,2}, \\dots, h_{0, n_0}}\\\\\n",
    "\\text{such that } & h_{0,i}(0)      &= x_{0,i}\\\\\n",
    "\\end{array}\n",
    "\n",
    "That is, find one permutation in G which maps zero to an orbital element "
   ]
  },
  {
   "cell_type": "markdown",
   "metadata": {},
   "source": [
    "## Theorem 6.6\n",
    "\n",
    "Let $G, \\Ua_0, G_0$ be as defined above. Then $\\Ua_0$ is a left traversal of $G_0$ in G.  \n",
    "That is \n",
    "$$\n",
    "\\Ua_0 G_0 = G\n",
    "$$"
   ]
  },
  {
   "cell_type": "markdown",
   "metadata": {},
   "source": [
    "# Test\n",
    "\n",
    "def test(G, g)\n",
    "1. n = G.n\n",
    "1. **for** $i \\leftarrow 0 ~\\mathbf{to} ~(n-1)$\n",
    "  1. $x \\leftarrow g[i]$\n",
    "  1. $\\mathbf{if} ~\\exists h \\in \\mathcal{U}_i | h(i)==x$\n",
    "    1. $ \\pi_3 = \\inv{h} g \\left\\{\\arrthree{ \\pi_2 &\\leftarrow \\inv{h} \\\\ \\pi_3 &\\leftarrow \\pi_2 ~\\circ ~g} \\right.$\n",
    "    1. $\\mathbf{for} ~j \\leftarrow 0 ~\\mathbf{to}~ (n-1)$\n",
    "       1. $g[j] = \\pi_3[j]$\n",
    "  1. $\\mathbf{else}$\n",
    "    1. return i\n",
    "1. return n"
   ]
  },
  {
   "cell_type": "code",
   "metadata": {},
   "outputs": [],
   "source": [
    "class PermutationPrintHelper:\n",
    "    def print_perm(self, other_format=False):\n",
    "        if other_format:\n",
    "            print(self.str_cyclical())\n",
    "        else:\n",
    "            print(self.arr)\n",
    "    def str_cyclical(self):\n",
    "        if self.arr == list(range(self.n)):\n",
    "            return(\"I\")\n",
    "        visited = [False for _ in range(self.n)]\n",
    "        str_all = ''\n",
    "        for ix in range(self.n):\n",
    "            if visited[ix]:\n",
    "                continue\n",
    "            str_all += \"[\" + self.str_cyclical_helper(visited, ix) + \"]\"\n",
    "        return str_all\n",
    "    def str_cyclical_helper(self, visited, ix):\n",
    "        visited[ix] = True\n",
    "        str1 = str(ix)\n",
    "        if visited[self.arr[ix]]:\n",
    "            return str1\n",
    "        return str1 + \",\" + self.str_cyclical_helper(visited, self.arr[ix])"
   ]
  },
  {
   "cell_type": "code",
   "metadata": {},
   "outputs": [],
   "source": [
    "class Permutation:\n",
    "    def __init__(self, n, str_permutation=None):\n",
    "        self.n = n\n",
    "        self.arr = [ix for ix in range(self.n)]\n",
    "    \n",
    "    def __getitem__(self, ix):\n",
    "        return self.arr[ix]\n",
    "    def __setitem__(self, key, value):\n",
    "        self.arr[key] = value\n",
    "    def __mul__(self, other):\n",
    "        perm = Permutation(self.n)\n",
    "        perm.arr = [self.arr[other.arr[ix]] for ix in range(self.n)]\n",
    "        return perm\n",
    "    def __eq__(self, other):\n",
    "        return self.arr == other.arr\n",
    "    def inv(self):\n",
    "        perm_inv = Permutation(self.n)\n",
    "        for ix in range(self.n):\n",
    "            perm_inv[self[ix]] = ix\n",
    "        return perm_inv\n",
    "Permutation.print = PermutationPrintHelper.print_perm\n",
    "Permutation.str_cyclical = PermutationPrintHelper.str_cyclical\n",
    "Permutation.str_cyclical_helper = PermutationPrintHelper.str_cyclical_helper"
   ]
  },
  {
   "cell_type": "code",
   "metadata": {},
   "outputs": [],
   "source": [
    "class PermutationFactory:\n",
    "    @classmethod\n",
    "    def create(pf, n, str_permutation):\n",
    "        permutation = Permutation(n)\n",
    "        pf.parse(permutation, str_permutation)\n",
    "        return permutation\n",
    "    @classmethod\n",
    "    def parse(pf, permutation, string):\n",
    "        # returns blocks: those between \"[\" and \"]\"\n",
    "        str_blocks = [b[1:] for b in string.split(']')[:-1]]\n",
    "        blocks = [pf.parse_block(str_block) for str_block in str_blocks]\n",
    "        [pf.add(permutation, block) for block in blocks]\n",
    "    @classmethod\n",
    "    def parse_block(pf, str_block):\n",
    "        return [int(i.strip()) for i in str_block.split(\",\")]\n",
    "    @classmethod\n",
    "    def add(pf, permutation, block):\n",
    "        for x,y in zip(block, block[1:] + block[0:1]):\n",
    "            permutation[x] = y\n",
    "PermutationFactory.create(8, \"[0,1,3,7,6,4][2,5]\").print(True)\n"
   ]
  },
  {
   "cell_type": "code",
   "metadata": {},
   "outputs": [],
   "source": [
    "# This is the schreiersims group\n",
    "class Group2:\n",
    "    def __init__(self, n):\n",
    "        self.elements = [[Permutation(n)] for _ in range(n)]\n",
    "        self.n = n\n",
    "    def add(self, element):\n",
    "        self.elements.append(element)\n",
    "    def print(self, other_format=False):\n",
    "        for ix, element in enumerate(self.elements):\n",
    "            print(\"U_{0}:\".format(ix))\n",
    "            [perm.print(other_format) for perm in element]\n",
    "            print(\"\")\n",
    "Group2(4).print(True)"
   ]
  },
  {
   "cell_type": "code",
   "metadata": {},
   "outputs": [],
   "source": [
    "def test(G, g):\n",
    "    for i in range(G.n):\n",
    "        x = g[i]\n",
    "        hs = [hh for hh in G.elements[i] if (hh[i]==x)]\n",
    "        if len(hs)!=0:\n",
    "            pi3 = hs[0].inv() * g\n",
    "            for ix in range(g.n):\n",
    "                g[ix] = pi3[ix]\n",
    "        else:\n",
    "            return i\n",
    "    return G.n"
   ]
  },
  {
   "cell_type": "code",
   "metadata": {},
   "outputs": [],
   "source": [
    "def enter(group2, g):\n",
    "    i = test(group2, g)\n",
    "    print(\"i\", i, g.str_cyclical())\n",
    "    if(i == group2.n):\n",
    "        return\n",
    "    # u_i = u_i U {g}\n",
    "    group2.elements[i].append(g)\n",
    "    for j in range(i+1):\n",
    "        for h in group2.elements[j]:\n",
    "            f = g * h\n",
    "            print(\"f: \", f.str_cyclical())\n",
    "            enter(group2, f)"
   ]
  },
  {
   "cell_type": "code",
   "metadata": {},
   "outputs": [],
   "source": [
    "def gen(n, generators):\n",
    "    group2 = Group2(8)\n",
    "    for generator in generators:\n",
    "        enter(group2, generator)\n",
    "    return group2\n",
    "\n",
    "N=8\n",
    "generators = []\n",
    "generators.append(PermutationFactory.create(N, \"[0,1,3,7,6,4][2,5]\"))\n",
    "generators.append(PermutationFactory.create(N, \"[0,1,3,2][4,5,7,6]\"))\n",
    "[gen.print(True) for gen in generators]\n",
    "gen(N, generators).print(True)"
   ]
  },
  {
   "cell_type": "markdown",
   "metadata": {},
   "source": [
    "Crux: How to construct $\\mathcal{U}_i$'s\n",
    "\n",
    "* we are given the generators $\\Gamma = \\Brace{\\alpha_1, \\dots, \\alpha_r}$\n",
    "* Consider subgroupss $H_l$ where $1 \\le l \\le r$\n",
    "  * $H_l$ is generated by $\\Brace{\\alpha_1, \\dots, \\alpha_l}$\n",
    "* Say the sets $\\mathcal{U}_i, 0 \\le i \\lt n$, are constructed for $H_{l-1}$\n",
    "* These sets can be updated to correspond to $H_l$ by\n",
    "  * entering $g = \\alpha_l$ in the appropriate place\n",
    "  * then adjusting $\\mathcal{U}_i$'s to achieve closure\n",
    "* Apply test to g which returns i such that\n",
    "  * $~\\forall x \\lt i, \\exists f \\in G \\mid (\\inv{f} g)(x) = x ~\\mathbf{and}~ (\\inv{f}\\alpha_l)(i) = j$\n",
    "  * there is no $h \\in \\mathcal{U}_i$ such that h(i) = j\n",
    "* test replaces g by $\\inv{f} \\alpha_l$\n",
    "* if i==n, we are done\n",
    "* else, this new g belongs to $\\mathcal{U}_i$."
   ]
  },
  {
   "cell_type": "markdown",
   "metadata": {},
   "source": [
    "# Theorem 6.8  \n",
    "\n",
    "Let G be a permutation group on $\\mathcal{X} = \\Brace{0, 1, \\dots, n-1}$.  \n",
    "Let its Schreier-Sims representation $\\overline{G} = \\Bracket{\\mathcal{U}_0, \\mathcal{U}_1, \\dots, \\mathcal{U}_{n-1}}$.  \n",
    "Let $g \\in \\text{Sym}(\\mathcal{X})$ be an arbitrary permutation.  \n",
    "Then the procedure enter correctly updates $\\overline{G}$ to the group generated by $G \\cup g$"
   ]
  },
  {
   "cell_type": "markdown",
   "metadata": {},
   "source": [
    "let $\\overline{G}^{\\prime} = \\Bracket{\\mathcal{U}_0^{\\prime}, \\mathcal{U}_1^{\\prime}, \\dots, \\mathcal{U}_{n-1}^{\\prime}}$ be the updated data structure that we get on running Enter with parameters $\\overline{G}$ and g"
   ]
  },
  {
   "cell_type": "markdown",
   "metadata": {},
   "source": [
    "To show that $\\overline{G}^{\\prime}$ is the group generated by G and g, we only need to show that \n",
    "$$\n",
    "G^{\\prime} = \\mathcal{U}_0^{\\prime} \\mathcal{U}_1^{\\prime} \\dots \\mathcal{U}_{n-1}^{\\prime}\n",
    "$$\n",
    "is a group since $G \\subseteq G^{\\prime}$ and every element is a product of elements in $\\Brace{G \\cup g}$"
   ]
  },
  {
   "cell_type": "markdown",
   "metadata": {},
   "source": [
    "This is the only thing that needs to be done, when enter is called with (G, g), the first thing that happens if $g \\notin G$ is that g gets added to the \"right\" $\\Ua_j$. After that happens, we gotta make sure the group is closed, which is what we gonna do below"
   ]
  },
  {
   "cell_type": "markdown",
   "metadata": {},
   "source": [
    "Remember that every element $g \\in G$ can be expressed as the product of h's. that is\n",
    "$$\n",
    "g = \\prod_{j=0}^{n-1} h_{j, j_i}\n",
    "$$"
   ]
  },
  {
   "cell_type": "markdown",
   "metadata": {},
   "source": [
    "Now once g enters test and it returns an $i \\ne n$, then we add $g$ to $\\Ua_i$. Only that $g$ gets metamorphosed.  \n",
    "Test has this (superhuman) ability to rip of the layers of g. That is, it removes the first $i-1$ h's from the left side of the RHS in the expansion above. This ensures that the transformed g, now fixes all the elements $j \\in [0,i-1]$. That is, the transformed g $\\in G_i$.\n",
    "\n",
    "Another thing to note is that the set $\\Brace{G_i}$'s form a hierarchy. that is\n",
    "$$\n",
    "G \\supseteq G_0 \\supseteq G_1 \\supseteq \\cdots \\supseteq G_{n-1} \\equiv {\\I}\n",
    "$$\n",
    "So any element $g \\in G_j$, by this property belongs to $G_k, k \\in [0,j-1]$"
   ]
  },
  {
   "cell_type": "markdown",
   "metadata": {},
   "source": [
    "Let $\n",
    "G_{i}^\\prime = \\mathcal{U}_i^{\\prime} \\mathcal{U}_{i+1}^{\\prime} \\dots \\mathcal{U}_{n-1}^{\\prime}\n",
    "$\n",
    "\n",
    "Then\n",
    "$G_{n-1}^\\prime = \\Brace{\\I}$\n",
    "\n",
    "We gonna use induction obviously.   \n",
    "Let $G_i$ be a group for $0 \\le i \\lt n$\n",
    "\n",
    "we will show that $G_{i-1}^\\prime = \\mathcal{U}_{i-1}^{\\prime} G_{i}^\\prime$ is a group"
   ]
  },
  {
   "cell_type": "markdown",
   "metadata": {},
   "source": [
    "let $x_1, x_2 \\in G_{i-1}^\\prime; h_1,h_2 \\in \\mathcal{U}_{i-1}\n",
    "^\\prime; g_1, g_2 \\in G_i^\\prime$\n",
    "$$\n",
    "Let ~~\n",
    "\\arrthree{\n",
    "x_1 &= h_1 g_1 \\\\\n",
    "x_2 &= h_2 g_2 \\\\\n",
    "}\n",
    "$$"
   ]
  },
  {
   "cell_type": "markdown",
   "metadata": {},
   "source": [
    "we know that since $g_1 \\in G_i^\\prime$, we have $g_1(i) = i \\text{ for } i \\in [0, i-1]$  \n",
    "So append anything to the right side of $g_1$ and multiply them together.  \n",
    "It wont matter, for the product would always $\\in G_i'$"
   ]
  },
  {
   "cell_type": "markdown",
   "metadata": {},
   "source": [
    "Hence, $g_1 h_2 \\in G_i'$.\n",
    "In line (**), we enter \"enter\" with params $(G, g_1 h_2) ~~\\forall h_2 \\in \\Ua_{i-1}'$   \n",
    "(As a matter of fact, this happens $\\forall h_2 \\in \\Ua_j \\algofor j \\in [0,i]$)"
   ]
  },
  {
   "cell_type": "markdown",
   "metadata": {},
   "source": [
    "Thus, after \"enter\" is entered,\n",
    "the first thing that happens is $g_1 h_2$ gets added to $\\Ua_{i-1}'$, if not already present.  \n",
    "Hence $\\exists h_3 \\in \\Ua_{i-1}' \\mid h_3(i) = g_1 h_2 (i)$.  \n",
    "Hence $\\inv{h_3} g_1 h_2 \\in G_{i+1}'$ since fixes i.    \n",
    "By the hierarch of G's, we have $\\inv{h_3} g_1 h_2 \\in G_{i}'$ as well.  \n",
    "Let $g_3 \\gets \\inv{h_3} g_1 h_2$.  \n",
    "Now since $h_3(i)$"
   ]
  },
  {
   "cell_type": "markdown",
   "metadata": {},
   "source": [
    "Hence\n",
    "$$\n",
    "\\arrthree{\n",
    "x_1 x_2 &= h_1 (g_1 h_2) g_2\n",
    "\\\\ &=\n",
    "h_1 (h_3 \\inv{h_3} g_1 h_2) g_2\n",
    "\\\\ &=\n",
    "h_1 h_3 g_3 g_2\n",
    "\\\\ &=\n",
    "h_1 h_3 g_4 & \\commentgray{for some $g_4 \\in \\G_i'$}\n",
    "}\n",
    "$$"
   ]
  },
  {
   "cell_type": "markdown",
   "metadata": {},
   "source": [
    "Now, since $h_1, h_3 \\in \\Ua_{i-1}'$, \"enter\" must have been called at some point with the product $h_1 h_3$.  \n",
    "Hence $\\exists h_4 \\in \\Ua_{i-1}' \\mid h_4(i) = h_1 h_3(i)$.  \n",
    "hence $\\inv{h_4} h_1 h_3 $ fixes i.  \n",
    "hence $\\inv{h_4} h_1 h_3 \\in G_{i+1}'$ and also in $G_i'$  \n",
    "Let $g_5 \\gets \\inv{h_4} h_1 h_3 (g_5 \\in G_i')$"
   ]
  },
  {
   "cell_type": "markdown",
   "metadata": {},
   "source": [
    "$$\n",
    "\\arrthree{\n",
    "x &= h_1 h_3 g_4\n",
    "\\\\ &=\n",
    "h_4 \\inv{h_4} h_1 h_3 g_4\n",
    "\\\\ &=\n",
    "h_4 g_5 g_4\n",
    "\\\\ &=\n",
    "h_4 g_6 & \\commentgray{for some $g_6 \\in G_i'$}\n",
    "}\n",
    "$$\n",
    "\n",
    "Thus, $x = h_4 g_6 \\in \\Ua_{i-1} G_i' = G_{i-1}'$.  \n",
    "Hence $G_i'$ is a group"
   ]
  },
  {
   "cell_type": "markdown",
   "metadata": {},
   "source": [
    " "
   ]
  },
  {
   "cell_type": "markdown",
   "metadata": {},
   "source": [
    " "
   ]
  },
  {
   "cell_type": "markdown",
   "metadata": {},
   "source": [
    " "
   ]
  },
  {
   "cell_type": "markdown",
   "metadata": {},
   "source": [
    " "
   ]
  },
  {
   "cell_type": "markdown",
   "metadata": {},
   "source": [
    " "
   ]
  },
  {
   "cell_type": "markdown",
   "metadata": {},
   "source": [
    " "
   ]
  },
  {
   "cell_type": "markdown",
   "metadata": {},
   "source": [
    " "
   ]
  },
  {
   "cell_type": "markdown",
   "metadata": {},
   "source": [
    " "
   ]
  },
  {
   "cell_type": "markdown",
   "metadata": {},
   "source": [
    " "
   ]
  },
  {
   "cell_type": "markdown",
   "metadata": {},
   "source": [
    " "
   ]
  },
  {
   "cell_type": "markdown",
   "metadata": {},
   "source": [
    " "
   ]
  },
  {
   "cell_type": "markdown",
   "metadata": {},
   "source": [
    " "
   ]
  },
  {
   "cell_type": "markdown",
   "metadata": {},
   "source": [
    " "
   ]
  },
  {
   "cell_type": "markdown",
   "metadata": {},
   "source": [
    " "
   ]
  }
 ],
 "metadata": {
  "hide_input": true,
  "kernelspec": {
   "display_name": "Python 3",
   "language": "python3",
   "name": "python3"
  },
  "language_info": {
   "codemirror_mode": {
    "name": "ipython",
    "version": 3
   },
   "file_extension": ".py",
   "mimetype": "text/x-python",
   "name": "python",
   "nbconvert_exporter": "python",
   "pygments_lexer": "ipython3"
  },
  "latex_envs": {
   "bibliofile": "biblio.bib",
   "cite_by": "apalike",
   "current_citInitial": 1,
   "eqLabelWithNumbers": true,
   "eqNumInitial": 0
  },
  "toc": {
   "toc_cell": false,
   "toc_number_sections": true,
   "toc_threshold": 6,
   "toc_window_display": false
  }
 },
 "nbformat": 4,
 "nbformat_minor": 0
}
