{
 "cells": [
  {
   "cell_type": "code",
   "metadata": {},
   "outputs": [],
   "source": [
    "import graphviz as gv\n",
    "import math\n",
    "import numpy as np"
   ]
  },
  {
   "cell_type": "code",
   "metadata": {},
   "outputs": [],
   "source": [
    "def nCr(n,r):\n",
    "    f = math.factorial\n",
    "    return f(n) // f(r) // f(n-r)"
   ]
  },
  {
   "cell_type": "code",
   "metadata": {},
   "outputs": [],
   "source": [
    "def get_graph(N):\n",
    "    graph = gv.Graph()\n",
    "    graph.node('0c0', label='1')\n",
    "    for n in range(1, N+1):\n",
    "        for r in range(n+1):\n",
    "            curr_node = str(n)+'c'+str(r)\n",
    "            graph.node(curr_node, label=str(nCr(n,r)))\n",
    "            if(r>0):\n",
    "                left_parent = str(n-1) + 'c' + str(r-1)\n",
    "                graph.edge(left_parent, curr_node)\n",
    "            if(r<n):\n",
    "                right_parent = str(n-1) + 'c' + str(r) \n",
    "                graph.edge(right_parent, curr_node)\n",
    "    return graph"
   ]
  },
  {
   "cell_type": "code",
   "metadata": {},
   "outputs": [],
   "source": [
    "graph = get_graph(3)\n",
    "graph.node('0c0', color='green', style='filled', label='3\\n[2]')\n",
    "graph"
   ]
  },
  {
   "cell_type": "code",
   "metadata": {},
   "outputs": [],
   "source": [
    "# output: which edges to remove\n",
    "def get_edges(ne, r, comb, graph=None, debug=False):\n",
    "    edges = [False for _ in range(ne)]\n",
    "    n=ne-1\n",
    "    for edge in range(ne):\n",
    "        if r<1 or n<0:\n",
    "            break\n",
    "        left_p = nCr(n,r-1)\n",
    "        debug and print('n:', n, ' r:', r, ' left:', left_p, ' comb', comb)\n",
    "        # one indexed\n",
    "        # if(comb>left_p):\n",
    "        # zero indexed\n",
    "        if(comb>=left_p):\n",
    "            # dont choose\n",
    "            edges[edge] = False\n",
    "            comb -= left_p\n",
    "        else:\n",
    "            edges[edge] = True\n",
    "            r -= 1\n",
    "        n -= 1\n",
    "    return edges\n",
    "get_edges(ne=6, r=3, comb=1, debug=True)"
   ]
  },
  {
   "cell_type": "code",
   "metadata": {},
   "outputs": [],
   "source": [
    "nv = 4\n",
    "ne = nv*(nv-1)//2\n",
    "graph = get_graph(ne)\n",
    "\n",
    "edges_gt = ['111000','110100','110010','110001',\n",
    "            '101100','101010','101001',\n",
    "            '100110','100101',\n",
    "            '100011',\n",
    "            '011100','011010','011001',\n",
    "            '010110','010101',\n",
    "            '010011',\n",
    "            '001110','001101',\n",
    "            '001011',\n",
    "            '000111'\n",
    "           ]\n",
    "\n",
    "r = 3\n",
    "comb = 14 # one-indexed\n",
    "for comb in range(20):\n",
    "    #print('\\n\\ncomb: ', comb, '\\n\\n')\n",
    "    edges = get_edges(ne, r, comb, debug=False)\n",
    "    str_edges = ''.join([str(int(e)) for e in edges])\n",
    "    if(str_edges != edges_gt[comb]):\n",
    "        print('ix', comb ,' expected:', edges_gt[comb], ' got',str_edges)"
   ]
  },
  {
   "cell_type": "code",
   "metadata": {},
   "outputs": [],
   "source": [
    "# this is supposed to mimic the image \"analysis/images/edges-to-remove.jpg\"\n",
    "ne = 6\n",
    "for r in range(4):\n",
    "    num_comb = nCr(ne,r)\n",
    "    print('{0} r:{1} #comb:{2} {3}'.format('-'*5,r,num_comb,'-'*5))\n",
    "    for comb in range(num_comb):\n",
    "        edges = get_edges(ne=ne, r=r, comb=comb , debug=False)\n",
    "        str_edges = ''.join([str(int(e)) for e in edges])\n",
    "        print(str_edges)\n",
    "    "
   ]
  },
  {
   "cell_type": "code",
   "metadata": {},
   "outputs": [],
   "source": [
    "def get_ne_nv(edges):\n",
    "    ne = len(edges)\n",
    "    nv = (1 + math.sqrt(1+8*ne))//2\n",
    "    nv = int(nv)\n",
    "    return (ne, nv)"
   ]
  },
  {
   "cell_type": "code",
   "metadata": {},
   "outputs": [],
   "source": [
    "def edges_to_adj(edges):\n",
    "    _,nv = get_ne_nv(edges)\n",
    "    adj = np.zeros((nv, nv), dtype=bool)\n",
    "    ix=0\n",
    "    for col in range(1,nv):\n",
    "        for row in range(0,col):\n",
    "            adj[row,col] = edges[ix]\n",
    "            adj[col,row] = edges[ix]\n",
    "            ix+=1\n",
    "    return adj\n",
    "    \n",
    "adj = edges_to_adj([True,  True, True, False, False, False])\n",
    "print(adj.shape)\n",
    "print(adj)"
   ]
  },
  {
   "cell_type": "code",
   "metadata": {},
   "outputs": [],
   "source": [
    "def find_first_edge(adj):\n",
    "    nv = adj.shape[0]\n",
    "    for row in range(nv):\n",
    "        for col in range(row+1,nv):\n",
    "            if(adj[row,col]):\n",
    "                return (row,col)\n",
    "    return (None, None)\n",
    "find_first_edge(adj)"
   ]
  },
  {
   "cell_type": "code",
   "metadata": {},
   "outputs": [],
   "source": [
    "def update_reachability(adj, vertex, visited):\n",
    "    nv = adj.shape[0]\n",
    "    for col in range(nv):\n",
    "        if(adj[vertex, col] and not visited[col]):\n",
    "            visited[col] = True\n",
    "            update_reachability(adj, col, visited)\n",
    "def is_connected(edges, debug=False):\n",
    "    adj = edges_to_adj(edges)\n",
    "    ne,nv = get_ne_nv(edges)\n",
    "    visited = [False for _ in range(nv)]\n",
    "    row,col = find_first_edge(adj)\n",
    "    visited[0] = True\n",
    "    update_reachability(adj, 0, visited)\n",
    "    debug and print('visited', visited)\n",
    "    ixs_false = [ix for (ix,val) in enumerate(visited) if val is False]\n",
    "    return len(ixs_false)==0\n",
    "    \n",
    "#print(is_connected([False, True, False, True, False, True]))\n",
    "print(is_connected([False, True, True], debug=True))"
   ]
  },
  {
   "cell_type": "code",
   "metadata": {},
   "outputs": [],
   "source": [
    "\n",
    "def edges_to_str(edges):\n",
    "    return ''.join([str(int(e)) for e in edges])\n",
    "\n",
    "def generate_graphs(edges, graph, debug=False):\n",
    "    str_edges = edges_to_str(edges)\n",
    "    graph.node(str_edges)\n",
    "    ne,nv = get_ne_nv(edges)\n",
    "    \n",
    "    last_ix = -1\n",
    "    for ix in range(len(edges)-1,-1,-1):\n",
    "        if(edges[ix]==False):\n",
    "            last_ix = ix\n",
    "            break\n",
    "    for edge_rm in range(last_ix+1,ne):\n",
    "        edges_new = [edge for edge in edges]\n",
    "        edges_new[edge_rm] = False\n",
    "        debug and print(edges, last_ix, edges_new, edge_rm, is_connected(edges_new))\n",
    "        str_edges_new = edges_to_str(edges_new)\n",
    "        if(is_connected(edges_new)):\n",
    "            debug and print(edges_new)\n",
    "            graph.node(str_edges_new, color='green')\n",
    "            graph.edge(str_edges, str_edges_new, style='filled', color='green')\n",
    "            generate_graphs(edges_new, graph)\n",
    "        else:\n",
    "            graph.node(str_edges_new, color='red')\n",
    "            graph.edge(str_edges,str_edges_new , style='filled', color='red')\n",
    "\n",
    "nv = 4\n",
    "ne = nCr(nv,2)\n",
    "graph = gv.Graph()\n",
    "k_n = [True for _ in range(ne)]\n",
    "generate_graphs(k_n, graph, debug=False)\n",
    "graph"
   ]
  },
  {
   "cell_type": "code",
   "metadata": {},
   "outputs": [],
   "source": [
    "nv = 4\n",
    "\n",
    "\n",
    "r_max = ne - nv + 1\n",
    "for r in range(4):\n",
    "    num_comb = nCr(ne,r)\n",
    "    print('{0} r:{1} #comb:{2} {3}'.format('-'*5,r,num_comb,'-'*5))\n",
    "    for comb in range(num_comb):\n",
    "        edges = get_edges(ne=ne, r=r, comb=comb , debug=False)\n",
    "        str_edges = ''.join([str(int(e)) for e in edges])\n"
   ]
  },
  {
   "cell_type": "code",
   "metadata": {},
   "outputs": [],
   "source": [
    "list(range(5,-1,-1))"
   ]
  },
  {
   "cell_type": "markdown",
   "metadata": {},
   "source": [
    " "
   ]
  },
  {
   "cell_type": "markdown",
   "metadata": {},
   "source": [
    " "
   ]
  },
  {
   "cell_type": "markdown",
   "metadata": {},
   "source": [
    " "
   ]
  },
  {
   "cell_type": "markdown",
   "metadata": {},
   "source": [
    " "
   ]
  },
  {
   "cell_type": "markdown",
   "metadata": {},
   "source": [
    "Visualizing the call graph "
   ]
  },
  {
   "cell_type": "markdown",
   "metadata": {},
   "source": [
    " "
   ]
  },
  {
   "cell_type": "markdown",
   "metadata": {},
   "source": [
    " "
   ]
  },
  {
   "cell_type": "markdown",
   "metadata": {},
   "source": [
    " "
   ]
  },
  {
   "cell_type": "markdown",
   "metadata": {},
   "source": [
    " "
   ]
  },
  {
   "cell_type": "markdown",
   "metadata": {},
   "source": [
    " "
   ]
  },
  {
   "cell_type": "markdown",
   "metadata": {},
   "source": [
    " "
   ]
  },
  {
   "cell_type": "markdown",
   "metadata": {},
   "source": [
    " "
   ]
  },
  {
   "cell_type": "markdown",
   "metadata": {},
   "source": [
    " "
   ]
  },
  {
   "cell_type": "markdown",
   "metadata": {},
   "source": [
    " "
   ]
  },
  {
   "cell_type": "markdown",
   "metadata": {},
   "source": [
    " "
   ]
  }
 ],
 "metadata": {
  "hide_input": true,
  "kernelspec": {
   "display_name": "Python 3",
   "language": "python",
   "name": "python3"
  },
  "language_info": {
   "codemirror_mode": {
    "name": "ipython",
    "version": 3
   },
   "file_extension": ".py",
   "mimetype": "text/x-python",
   "name": "python",
   "nbconvert_exporter": "python",
   "pygments_lexer": "ipython3"
  },
  "latex_envs": {
   "bibliofile": "biblio.bib",
   "cite_by": "apalike",
   "current_citInitial": 1,
   "eqLabelWithNumbers": true,
   "eqNumInitial": 0
  },
  "nav_menu": {},
  "toc": {
   "navigate_menu": true,
   "number_sections": true,
   "sideBar": false,
   "threshold": 6,
   "toc_cell": false,
   "toc_section_display": "block",
   "toc_window_display": false
  }
 },
 "nbformat": 4,
 "nbformat_minor": 0
}
