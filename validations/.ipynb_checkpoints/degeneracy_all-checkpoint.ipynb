{
 "cells": [
  {
   "cell_type": "code",
   "metadata": {},
   "outputs": [],
   "source": [
    "from certificate import *\n",
    "from find_connected_graphs import *\n",
    "import graphviz as gv"
   ]
  },
  {
   "cell_type": "code",
   "metadata": {},
   "outputs": [],
   "source": [
    "N = 3\n",
    "verbosity = 2\n",
    "\n",
    "\n",
    "print(\"-\"*60)\n",
    "print('start')\n",
    "print(\"=\"*60)\n",
    "for n in range(3,N+1):\n",
    "    fcg = FindConnectedGraphs(n)\n",
    "    for graph in fcg.generate(b_print_stats=False):\n",
    "        verbosity == 2 and print(\"\\n\")\n",
    "        graph.generate_graph_id()\n",
    "        if verbosity == 2:\n",
    "            g_gv = graph.graph_viz()\n",
    "            g_gv.format = 'svg'\n",
    "            g_gv.render('graphs/d_{0}_id_{1}'.format(graph.num_vertices, graph.graph_id))\n",
    "            \n",
    "        cert_val = Certificate.generate2(graph, verbosity=verbosity)\n",
    "    print('#nodes', graph.num_vertices, ' #edges:', graph.num_edges(), ' graph-id:', graph.graph_id, ' certificate:', cert_val)\n",
    "    print(\"-\"*60)\n",
    "    fcg.print_stats()\n",
    "    print(\"=\"*60)"
   ]
  }
 ],
 "metadata": {
  "hide_input": false,
  "kernelspec": {
   "display_name": "Python 3",
   "language": "python",
   "name": "python3"
  },
  "language_info": {
   "codemirror_mode": {
    "name": "ipython",
    "version": 3
   },
   "file_extension": ".py",
   "mimetype": "text/x-python",
   "name": "python",
   "nbconvert_exporter": "python",
   "pygments_lexer": "ipython3"
  },
  "latex_envs": {
   "bibliofile": "biblio.bib",
   "cite_by": "apalike",
   "current_citInitial": 1,
   "eqLabelWithNumbers": true,
   "eqNumInitial": 0
  },
  "nav_menu": {},
  "toc": {
   "navigate_menu": true,
   "number_sections": true,
   "sideBar": false,
   "threshold": 6,
   "toc_cell": false,
   "toc_section_display": "block",
   "toc_window_display": false
  }
 },
 "nbformat": 4,
 "nbformat_minor": 1
}
