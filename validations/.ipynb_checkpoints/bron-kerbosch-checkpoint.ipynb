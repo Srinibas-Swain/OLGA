{
 "cells": [
  {
   "cell_type": "code",
   "execution_count": 3,
   "metadata": {
    "ExecuteTime": {
     "end_time": "2017-02-13T20:43:57.715495",
     "start_time": "2017-02-13T20:43:57.248290"
    },
    "collapsed": false,
    "run_control": {
     "frozen": false,
     "read_only": false
    }
   },
   "outputs": [],
   "source": [
    "import numpy as np\n",
    "from matplotlib import pyplot as plt\n",
    "%matplotlib inline\n",
    "\n",
    "import random as rnd\n",
    "import os\n",
    "import math\n",
    "\n",
    "# required for interactive plotting\n",
    "from __future__ import print_function\n",
    "from ipywidgets import interact, interactive, fixed\n",
    "import ipywidgets as widgets\n",
    "import numpy.polynomial as np_poly\n",
    "\n",
    "from IPython.display import Math\n",
    "from IPython.display import Latex\n",
    "from IPython.display import HTML\n",
    "\n",
    "from pprint import pprint\n",
    "import functools as ft\n",
    "\n",
    "import graphviz as gv\n",
    "import numpy as np"
   ]
  },
  {
   "cell_type": "markdown",
   "metadata": {},
   "source": [
    "initialization\n",
    "$\n",
    "\\newcommand{\\Brace}[1]{\\left\\{#1\\right\\}}\n",
    "\\newcommand{\\Bracket}[1]{\\left[#1\\right]}\n",
    "\\newcommand{\\cases}[1]{\\begin{cases}#1\\end{cases}}\n",
    "\\newcommand{\\cov}[1]{\\text{cov} \\sigma\\left[#1\\right]}\n",
    "\\newcommand{\\diff}[2]{\\frac{d #1}{d #2}}\n",
    "\\newcommand{\\difftwo}[2]{\\frac{d^2 #1}{d {#2}^2}}\n",
    "\\newcommand{\\diffn}[2]{{#1}^{\\prime}(#2)}\n",
    "\\newcommand{\\ds}{\\displaystyle}\n",
    "\\newcommand{\\E}[1]{\\mathbb{E}\\left[ #1 \\right]}\n",
    "\\newcommand{\\expb}[1]{\\exp\\left\\{#1\\right\\}} \n",
    "\\newcommand{\\EXP}[1]{\\exp\\left\\{#1\\right\\}} \n",
    "\\newcommand{\\frachalf}[1]{\\frac{#1}{2}~}\n",
    "\\newcommand{\\fracone}[1]{\\frac{1}{#1}~}\n",
    "\\newcommand{\\fracrec}[1]{\\frac{1}{#1}~}\n",
    "\\newcommand{\\half}{\\fracone{2}}\n",
    "\\newcommand{\\H}[1]{\\mathbb{H}\\left[#1\\right]}\n",
    "\\newcommand{\\Int}[2]{\\displaystyle \\int_{#1}^{#2}~}\n",
    "\\newcommand{\\intinfinf}{\\Int{-\\infty}{\\infty}}\n",
    "\\newcommand{\\inv}[1]{#1^{-1}}\n",
    "\\newcommand{\\invp}[1]{\\left({#1}\\right)^{-1}}\n",
    "\\newcommand{\\KL}[2]{\\text{KL}\\left(#1 \\Vert #2\\right)}\n",
    "\\newcommand{\\Lim}[1]{\\displaystyle \\lim_{#1}}\n",
    "\\newcommand{\\Ln}[1]{\\ln \\left\\(#1\\right\\)}\n",
    "\\newcommand{\\Lnb}[1]{\\ln \\left\\{#1\\right\\} }\n",
    "\\newcommand{\\Mod}[1]{\\left|#1\\right|}\n",
    "\\newcommand{\\Norm}[1]{\\left\\lVert #1 \\right\\rVert}\n",
    "\\newcommand{\\Normsqr}[1]{\\Norm{#1}^2}\n",
    "\\newcommand{\\map}[1]{#1_{\\text{MAP}}}\n",
    "\\newcommand{\\ml}[1]{#1_{\\text{ML}}}\n",
    "\\newcommand{\\MI}[1]{\\mathcal{I}\\left(#1\\right)}\n",
    "\\newcommand{\\P}{\\mathbb{P}}\n",
    "\\newcommand{\\Paran}[1]{\\left(#1\\right)}\n",
    "\\newcommand{\\Partial}[2]{\\frac{\\partial #1}{\\partial #2}}\n",
    "\\newcommand{\\sqrbrkt}[1]{\\Bracket{#1}^2}\n",
    "\\newcommand{\\sqrbrc}[1]{\\Brace{#1}^2}\n",
    "\\newcommand{\\trace}[1]{\\text{Tr}\\left( #1 \\right)}\n",
    "\\newcommand{\\traceb}[1]{\\text{Tr}\\left\\{#1\\right\\}}\n",
    "\\newcommand{\\underl}[1]{\\text{$\\underline{#1}$}}\n",
    "\\newcommand{\\V}[1]{\\mathbb{V}\\left[#1\\right]}\n",
    "$\n",
    "$\n",
    "\\DeclareMathOperator*{\\argmin}{arg\\,min}\n",
    "\\DeclareMathOperator*{\\argmax}{arg\\,max}\n",
    "$\n",
    "$\n",
    "\\newcommand{\\mat}[1]{ \\left[ \\begin{matrix} #1 \\end{matrix} \\right] }\n",
    "\\newcommand{\\matp}[1]{ \\left( \\begin{matrix} #1 \\end{matrix} \\right)}\n",
    "\\newcommand{\\mats}[1]{ \\begin{matrix}#1\\end{matrix} }\n",
    "\\newcommand{\\arrthree}[1]{\n",
    "\\begin{array}{rlr} #1 \\end{array}}\n",
    "$"
   ]
  },
  {
   "cell_type": "markdown",
   "metadata": {},
   "source": [
    "$\n",
    "\\newcommand{\\C}{\\mathbb{C}}\n",
    "\\newcommand{\\Ca}{\\mathcal{C}}\n",
    "\\newcommand{\\Caone}{\\Ca_1}\n",
    "\\newcommand{\\Catwo}{\\Ca_2}\n",
    "\\newcommand{\\Cak}{\\Ca_k}\n",
    "\\newcommand{\\D}{\\mathcal{D}}\n",
    "\\newcommand{\\G}{\\mathcal{G}}\n",
    "\\newcommand{\\I}{\\mathcal{I}}\n",
    "\\newcommand{\\L}{\\mathcal{L}}\n",
    "\\newcommand{\\M}{\\mathcal{M}}\n",
    "\\newcommand{\\N}{\\mathbb{N}}\n",
    "\\newcommand{\\R}{\\mathbb{R}}\n",
    "\\newcommand{\\Ra}{\\mathcal{R}}\n",
    "$\n",
    "$\n",
    "\\newcommand{\\commentgray}[1]{\\color{gray}{\\text{#1}}}\n",
    "$"
   ]
  },
  {
   "cell_type": "markdown",
   "metadata": {},
   "source": [
    "sum, product\n",
    "$\n",
    "\\newcommand{\\sumi}{\\displaystyle \\sum_i}\n",
    "\\newcommand{\\sumiD}{\\displaystyle \\sum_{i=1}^{D}}\n",
    "\\newcommand{\\sumiL}{\\displaystyle \\sum_{i=1}^{L}}\n",
    "\\newcommand{\\sumiN}{\\displaystyle \\sum_{i=1}^{N}}\n",
    "\\newcommand{\\sumjD}{\\displaystyle \\sum_{j=1}^{D}}\n",
    "\\newcommand{\\sumjK}{\\displaystyle \\sum_{j=1}^{K}}\n",
    "\\newcommand{\\sumjMl}{\\sum_{j=1}^{M-1}}\n",
    "\\newcommand{\\sumkK}{\\displaystyle \\sum_{k=1}^{K}}\n",
    "\\newcommand{\\sumkM}{\\displaystyle \\sum_{k=1}^{M}}\n",
    "\\newcommand{\\sumkMl}{\\sum_{k=1}^{M-1}}\n",
    "\\newcommand{\\sumkp}{\\displaystyle \\sum_{k=1}^{p}}\n",
    "\\newcommand{\\summN}{\\displaystyle \\sum_{m=1}^{N}}\n",
    "\\newcommand{\\sumnN}{\\displaystyle \\sum_{n=1}^{N}}\n",
    "$\n",
    "$\n",
    "\\newcommand{\\prodi}{\\displaystyle \\prod_i}\n",
    "\\newcommand{\\prodiD}{\\displaystyle \\prod_{i=1}^{D}}\n",
    "\\newcommand{\\prodiL}{\\displaystyle \\prod_{i=1}^{L}}\n",
    "\\newcommand{\\prodiN}{\\displaystyle \\prod_{i=1}^{N}}\n",
    "\\newcommand{\\prodjK}{\\displaystyle \\prod_{j=1}^{K}}\n",
    "\\newcommand{\\prodkK}{\\displaystyle \\prod_{k=1}^{K}}\n",
    "\\newcommand{\\prodmN}{\\displaystyle \\prod_{m=1}^{N}}\n",
    "\\newcommand{\\prodnN}{\\displaystyle \\prod_{n=1}^{N}}\n",
    "$"
   ]
  },
  {
   "cell_type": "markdown",
   "metadata": {},
   "source": [
    "alphabet shortcuts\n",
    "$\n",
    "\\newcommand{\\ab}{\\mathbf{a}}\n",
    "\\newcommand{\\at}{\\ab^T}\n",
    "\\newcommand{\\Ab}{\\mathbf{A}}\n",
    "\\newcommand{\\At}{\\Ab^T}\n",
    "\\newcommand{\\Ai}{\\inv{\\Ab}}\n",
    "\\newcommand{\\Abjk}{\\Ab_{jk}}\n",
    "\\newcommand{\\bb}{\\mathbf{b}}\n",
    "\\newcommand{\\bt}{\\bb^T}\n",
    "\\newcommand{\\Bb}{\\mathbf{B}}\n",
    "\\newcommand{\\Bt}{\\Bb^T}\n",
    "\\newcommand{\\Cb}{\\mathbf{C}}\n",
    "\\newcommand{\\Cn}{\\Cb_{N}}\n",
    "\\newcommand{\\Db}{\\mathbf{D}}\n",
    "\\newcommand{\\fb}{\\mathbf{f}}\n",
    "\\newcommand{\\fp}{f^{\\prime}}\n",
    "\\newcommand{\\Hb}{\\mathbf{H}}\n",
    "\\newcommand{\\hx}{h(\\xb)}\n",
    "\\newcommand{\\Jb}{\\mathbf{J}}\n",
    "\\newcommand{\\kb}{\\mathbf{k}}\n",
    "\\newcommand{\\kt}{\\kb^T}\n",
    "\\newcommand{\\Kb}{\\mathbf{K}}\n",
    "\\newcommand{\\Lb}{\\mathbf{L}}\n",
    "\\newcommand{\\Lt}{\\Lb^T}\n",
    "\\newcommand{\\Lbi}{\\Lb^{-1}}\n",
    "\\newcommand{\\mb}{\\mathbf{m}}\n",
    "\\newcommand{\\mt}{\\mb^T}\n",
    "\\newcommand{\\mbn}{\\mb_N}\n",
    "\\newcommand{\\mbnt}{\\mbn^T}\n",
    "\\newcommand{\\mbN}{\\mb_N}\n",
    "\\newcommand{\\mbNt}{\\mbn^T}\n",
    "\\newcommand{\\Mb}{\\mathbf{M}}\n",
    "\\newcommand{\\Qb}{\\mathbf{Q}}\n",
    "\\newcommand{\\Rb}{\\mathbf{R}}\n",
    "\\newcommand{\\sb}{\\mathbf{s}}\n",
    "\\newcommand{\\Sb}{\\mathbf{S}}\n",
    "\\newcommand{\\tb}{\\mathbf{t}}\n",
    "\\newcommand{\\tbnn}{\\tb_{N}}\n",
    "\\newcommand{\\tbnp}{\\tb_{N+1}}\n",
    "\\newcommand{\\tt}{\\tb^T}\n",
    "\\newcommand{\\Tb}{\\mathbf{T}}\n",
    "\\newcommand{\\Tt}{\\Tb^T}\n",
    "\\newcommand{\\ub}{\\mathbf{u}}\n",
    "\\newcommand{\\Ub}{\\mathbf{U}}\n",
    "\\newcommand{\\Ut}{\\Ub^T}\n",
    "\\newcommand{\\vb}{\\mathbf{v}}\n",
    "\\newcommand{\\Vb}{\\mathbf{V}}\n",
    "\\newcommand{\\wb}{\\mathbf{w}}\n",
    "\\newcommand{\\wnr}[1]{\\wb^{(\\text{#1})}}\n",
    "\\newcommand{\\wt}{\\wb^T}\n",
    "\\newcommand{\\Wb}{\\mathbf{W}}\n",
    "\\newcommand{\\Wt}{\\Wb^T}\n",
    "\\newcommand{\\Wtilde}{\\widetilde{\\Wb}}\n",
    "\\newcommand{\\Wtildet}{\\Wtilde^T}\n",
    "\\newcommand{\\Xb}{\\mathbf{X}}\n",
    "\\newcommand{\\Xt}{\\Xb^T}\n",
    "\\newcommand{\\Xk}{\\Xb_k}\n",
    "\\newcommand{\\Xkt}{\\Xk^T}\n",
    "\\newcommand{\\Xtilde}{\\widetilde{\\Xb}}\n",
    "\\newcommand{\\Xtildet}{\\Xtilde^T}\n",
    "\\newcommand{\\xb}{\\mathbf{x}}\n",
    "\\newcommand{\\xt}{\\xb^T}\n",
    "\\newcommand{\\xtilde}{\\widetilde{\\xb}}\n",
    "\\newcommand{\\xtilden}{\\xtilde_n}\n",
    "\\newcommand{\\xtildent}{\\xtilden^T}\n",
    "\\newcommand{\\xp}{x^{\\prime}}\n",
    "\\newcommand{\\xbp}{\\xb^{\\prime}}\n",
    "\\newcommand{\\xbm}{\\xb_m}\n",
    "\\newcommand{\\xbn}{\\xb_n}\n",
    "\\newcommand{\\xbnp}{\\xb_{N+1}}\n",
    "\\newcommand{\\xab}{\\mathbf{x_a}}\n",
    "\\newcommand{\\xabt}{\\mathbf{x_a}^T}\n",
    "\\newcommand{\\xbb}{\\mathbf{x_b}}\n",
    "\\newcommand{\\xbbt}{\\mathbf{x_b}^T}\n",
    "\\newcommand{\\yb}{\\mathbf{y}}\n",
    "\\newcommand{\\yt}{\\yb^T}\n",
    "\\newcommand{\\yx}{y(\\xb)}\n",
    "\\newcommand{\\Yb}{\\mathbf{Y}}\n",
    "\\newcommand{\\Yt}{\\Yb^T}\n",
    "\\newcommand{\\zb}{\\mathbf{z}}\n",
    "\\newcommand{\\zt}{\\zb^T}\n",
    "\\newcommand{\\zbm}{\\zb_m}\n",
    "\\newcommand{\\zbn}{\\zb_n}\n",
    "\\newcommand{\\zbnp}{\\zb_{n-1}}\n",
    "\\newcommand{\\znk}{\\zb_{nk}}\n",
    "\\newcommand{\\znpj}{\\zb_{n-1,j}}\n",
    "\\newcommand{\\Zb}{\\mathbf{Z}}\n",
    "$"
   ]
  },
  {
   "cell_type": "markdown",
   "metadata": {},
   "source": [
    "math shortcuts\n",
    "$\n",
    "\\newcommand{\\alphab}{\\pmb{\\alpha}}\n",
    "\\newcommand{\\alphabt}{\\alphab^T}\n",
    "\\newcommand{\\betab}{\\pmb{\\beta}}\n",
    "\\newcommand{\\betabp}{\\betab^{\\prime}}\n",
    "\\newcommand{\\chib}{\\boldsymbol{\\chi}}\n",
    "\\newcommand{\\etab}{\\pmb{\\eta}}\n",
    "\\newcommand{\\etabp}{\\etab^{\\prime}}\n",
    "\\newcommand{\\etat}{\\eta^T}\n",
    "\\newcommand{\\etabt}{\\etab^T}\n",
    "\\newcommand{\\Lambdab}{\\pmb{\\Lambda}}\n",
    "\\newcommand{\\laa}{\\Lambda_{aa}}\n",
    "\\newcommand{\\laai}{\\Lambda_{aa}^{-1}}\n",
    "\\newcommand{\\lab}{\\Lambda_{ab}}\n",
    "\\newcommand{\\lba}{\\Lambda_{ba}}\n",
    "\\newcommand{\\lbb}{\\Lambda_{bb}}\n",
    "\\newcommand{\\lbbi}{\\Lambda_{bb}^{-1}}\n",
    "\\newcommand{\\li}{\\Lambda^{-1}}\n",
    "\\newcommand{\\Li}{\\Lambda^{-1}}\n",
    "\\newcommand{\\mub}{\\pmb{\\mu}}\n",
    "\\newcommand{\\mut}{\\mub^T}\n",
    "\\newcommand{\\muab}{\\pmb{\\mu}_a}\n",
    "\\newcommand{\\mubb}{\\pmb{\\mu}_b}\n",
    "\\newcommand{\\Phib}{\\pmb{\\Phi}}\n",
    "\\newcommand{\\Phibt}{\\Phib^T}\n",
    "\\newcommand{\\pib}{\\pmb{\\pi}}\n",
    "\\newcommand{\\sigmasqr}{\\sigma^2}\n",
    "\\newcommand{\\saa}{\\Sigma_{aa}}\n",
    "\\newcommand{\\sab}{\\Sigma_{ab}}\n",
    "\\newcommand{\\sba}{\\Sigma_{ba}}\n",
    "\\newcommand{\\sbb}{\\Sigma_{bb}}\n",
    "\\newcommand{\\Sigmai}{\\inv{\\Sigma}}\n",
    "\\newcommand{\\thetab}{\\pmb{\\theta}}\n",
    "\\newcommand{\\thetat}{\\thetab^T}\n",
    "\\newcommand{\\thetabh}{\\hat{\\thetab}}\n",
    "\\newcommand{\\thetaold}{\\thetab^{\\text{old}}}\n",
    "$\n",
    "$\n",
    "\\newcommand{\\zerob}{\\pmb{0}}\n",
    "\\newcommand{\\oneb}{\\pmb{1}}\n",
    "\\newcommand{\\ed}{\\mathbb{E}_{\\D}}\n",
    "\\newcommand{\\edyx}{\\ed\\left[y(\\xb ; \\D)\\right]}\n",
    "\\newcommand{\\dx}{~dx}\n",
    "\\newcommand{\\dxb}{~d\\xb}\n",
    "\\newcommand{\\pxdxb}{p(\\xb) \\dxb}\n",
    "\\newcommand{\\dwb}{~d\\wb}\n",
    "$"
   ]
  },
  {
   "cell_type": "markdown",
   "metadata": {},
   "source": [
    "aliases for distributions\n",
    "$\\newcommand{\\multivarcoeff}{\\frac{1}{(2\\pi)^{D/2}}\n",
    "\\frac{1}{\\left| \\mathbf{\\Sigma}\\right|^{1/2}}}$\n",
    "$\\newcommand{\\multivarexp}[2]\n",
    "{\n",
    "\\left\\{\n",
    " -\\frac{1}{2} \n",
    " {#1}^T \n",
    " #2\n",
    " {#1}\n",
    "\\right\\}\n",
    "}$\n",
    "$\\newcommand{\\multivarexpx}[1]{\\multivarexp{#1}{\\Sigma^{-1}}}$\n",
    "$\\newcommand{\\multivarexpstd}{\\multivarexpx{(\\xb-\\mub)}}$\n",
    "$\\newcommand{\\gam}{\\operatorname{Gam}}$\n",
    "$\n",
    "\\newcommand{\\Nl}[3]{\\mathcal{N}\\left(#1 \\mid #2, #3\\right)}\n",
    "\\newcommand{\\Nstdx}{\\Nl{\\mathbf{x}}{\\mathbf{\\mu}}{\\Sigma}}\n",
    "$"
   ]
  },
  {
   "cell_type": "code",
   "execution_count": 4,
   "metadata": {
    "ExecuteTime": {
     "end_time": "2017-02-13T20:43:59.176948",
     "start_time": "2017-02-13T20:43:59.164552"
    },
    "collapsed": false,
    "run_control": {
     "frozen": false,
     "read_only": false
    }
   },
   "outputs": [
    {
     "data": {
      "text/plain": [
       "'/home/dragon/neo-human/programs/vanity-fair/hydrogen/validations/graph.py'"
      ]
     },
     "execution_count": 4,
     "metadata": {},
     "output_type": "execute_result"
    }
   ],
   "source": [
    "import graph\n",
    "graph.__file__"
   ]
  },
  {
   "cell_type": "code",
   "execution_count": 5,
   "metadata": {
    "ExecuteTime": {
     "end_time": "2017-02-13T20:44:00.713364",
     "start_time": "2017-02-13T20:44:00.709232"
    },
    "collapsed": true,
    "run_control": {
     "frozen": false,
     "read_only": false
    }
   },
   "outputs": [],
   "source": [
    "import builtins\n",
    "from IPython.lib import deepreload\n",
    "builtins.reload = deepreload.reload"
   ]
  },
  {
   "cell_type": "code",
   "execution_count": 4,
   "metadata": {
    "ExecuteTime": {
     "end_time": "2017-02-12T01:22:29.587863",
     "start_time": "2017-02-12T01:22:29.576893"
    },
    "collapsed": false,
    "run_control": {
     "frozen": false,
     "read_only": false
    }
   },
   "outputs": [
    {
     "name": "stdout",
     "output_type": "stream",
     "text": [
      "Reloading functools\n",
      "Reloading _functools\n",
      "Reloading abc\n",
      "Reloading _weakrefset\n",
      "Reloading _weakref\n",
      "Reloading collections\n",
      "Reloading _collections_abc\n",
      "Reloading sys\n",
      "Reloading operator\n",
      "Reloading builtins\n",
      "<module 'graph' from 'graph.py'>\n"
     ]
    }
   ],
   "source": [
    "deepreload.reload(graph, exclude=('numpy._globals', 'np._globals', 'numpy'))"
   ]
  },
  {
   "cell_type": "code",
   "execution_count": 6,
   "metadata": {
    "ExecuteTime": {
     "end_time": "2017-02-13T20:44:03.283066",
     "start_time": "2017-02-13T20:44:03.225469"
    },
    "collapsed": false,
    "run_control": {
     "frozen": false,
     "read_only": false
    }
   },
   "outputs": [
    {
     "data": {
      "image/svg+xml": [
       "<?xml version=\"1.0\" encoding=\"UTF-8\" standalone=\"no\"?>\n",
       "<!DOCTYPE svg PUBLIC \"-//W3C//DTD SVG 1.1//EN\"\n",
       " \"http://www.w3.org/Graphics/SVG/1.1/DTD/svg11.dtd\">\n",
       "<!-- Generated by graphviz version 2.38.0 (20140413.2041)\n",
       " -->\n",
       "<!-- Title: %3 Pages: 1 -->\n",
       "<svg width=\"134pt\" height=\"106pt\"\n",
       " viewBox=\"0.00 0.00 134.21 106.41\" xmlns=\"http://www.w3.org/2000/svg\" xmlns:xlink=\"http://www.w3.org/1999/xlink\">\n",
       "<g id=\"graph0\" class=\"graph\" transform=\"scale(1 1) rotate(0) translate(67.2662 42.9605)\">\n",
       "<title>%3</title>\n",
       "<polygon fill=\"white\" stroke=\"none\" points=\"-67.2662,63.4472 -67.2662,-42.9605 66.9402,-42.9605 66.9402,63.4472 -67.2662,63.4472\"/>\n",
       "<!-- 0 -->\n",
       "<g id=\"node1\" class=\"node\"><title>0</title>\n",
       "<ellipse fill=\"none\" stroke=\"black\" cx=\"-36.2662\" cy=\"-20.4867\" rx=\"27\" ry=\"18\"/>\n",
       "<text text-anchor=\"middle\" x=\"-36.2662\" y=\"-16.7867\" font-family=\"Times,serif\" font-size=\"14.00\">0</text>\n",
       "</g>\n",
       "<!-- 1 -->\n",
       "<g id=\"node2\" class=\"node\"><title>1</title>\n",
       "<ellipse fill=\"none\" stroke=\"black\" cx=\"35.9402\" cy=\"-20.9605\" rx=\"27\" ry=\"18\"/>\n",
       "<text text-anchor=\"middle\" x=\"35.9402\" y=\"-17.2605\" font-family=\"Times,serif\" font-size=\"14.00\">1</text>\n",
       "</g>\n",
       "<!-- 0&#45;&#45;1 -->\n",
       "<g id=\"edge1\" class=\"edge\"><title>0&#45;&#45;1</title>\n",
       "<path fill=\"none\" stroke=\"black\" d=\"M-8.96803,-20.6658C-3.21715,-20.7035 2.85118,-20.7434 8.60348,-20.7811\"/>\n",
       "</g>\n",
       "<!-- 2 -->\n",
       "<g id=\"node3\" class=\"node\"><title>2</title>\n",
       "<ellipse fill=\"none\" stroke=\"black\" cx=\"0.325952\" cy=\"41.4472\" rx=\"27\" ry=\"18\"/>\n",
       "<text text-anchor=\"middle\" x=\"0.325952\" y=\"45.1472\" font-family=\"Times,serif\" font-size=\"14.00\">2</text>\n",
       "</g>\n",
       "<!-- 0&#45;&#45;2 -->\n",
       "<g id=\"edge2\" class=\"edge\"><title>0&#45;&#45;2</title>\n",
       "<path fill=\"none\" stroke=\"black\" d=\"M-26.2672,-3.56299C-21.104,5.17596 -14.8224,15.8079 -9.66091,24.5439\"/>\n",
       "</g>\n",
       "<!-- 1&#45;&#45;2 -->\n",
       "<g id=\"edge3\" class=\"edge\"><title>1&#45;&#45;2</title>\n",
       "<path fill=\"none\" stroke=\"black\" d=\"M26.2085,-3.90732C21.1832,4.89849 15.0695,15.6118 10.0459,24.4146\"/>\n",
       "</g>\n",
       "</g>\n",
       "</svg>\n"
      ],
      "text/plain": [
       "<graphviz.dot.Graph at 0x7fa98120d5f8>"
      ]
     },
     "execution_count": 6,
     "metadata": {},
     "output_type": "execute_result"
    }
   ],
   "source": [
    "k3 = graph.UGraph.from_string(3, '1,2 : 2')\n",
    "k3.graph_viz()"
   ]
  },
  {
   "cell_type": "code",
   "execution_count": 85,
   "metadata": {
    "ExecuteTime": {
     "end_time": "2017-02-13T22:00:18.162083",
     "start_time": "2017-02-13T22:00:18.156015"
    },
    "collapsed": false
   },
   "outputs": [
    {
     "data": {
      "text/plain": [
       "True"
      ]
     },
     "execution_count": 85,
     "metadata": {},
     "output_type": "execute_result"
    }
   ],
   "source": [
    "R = set()\n",
    "R == set()"
   ]
  },
  {
   "cell_type": "code",
   "execution_count": 86,
   "metadata": {
    "ExecuteTime": {
     "end_time": "2017-02-13T22:00:37.887564",
     "start_time": "2017-02-13T22:00:37.847943"
    },
    "collapsed": false,
    "run_control": {
     "frozen": false,
     "read_only": false
    }
   },
   "outputs": [
    {
     "name": "stdout",
     "output_type": "stream",
     "text": [
      " R: {}  X: {}  P: {0, 1, 2}  v: 0\n",
      "   R: {0}  X: {}  P: {1, 2}  v: 1\n",
      "     R: {0, 1}  X: {}  P: {2}  v: 2\n",
      "       max:clique: {0, 1, 2}\n",
      "   R: {0}  X: {}  P: {1, 2}  v: 2\n",
      " R: {}  X: {}  P: {0, 1, 2}  v: 1\n",
      "   R: {1}  X: {0}  P: {2}  v: 2\n",
      " R: {}  X: {}  P: {0, 1, 2}  v: 2\n",
      "[{0, 1, 2}]\n"
     ]
    }
   ],
   "source": [
    "def bron_kerbosch1(graph, R, P, X, cliques=list(), print_c=True, level=0):\n",
    "    if (P == set()) and (X == set()):\n",
    "        if print_c:\n",
    "            print('  '*level, 'max:clique:', R)\n",
    "        cliques.append(R)\n",
    "        return\n",
    "    P_dirty = {v for v in P}\n",
    "    R_str = '{}' if R==set() else R\n",
    "    X_str = '{}' if X==set() else X\n",
    "    for v in P:\n",
    "        print('  '*level,'R:', R_str, ' X:', X_str, ' P:', P, ' v:', v)\n",
    "        nbrs_v = set(graph.neighbors(v))\n",
    "        bron_kerbosch1(graph, R.union({v}), \n",
    "                       P_dirty.intersection(nbrs_v),\n",
    "                       X.intersection(nbrs_v), cliques, print_c, level+1)\n",
    "        P_dirty.difference_update({v})\n",
    "        X = X.union({v})\n",
    "    \n",
    "cliques = list()\n",
    "bron_kerbosch1(k3, set(), set(list(range(k3.num_vertices))), set(), cliques)\n",
    "print(cliques)"
   ]
  },
  {
   "cell_type": "code",
   "execution_count": 8,
   "metadata": {
    "ExecuteTime": {
     "end_time": "2017-02-13T20:44:08.294581",
     "start_time": "2017-02-13T20:44:08.229029"
    },
    "collapsed": false,
    "run_control": {
     "frozen": false,
     "read_only": false
    }
   },
   "outputs": [
    {
     "name": "stdout",
     "output_type": "stream",
     "text": [
      "1,4,5,7 : 2,5 : 3,6,7 : 4,5,7 : 5 : 6 : 7\n"
     ]
    },
    {
     "data": {
      "image/svg+xml": [
       "<?xml version=\"1.0\" encoding=\"UTF-8\" standalone=\"no\"?>\n",
       "<!DOCTYPE svg PUBLIC \"-//W3C//DTD SVG 1.1//EN\"\n",
       " \"http://www.w3.org/Graphics/SVG/1.1/DTD/svg11.dtd\">\n",
       "<!-- Generated by graphviz version 2.38.0 (20140413.2041)\n",
       " -->\n",
       "<!-- Title: %3 Pages: 1 -->\n",
       "<svg width=\"383pt\" height=\"365pt\"\n",
       " viewBox=\"0.00 0.00 382.86 364.86\" xmlns=\"http://www.w3.org/2000/svg\" xmlns:xlink=\"http://www.w3.org/1999/xlink\">\n",
       "<g id=\"graph0\" class=\"graph\" transform=\"scale(1 1) rotate(0) translate(4 360.856)\">\n",
       "<title>%3</title>\n",
       "<polygon fill=\"white\" stroke=\"none\" points=\"-4,4 -4,-360.856 378.856,-360.856 378.856,4 -4,4\"/>\n",
       "<!-- 1 -->\n",
       "<g id=\"node1\" class=\"node\"><title>1</title>\n",
       "<ellipse fill=\"none\" stroke=\"black\" cx=\"347.856\" cy=\"-178.428\" rx=\"27\" ry=\"18\"/>\n",
       "<text text-anchor=\"middle\" x=\"347.856\" y=\"-174.728\" font-family=\"Times,serif\" font-size=\"14.00\">1</text>\n",
       "</g>\n",
       "<!-- 2 -->\n",
       "<g id=\"node2\" class=\"node\"><title>2</title>\n",
       "<ellipse fill=\"none\" stroke=\"black\" cx=\"187.428\" cy=\"-338.856\" rx=\"27\" ry=\"18\"/>\n",
       "<text text-anchor=\"middle\" x=\"187.428\" y=\"-335.156\" font-family=\"Times,serif\" font-size=\"14.00\">2</text>\n",
       "</g>\n",
       "<!-- 1&#45;&#45;2 -->\n",
       "<g id=\"edge1\" class=\"edge\"><title>1&#45;&#45;2</title>\n",
       "<path fill=\"none\" stroke=\"black\" d=\"M332.764,-193.521C302.187,-224.097 233.238,-293.047 202.598,-323.687\"/>\n",
       "</g>\n",
       "<!-- 5 -->\n",
       "<g id=\"node5\" class=\"node\"><title>5</title>\n",
       "<ellipse fill=\"none\" stroke=\"black\" cx=\"300.868\" cy=\"-291.868\" rx=\"27\" ry=\"18\"/>\n",
       "<text text-anchor=\"middle\" x=\"300.868\" y=\"-288.168\" font-family=\"Times,serif\" font-size=\"14.00\">5</text>\n",
       "</g>\n",
       "<!-- 1&#45;&#45;5 -->\n",
       "<g id=\"edge4\" class=\"edge\"><title>1&#45;&#45;5</title>\n",
       "<path fill=\"none\" stroke=\"black\" d=\"M340.514,-196.153C331.687,-217.465 316.963,-253.012 308.158,-274.268\"/>\n",
       "</g>\n",
       "<!-- 6 -->\n",
       "<g id=\"node6\" class=\"node\"><title>6</title>\n",
       "<ellipse fill=\"none\" stroke=\"black\" cx=\"73.9883\" cy=\"-291.868\" rx=\"27\" ry=\"18\"/>\n",
       "<text text-anchor=\"middle\" x=\"73.9883\" y=\"-288.168\" font-family=\"Times,serif\" font-size=\"14.00\">6</text>\n",
       "</g>\n",
       "<!-- 1&#45;&#45;6 -->\n",
       "<g id=\"edge6\" class=\"edge\"><title>1&#45;&#45;6</title>\n",
       "<path fill=\"none\" stroke=\"black\" d=\"M324.507,-188.1C272.765,-209.532 148.966,-260.811 97.2791,-282.221\"/>\n",
       "</g>\n",
       "<!-- 8 -->\n",
       "<g id=\"node8\" class=\"node\"><title>8</title>\n",
       "<ellipse fill=\"none\" stroke=\"black\" cx=\"73.9883\" cy=\"-64.9883\" rx=\"27\" ry=\"18\"/>\n",
       "<text text-anchor=\"middle\" x=\"73.9883\" y=\"-61.2883\" font-family=\"Times,serif\" font-size=\"14.00\">8</text>\n",
       "</g>\n",
       "<!-- 1&#45;&#45;8 -->\n",
       "<g id=\"edge12\" class=\"edge\"><title>1&#45;&#45;8</title>\n",
       "<path fill=\"none\" stroke=\"black\" d=\"M324.507,-168.756C272.765,-147.324 148.966,-96.0449 97.2791,-74.6357\"/>\n",
       "</g>\n",
       "<!-- 3 -->\n",
       "<g id=\"node3\" class=\"node\"><title>3</title>\n",
       "<ellipse fill=\"none\" stroke=\"black\" cx=\"300.868\" cy=\"-64.9883\" rx=\"27\" ry=\"18\"/>\n",
       "<text text-anchor=\"middle\" x=\"300.868\" y=\"-61.2883\" font-family=\"Times,serif\" font-size=\"14.00\">3</text>\n",
       "</g>\n",
       "<!-- 2&#45;&#45;3 -->\n",
       "<g id=\"edge2\" class=\"edge\"><title>2&#45;&#45;3</title>\n",
       "<path fill=\"none\" stroke=\"black\" d=\"M194.697,-321.308C215.186,-271.842 273.244,-131.678 293.66,-82.3905\"/>\n",
       "</g>\n",
       "<!-- 2&#45;&#45;6 -->\n",
       "<g id=\"edge7\" class=\"edge\"><title>2&#45;&#45;6</title>\n",
       "<path fill=\"none\" stroke=\"black\" d=\"M164.472,-329.348C144.92,-321.249 116.953,-309.664 97.2998,-301.524\"/>\n",
       "</g>\n",
       "<!-- 4 -->\n",
       "<g id=\"node4\" class=\"node\"><title>4</title>\n",
       "<ellipse fill=\"none\" stroke=\"black\" cx=\"27\" cy=\"-178.428\" rx=\"27\" ry=\"18\"/>\n",
       "<text text-anchor=\"middle\" x=\"27\" y=\"-174.728\" font-family=\"Times,serif\" font-size=\"14.00\">4</text>\n",
       "</g>\n",
       "<!-- 3&#45;&#45;4 -->\n",
       "<g id=\"edge3\" class=\"edge\"><title>3&#45;&#45;4</title>\n",
       "<path fill=\"none\" stroke=\"black\" d=\"M277.518,-74.6601C225.777,-96.0921 101.977,-147.372 50.2907,-168.781\"/>\n",
       "</g>\n",
       "<!-- 7 -->\n",
       "<g id=\"node7\" class=\"node\"><title>7</title>\n",
       "<ellipse fill=\"none\" stroke=\"black\" cx=\"187.428\" cy=\"-18\" rx=\"27\" ry=\"18\"/>\n",
       "<text text-anchor=\"middle\" x=\"187.428\" y=\"-14.3\" font-family=\"Times,serif\" font-size=\"14.00\">7</text>\n",
       "</g>\n",
       "<!-- 3&#45;&#45;7 -->\n",
       "<g id=\"edge10\" class=\"edge\"><title>3&#45;&#45;7</title>\n",
       "<path fill=\"none\" stroke=\"black\" d=\"M277.912,-55.4795C258.36,-47.3809 230.393,-35.7964 210.74,-27.6559\"/>\n",
       "</g>\n",
       "<!-- 3&#45;&#45;8 -->\n",
       "<g id=\"edge13\" class=\"edge\"><title>3&#45;&#45;8</title>\n",
       "<path fill=\"none\" stroke=\"black\" d=\"M273.501,-64.9883C229.776,-64.9883 144.662,-64.9883 101.099,-64.9883\"/>\n",
       "</g>\n",
       "<!-- 4&#45;&#45;5 -->\n",
       "<g id=\"edge5\" class=\"edge\"><title>4&#45;&#45;5</title>\n",
       "<path fill=\"none\" stroke=\"black\" d=\"M50.3498,-188.1C102.091,-209.532 225.891,-260.811 277.577,-282.221\"/>\n",
       "</g>\n",
       "<!-- 4&#45;&#45;6 -->\n",
       "<g id=\"edge8\" class=\"edge\"><title>4&#45;&#45;6</title>\n",
       "<path fill=\"none\" stroke=\"black\" d=\"M34.3419,-196.153C43.1694,-217.465 57.8935,-253.012 66.698,-274.268\"/>\n",
       "</g>\n",
       "<!-- 4&#45;&#45;8 -->\n",
       "<g id=\"edge14\" class=\"edge\"><title>4&#45;&#45;8</title>\n",
       "<path fill=\"none\" stroke=\"black\" d=\"M34.3419,-160.703C43.1694,-139.392 57.8935,-103.845 66.698,-82.5888\"/>\n",
       "</g>\n",
       "<!-- 5&#45;&#45;6 -->\n",
       "<g id=\"edge9\" class=\"edge\"><title>5&#45;&#45;6</title>\n",
       "<path fill=\"none\" stroke=\"black\" d=\"M273.501,-291.868C229.776,-291.868 144.662,-291.868 101.099,-291.868\"/>\n",
       "</g>\n",
       "<!-- 6&#45;&#45;7 -->\n",
       "<g id=\"edge11\" class=\"edge\"><title>6&#45;&#45;7</title>\n",
       "<path fill=\"none\" stroke=\"black\" d=\"M81.2571,-274.32C101.747,-224.854 159.805,-84.6892 180.22,-35.4021\"/>\n",
       "</g>\n",
       "<!-- 7&#45;&#45;8 -->\n",
       "<g id=\"edge15\" class=\"edge\"><title>7&#45;&#45;8</title>\n",
       "<path fill=\"none\" stroke=\"black\" d=\"M164.472,-27.5088C144.92,-35.6074 116.953,-47.1919 97.2998,-55.3324\"/>\n",
       "</g>\n",
       "</g>\n",
       "</svg>\n"
      ],
      "text/plain": [
       "<graphviz.dot.Graph at 0x7fa981225da0>"
      ]
     },
     "execution_count": 8,
     "metadata": {},
     "output_type": "execute_result"
    }
   ],
   "source": [
    "edges_all = [[2,5,6, 8],[3,6],[4,7,8],\n",
    "         [5, 6,8], [6], [7], [8]]\n",
    "edges_all = [[str(v-1) for v in edges_v] for edges_v in edges_all]\n",
    "str_edges = \" : \".join([\",\".join(edges_v) for edges_v in edges_all])\n",
    "print(str_edges)\n",
    "graph1 = graph.UGraph.from_string(8, str_edges)\n",
    "graph1.graph_viz([str(v+1) for v in range(graph1.num_vertices)], 'circo')"
   ]
  },
  {
   "cell_type": "code",
   "execution_count": 10,
   "metadata": {
    "ExecuteTime": {
     "end_time": "2017-02-13T20:44:15.056138",
     "start_time": "2017-02-13T20:44:14.982324"
    },
    "collapsed": false,
    "run_control": {
     "frozen": false,
     "read_only": false
    }
   },
   "outputs": [
    {
     "data": {
      "image/svg+xml": [
       "<?xml version=\"1.0\" encoding=\"UTF-8\" standalone=\"no\"?>\n",
       "<!DOCTYPE svg PUBLIC \"-//W3C//DTD SVG 1.1//EN\"\n",
       " \"http://www.w3.org/Graphics/SVG/1.1/DTD/svg11.dtd\">\n",
       "<!-- Generated by graphviz version 2.38.0 (20140413.2041)\n",
       " -->\n",
       "<!-- Title: %3 Pages: 1 -->\n",
       "<svg width=\"383pt\" height=\"365pt\"\n",
       " viewBox=\"0.00 0.00 382.86 364.86\" xmlns=\"http://www.w3.org/2000/svg\" xmlns:xlink=\"http://www.w3.org/1999/xlink\">\n",
       "<g id=\"graph0\" class=\"graph\" transform=\"scale(1 1) rotate(0) translate(4 360.856)\">\n",
       "<title>%3</title>\n",
       "<polygon fill=\"white\" stroke=\"none\" points=\"-4,4 -4,-360.856 378.856,-360.856 378.856,4 -4,4\"/>\n",
       "<!-- 1 -->\n",
       "<g id=\"node1\" class=\"node\"><title>1</title>\n",
       "<ellipse fill=\"none\" stroke=\"black\" cx=\"300.868\" cy=\"-64.9883\" rx=\"27\" ry=\"18\"/>\n",
       "<text text-anchor=\"middle\" x=\"300.868\" y=\"-61.2883\" font-family=\"Times,serif\" font-size=\"14.00\">1</text>\n",
       "</g>\n",
       "<!-- 3 -->\n",
       "<g id=\"node2\" class=\"node\"><title>3</title>\n",
       "<ellipse fill=\"none\" stroke=\"black\" cx=\"187.428\" cy=\"-338.856\" rx=\"27\" ry=\"18\"/>\n",
       "<text text-anchor=\"middle\" x=\"187.428\" y=\"-335.156\" font-family=\"Times,serif\" font-size=\"14.00\">3</text>\n",
       "</g>\n",
       "<!-- 1&#45;&#45;3 -->\n",
       "<g id=\"edge1\" class=\"edge\"><title>1&#45;&#45;3</title>\n",
       "<path fill=\"none\" stroke=\"black\" d=\"M293.599,-82.5366C273.11,-132.003 215.052,-272.167 194.636,-321.454\"/>\n",
       "</g>\n",
       "<!-- 4 -->\n",
       "<g id=\"node3\" class=\"node\"><title>4</title>\n",
       "<ellipse fill=\"none\" stroke=\"black\" cx=\"187.428\" cy=\"-18\" rx=\"27\" ry=\"18\"/>\n",
       "<text text-anchor=\"middle\" x=\"187.428\" y=\"-14.3\" font-family=\"Times,serif\" font-size=\"14.00\">4</text>\n",
       "</g>\n",
       "<!-- 1&#45;&#45;4 -->\n",
       "<g id=\"edge2\" class=\"edge\"><title>1&#45;&#45;4</title>\n",
       "<path fill=\"none\" stroke=\"black\" d=\"M277.912,-55.4795C258.36,-47.3809 230.393,-35.7964 210.74,-27.6559\"/>\n",
       "</g>\n",
       "<!-- 7 -->\n",
       "<g id=\"node7\" class=\"node\"><title>7</title>\n",
       "<ellipse fill=\"none\" stroke=\"black\" cx=\"73.9883\" cy=\"-64.9883\" rx=\"27\" ry=\"18\"/>\n",
       "<text text-anchor=\"middle\" x=\"73.9883\" y=\"-61.2883\" font-family=\"Times,serif\" font-size=\"14.00\">7</text>\n",
       "</g>\n",
       "<!-- 1&#45;&#45;7 -->\n",
       "<g id=\"edge7\" class=\"edge\"><title>1&#45;&#45;7</title>\n",
       "<path fill=\"none\" stroke=\"black\" d=\"M273.501,-64.9883C229.776,-64.9883 144.662,-64.9883 101.099,-64.9883\"/>\n",
       "</g>\n",
       "<!-- 5 -->\n",
       "<g id=\"node5\" class=\"node\"><title>5</title>\n",
       "<ellipse fill=\"none\" stroke=\"black\" cx=\"73.9883\" cy=\"-291.868\" rx=\"27\" ry=\"18\"/>\n",
       "<text text-anchor=\"middle\" x=\"73.9883\" y=\"-288.168\" font-family=\"Times,serif\" font-size=\"14.00\">5</text>\n",
       "</g>\n",
       "<!-- 3&#45;&#45;5 -->\n",
       "<g id=\"edge5\" class=\"edge\"><title>3&#45;&#45;5</title>\n",
       "<path fill=\"none\" stroke=\"black\" d=\"M164.472,-329.348C144.92,-321.249 116.953,-309.664 97.2998,-301.524\"/>\n",
       "</g>\n",
       "<!-- 6 -->\n",
       "<g id=\"node6\" class=\"node\"><title>6</title>\n",
       "<ellipse fill=\"none\" stroke=\"black\" cx=\"300.868\" cy=\"-291.868\" rx=\"27\" ry=\"18\"/>\n",
       "<text text-anchor=\"middle\" x=\"300.868\" y=\"-288.168\" font-family=\"Times,serif\" font-size=\"14.00\">6</text>\n",
       "</g>\n",
       "<!-- 3&#45;&#45;6 -->\n",
       "<g id=\"edge6\" class=\"edge\"><title>3&#45;&#45;6</title>\n",
       "<path fill=\"none\" stroke=\"black\" d=\"M210.384,-329.348C229.936,-321.249 257.904,-309.664 277.557,-301.524\"/>\n",
       "</g>\n",
       "<!-- 4&#45;&#45;7 -->\n",
       "<g id=\"edge9\" class=\"edge\"><title>4&#45;&#45;7</title>\n",
       "<path fill=\"none\" stroke=\"black\" d=\"M164.472,-27.5088C144.92,-35.6074 116.953,-47.1919 97.2998,-55.3324\"/>\n",
       "</g>\n",
       "<!-- 2 -->\n",
       "<g id=\"node4\" class=\"node\"><title>2</title>\n",
       "<ellipse fill=\"none\" stroke=\"black\" cx=\"27\" cy=\"-178.428\" rx=\"27\" ry=\"18\"/>\n",
       "<text text-anchor=\"middle\" x=\"27\" y=\"-174.728\" font-family=\"Times,serif\" font-size=\"14.00\">2</text>\n",
       "</g>\n",
       "<!-- 2&#45;&#45;4 -->\n",
       "<g id=\"edge3\" class=\"edge\"><title>2&#45;&#45;4</title>\n",
       "<path fill=\"none\" stroke=\"black\" d=\"M42.0927,-163.335C72.669,-132.759 141.618,-63.8099 172.259,-33.1695\"/>\n",
       "</g>\n",
       "<!-- 2&#45;&#45;5 -->\n",
       "<g id=\"edge4\" class=\"edge\"><title>2&#45;&#45;5</title>\n",
       "<path fill=\"none\" stroke=\"black\" d=\"M34.3419,-196.153C43.1694,-217.465 57.8935,-253.012 66.698,-274.268\"/>\n",
       "</g>\n",
       "<!-- 2&#45;&#45;7 -->\n",
       "<g id=\"edge8\" class=\"edge\"><title>2&#45;&#45;7</title>\n",
       "<path fill=\"none\" stroke=\"black\" d=\"M34.3419,-160.703C43.1694,-139.392 57.8935,-103.845 66.698,-82.5888\"/>\n",
       "</g>\n",
       "<!-- 8 -->\n",
       "<g id=\"node8\" class=\"node\"><title>8</title>\n",
       "<ellipse fill=\"none\" stroke=\"black\" cx=\"347.856\" cy=\"-178.428\" rx=\"27\" ry=\"18\"/>\n",
       "<text text-anchor=\"middle\" x=\"347.856\" y=\"-174.728\" font-family=\"Times,serif\" font-size=\"14.00\">8</text>\n",
       "</g>\n",
       "<!-- 2&#45;&#45;8 -->\n",
       "<g id=\"edge11\" class=\"edge\"><title>2&#45;&#45;8</title>\n",
       "<path fill=\"none\" stroke=\"black\" d=\"M54.0795,-178.428C114.512,-178.428 259.826,-178.428 320.509,-178.428\"/>\n",
       "</g>\n",
       "<!-- 5&#45;&#45;7 -->\n",
       "<g id=\"edge10\" class=\"edge\"><title>5&#45;&#45;7</title>\n",
       "<path fill=\"none\" stroke=\"black\" d=\"M73.9883,-273.685C73.9883,-231.204 73.9883,-125.825 73.9883,-83.2579\"/>\n",
       "</g>\n",
       "<!-- 5&#45;&#45;8 -->\n",
       "<g id=\"edge12\" class=\"edge\"><title>5&#45;&#45;8</title>\n",
       "<path fill=\"none\" stroke=\"black\" d=\"M97.3382,-282.196C149.08,-260.764 272.879,-209.485 324.566,-188.076\"/>\n",
       "</g>\n",
       "<!-- 6&#45;&#45;8 -->\n",
       "<g id=\"edge13\" class=\"edge\"><title>6&#45;&#45;8</title>\n",
       "<path fill=\"none\" stroke=\"black\" d=\"M308.21,-274.143C317.037,-252.832 331.762,-217.285 340.566,-196.029\"/>\n",
       "</g>\n",
       "</g>\n",
       "</svg>\n"
      ],
      "text/plain": [
       "<graphviz.dot.Graph at 0x7fa981225ef0>"
      ]
     },
     "execution_count": 10,
     "metadata": {},
     "output_type": "execute_result"
    }
   ],
   "source": [
    "graph1_c = graph1.complement()\n",
    "graph1_c.graph_viz([str(v+1) for v in range(graph1.num_vertices)], 'circo')"
   ]
  },
  {
   "cell_type": "code",
   "execution_count": 30,
   "metadata": {
    "ExecuteTime": {
     "end_time": "2017-02-13T21:12:59.709858",
     "start_time": "2017-02-13T21:12:59.699417"
    },
    "collapsed": false
   },
   "outputs": [
    {
     "data": {
      "text/plain": [
       "[(0, 1, 2), (3, 4, None)]"
      ]
     },
     "execution_count": 30,
     "metadata": {},
     "output_type": "execute_result"
    }
   ],
   "source": [
    "import itertools\n",
    "def grouper(n, iterable, fillvalue=None):\n",
    "    \"Collect data into fixed-length chunks or blocks\"\n",
    "    # grouper('ABCDEFG', 3, 'x') --> ABC DEF Gxx\"\n",
    "    args = [iter(iterable)] * n\n",
    "    return itertools.zip_longest(*args, fillvalue=fillvalue)\n",
    "list(grouper(3, list(range(5))))"
   ]
  },
  {
   "cell_type": "code",
   "execution_count": 75,
   "metadata": {
    "ExecuteTime": {
     "end_time": "2017-02-13T21:55:15.979645",
     "start_time": "2017-02-13T21:55:15.975319"
    },
    "collapsed": false
   },
   "outputs": [],
   "source": [
    "str_adj_c = \"* 0 1 1 0 0 1 0 \\\n",
    "* * 0 1 1 0 1 1 \\\n",
    "* * * 0 1 1 0 0 \\\n",
    "* * * * 0 0 1 0 \\\n",
    "* * * * * 0 1 1 \\\n",
    "* * * * * * 0 1 \\\n",
    "* * * * * * * 0 \\\n",
    "* * * * * * * *\""
   ]
  },
  {
   "cell_type": "code",
   "execution_count": 76,
   "metadata": {
    "ExecuteTime": {
     "end_time": "2017-02-13T21:55:17.298482",
     "start_time": "2017-02-13T21:55:17.286349"
    },
    "collapsed": false
   },
   "outputs": [
    {
     "data": {
      "text/plain": [
       "[('*', '0', '1', '1', '0', '0', '1', '0'),\n",
       " ('*', '*', '0', '1', '1', '0', '1', '1'),\n",
       " ('*', '*', '*', '0', '1', '1', '0', '0'),\n",
       " ('*', '*', '*', '*', '0', '0', '1', '0'),\n",
       " ('*', '*', '*', '*', '*', '0', '1', '1'),\n",
       " ('*', '*', '*', '*', '*', '*', '0', '1'),\n",
       " ('*', '*', '*', '*', '*', '*', '*', '0'),\n",
       " ('*', '*', '*', '*', '*', '*', '*', '*')]"
      ]
     },
     "execution_count": 76,
     "metadata": {},
     "output_type": "execute_result"
    }
   ],
   "source": [
    "adj_list_c = list(grouper(8, str_adj_c.split(\" \")))\n",
    "adj_list_c"
   ]
  },
  {
   "cell_type": "code",
   "execution_count": 79,
   "metadata": {
    "ExecuteTime": {
     "end_time": "2017-02-13T21:55:53.916201",
     "start_time": "2017-02-13T21:55:53.908717"
    },
    "collapsed": false
   },
   "outputs": [
    {
     "name": "stdout",
     "output_type": "stream",
     "text": [
      "[[3, 4, 7], [4, 5, 7, 8], [5, 6], [7], [7, 8], [8], [], []]\n",
      "[[3, 4, 7], [4, 5, 7, 8], [5, 6], [7], [7, 8], [8], [], []]\n"
     ]
    }
   ],
   "source": [
    "print([[ix+1 for ix,v in enumerate(adj_list_c[row]) if v=='1'] for row in range(8)])\n",
    "print([[ix+1 for ix, v in enumerate(graph1_c.adj_mat[row,:]) if v==True and ix>row] for row in range(8)])"
   ]
  },
  {
   "cell_type": "code",
   "execution_count": 74,
   "metadata": {
    "ExecuteTime": {
     "end_time": "2017-02-13T21:54:54.223882",
     "start_time": "2017-02-13T21:54:54.213399"
    },
    "collapsed": false
   },
   "outputs": [
    {
     "name": "stdout",
     "output_type": "stream",
     "text": [
      "[[2, 5, 6, 8], [3, 6], [4, 7, 8], [5, 6, 8], [6], [7], [8], []]\n",
      "[[2, 5, 6, 8], [3, 6], [4, 7, 8], [5, 6, 8], [6], [7], [8], []]\n"
     ]
    }
   ],
   "source": [
    "str_adj = \"* 1 0 0 1 1 0 1 \\\n",
    "* * 1 0 0 1 0 0 \\\n",
    "* * * 1 0 0 1 1 \\\n",
    "* * * * 1 1 0 1 \\\n",
    "* * * * * 1 0 0 \\\n",
    "* * * * * * 1 0 \\\n",
    "* * * * * * * 1 \\\n",
    "* * * * * * * *\"\n",
    "\n",
    "adj_list = list(grouper(8, str_adj.split(\" \")))\n",
    "\n",
    "print([[ix+1 for ix,v in enumerate(adj_list[row]) if v=='1'] for row in range(8)])\n",
    "print([[ix+1 for ix, v in enumerate(graph1.adj_mat[row,:]) if v==True and ix>row] for row in range(8)])"
   ]
  },
  {
   "cell_type": "code",
   "execution_count": 98,
   "metadata": {
    "ExecuteTime": {
     "end_time": "2017-02-13T22:35:37.943568",
     "start_time": "2017-02-13T22:35:37.939169"
    },
    "collapsed": true
   },
   "outputs": [],
   "source": [
    "def set_str(set1):\n",
    "    return '{}' if set1==set() else set1"
   ]
  },
  {
   "cell_type": "code",
   "execution_count": 100,
   "metadata": {
    "ExecuteTime": {
     "end_time": "2017-02-13T22:36:52.387150",
     "start_time": "2017-02-13T22:36:52.337944"
    },
    "collapsed": false,
    "run_control": {
     "frozen": false,
     "read_only": false
    }
   },
   "outputs": [
    {
     "name": "stdout",
     "output_type": "stream",
     "text": [
      " R: {}  X: {}  P: {0, 1, 2}\n",
      " R: {}  X: {}  P: {0, 1, 2}  v: 0\n",
      "   R: {0}  X: {}  P: {1, 2}\n",
      "   R: {0}  X: {}  P: {1, 2}  v: 1\n",
      "     R: {0, 1}  X: {}  P: {2}\n",
      "     R: {0, 1}  X: {}  P: {2}  v: 2\n",
      "       R: {0, 1, 2}  X: {}  P: {}\n",
      "       max:clique: {0, 1, 2} \n",
      "\n",
      "   R: {0}  X: {1}  P: {2}  v: 2\n",
      "     R: {0, 2}  X: {1}  P: {}\n",
      " R: {}  X: {0}  P: {1, 2}  v: 1\n",
      "   R: {1}  X: {0}  P: {2}\n",
      "   R: {1}  X: {0}  P: {2}  v: 2\n",
      "     R: {1, 2}  X: {0}  P: {}\n",
      " R: {}  X: {0, 1}  P: {2}  v: 2\n",
      "   R: {2}  X: {0, 1}  P: {}\n",
      "[{0, 1, 2}]\n"
     ]
    }
   ],
   "source": [
    "def bron_kerbosch1(graph, R, P, X, cliques=list(), print_c=True, level=0):\n",
    "    print('  '*level,'R:', set_str(R), ' X:', set_str(X), ' P:', set_str(P))\n",
    "    \n",
    "    if (P == set()) and (X == set()):\n",
    "        if print_c:\n",
    "            print('  '*level, 'max:clique:', R, '\\n')\n",
    "        cliques.append(R)\n",
    "        return\n",
    "    P_dirty = {v for v in P}\n",
    "    for v in P:\n",
    "        print('  '*level,'R:', set_str(R), ' X:', set_str(X), ' P:', set_str(P_dirty), ' v:', v)\n",
    "        nbrs_v = set(graph.neighbors(v))\n",
    "        bron_kerbosch1(graph, R.union({v}), \n",
    "                       P_dirty.intersection(nbrs_v),\n",
    "                       X.intersection(nbrs_v), cliques, print_c, level+1)\n",
    "        P_dirty.difference_update({v})\n",
    "        X = X.union({v})\n",
    "    \n",
    "cliques = list()\n",
    "bron_kerbosch1(k3, set(), set(list(range(k3.num_vertices))), set(), cliques)\n",
    "print(cliques)"
   ]
  },
  {
   "cell_type": "code",
   "execution_count": 101,
   "metadata": {
    "ExecuteTime": {
     "end_time": "2017-02-13T22:36:55.198974",
     "start_time": "2017-02-13T22:36:55.146815"
    },
    "collapsed": false,
    "run_control": {
     "frozen": false,
     "read_only": false
    }
   },
   "outputs": [
    {
     "name": "stdout",
     "output_type": "stream",
     "text": [
      " R: {}  X: {}  P: {0, 1, 2, 3, 4, 5, 6, 7}\n",
      " R: {}  X: {}  P: {0, 1, 2, 3, 4, 5, 6, 7}  v: 0\n",
      "   R: {0}  X: {}  P: {2, 3, 6}\n",
      "   R: {0}  X: {}  P: {2, 3, 6}  v: 2\n",
      "     R: {0, 2}  X: {}  P: {}\n",
      "     max:clique: {0, 2} \n",
      "\n",
      "   R: {0}  X: {2}  P: {3, 6}  v: 3\n",
      "     R: {0, 3}  X: {}  P: {6}\n",
      "     R: {0, 3}  X: {}  P: {6}  v: 6\n",
      "       R: {0, 3, 6}  X: {}  P: {}\n",
      "       max:clique: {0, 3, 6} \n",
      "\n",
      "   R: {0}  X: {2, 3}  P: {6}  v: 6\n",
      "     R: {0, 6}  X: {3}  P: {}\n",
      " R: {}  X: {0}  P: {1, 2, 3, 4, 5, 6, 7}  v: 1\n",
      "   R: {1}  X: {}  P: {3, 4, 6, 7}\n",
      "   R: {1}  X: {}  P: {3, 4, 6, 7}  v: 3\n",
      "     R: {1, 3}  X: {}  P: {6}\n",
      "     R: {1, 3}  X: {}  P: {6}  v: 6\n",
      "       R: {1, 3, 6}  X: {}  P: {}\n",
      "       max:clique: {1, 3, 6} \n",
      "\n",
      "   R: {1}  X: {3}  P: {4, 6, 7}  v: 4\n",
      "     R: {1, 4}  X: {}  P: {6, 7}\n",
      "     R: {1, 4}  X: {}  P: {6, 7}  v: 6\n",
      "       R: {1, 4, 6}  X: {}  P: {}\n",
      "       max:clique: {1, 4, 6} \n",
      "\n",
      "     R: {1, 4}  X: {6}  P: {7}  v: 7\n",
      "       R: {1, 4, 7}  X: {}  P: {}\n",
      "       max:clique: {1, 4, 7} \n",
      "\n",
      "   R: {1}  X: {3, 4}  P: {6, 7}  v: 6\n",
      "     R: {1, 6}  X: {3, 4}  P: {}\n",
      "   R: {1}  X: {3, 4, 6}  P: {7}  v: 7\n",
      "     R: {1, 7}  X: {4}  P: {}\n",
      " R: {}  X: {0, 1}  P: {2, 3, 4, 5, 6, 7}  v: 2\n",
      "   R: {2}  X: {0}  P: {4, 5}\n",
      "   R: {2}  X: {0}  P: {4, 5}  v: 4\n",
      "     R: {2, 4}  X: {}  P: {}\n",
      "     max:clique: {2, 4} \n",
      "\n",
      "   R: {2}  X: {0, 4}  P: {5}  v: 5\n",
      "     R: {2, 5}  X: {}  P: {}\n",
      "     max:clique: {2, 5} \n",
      "\n",
      " R: {}  X: {0, 1, 2}  P: {3, 4, 5, 6, 7}  v: 3\n",
      "   R: {3}  X: {0, 1}  P: {6}\n",
      "   R: {3}  X: {0, 1}  P: {6}  v: 6\n",
      "     R: {3, 6}  X: {0, 1}  P: {}\n",
      " R: {}  X: {0, 1, 2, 3}  P: {4, 5, 6, 7}  v: 4\n",
      "   R: {4}  X: {1, 2}  P: {6, 7}\n",
      "   R: {4}  X: {1, 2}  P: {6, 7}  v: 6\n",
      "     R: {4, 6}  X: {1}  P: {}\n",
      "   R: {4}  X: {1, 2, 6}  P: {7}  v: 7\n",
      "     R: {4, 7}  X: {1}  P: {}\n",
      " R: {}  X: {0, 1, 2, 3, 4}  P: {5, 6, 7}  v: 5\n",
      "   R: {5}  X: {2}  P: {7}\n",
      "   R: {5}  X: {2}  P: {7}  v: 7\n",
      "     R: {5, 7}  X: {}  P: {}\n",
      "     max:clique: {5, 7} \n",
      "\n",
      " R: {}  X: {0, 1, 2, 3, 4, 5}  P: {6, 7}  v: 6\n",
      "   R: {6}  X: {0, 1, 3, 4}  P: {}\n",
      " R: {}  X: {0, 1, 2, 3, 4, 5, 6}  P: {7}  v: 7\n",
      "   R: {7}  X: {1, 4, 5}  P: {}\n",
      "[1, 3]\n",
      "[1, 4, 7]\n",
      "[2, 4, 7]\n",
      "[2, 5, 7]\n",
      "[2, 5, 8]\n",
      "[3, 5]\n",
      "[3, 6]\n",
      "[6, 8]\n"
     ]
    }
   ],
   "source": [
    "cliques = list()\n",
    "all_v = set(list(range(graph1.num_vertices)))\n",
    "bron_kerbosch1(graph1_c, set(), all_v, set(), cliques, True)\n",
    "for clique in cliques:\n",
    "    print([v+1 for v in clique])"
   ]
  },
  {
   "cell_type": "code",
   "execution_count": 11,
   "metadata": {
    "ExecuteTime": {
     "end_time": "2017-02-13T20:44:16.029756",
     "start_time": "2017-02-13T20:44:16.019778"
    },
    "collapsed": false,
    "run_control": {
     "frozen": false,
     "read_only": false
    }
   },
   "outputs": [
    {
     "name": "stdout",
     "output_type": "stream",
     "text": [
      "[1, 3]\n",
      "[1, 4, 7]\n",
      "[2, 4, 7]\n",
      "[2, 5, 7]\n",
      "[2, 5, 8]\n",
      "[3, 5]\n",
      "[3, 6]\n",
      "[6, 8]\n"
     ]
    }
   ],
   "source": [
    "cliques = list()\n",
    "all_v = set(list(range(graph1.num_vertices)))\n",
    "graph1_c.bron_kerbosch1(set(), all_v, set(), cliques, False)\n",
    "for clique in cliques:\n",
    "    print([v+1 for v in clique])"
   ]
  },
  {
   "cell_type": "code",
   "execution_count": 13,
   "metadata": {
    "ExecuteTime": {
     "end_time": "2017-02-12T01:23:11.395753",
     "start_time": "2017-02-12T01:23:11.391555"
    },
    "collapsed": false,
    "run_control": {
     "frozen": false,
     "read_only": false
    }
   },
   "outputs": [
    {
     "name": "stdout",
     "output_type": "stream",
     "text": [
      "[1, 3]\n",
      "[1, 4, 7]\n",
      "[2, 4, 7]\n",
      "[2, 5, 7]\n",
      "[2, 5, 8]\n",
      "[3, 5]\n",
      "[3, 6]\n",
      "[6, 8]\n"
     ]
    }
   ],
   "source": [
    "max_ind_sets = graph1.max_ind_sets()\n",
    "for max_ind_set in max_ind_sets:\n",
    "    print([v+1 for v in max_ind_set])"
   ]
  }
 ],
 "metadata": {
  "hide_input": false,
  "kernelspec": {
   "display_name": "Python 3",
   "language": "python",
   "name": "python3"
  },
  "language_info": {
   "codemirror_mode": {
    "name": "ipython",
    "version": 3
   },
   "file_extension": ".py",
   "mimetype": "text/x-python",
   "name": "python",
   "nbconvert_exporter": "python",
   "pygments_lexer": "ipython3",
   "version": "3.5.2"
  },
  "latex_envs": {
   "bibliofile": "biblio.bib",
   "cite_by": "apalike",
   "current_citInitial": 1,
   "eqLabelWithNumbers": true,
   "eqNumInitial": 0
  },
  "nav_menu": {},
  "toc": {
   "navigate_menu": true,
   "number_sections": true,
   "sideBar": false,
   "threshold": 6,
   "toc_cell": false,
   "toc_section_display": "block",
   "toc_window_display": false
  }
 },
 "nbformat": 4,
 "nbformat_minor": 0
}
