{
 "cells": [
  {
   "cell_type": "code",
   "execution_count": null,
   "metadata": {
    "run_control": {
     "frozen": false,
     "read_only": false
    }
   },
   "outputs": [],
   "source": [
    "import graphviz as gv\n",
    "import math\n",
    "import numpy as np"
   ]
  },
  {
   "cell_type": "markdown",
   "metadata": {},
   "source": [
    "pages listed above.\n",
    "dot\n",
    "neato\n",
    "smyrna\n",
    "lefty\n",
    "dotty"
   ]
  },
  {
   "cell_type": "code",
   "execution_count": null,
   "metadata": {
    "run_control": {
     "frozen": false,
     "read_only": false
    }
   },
   "outputs": [],
   "source": [
    "g = gv.Graph(engine='neato')\n",
    "for ix in range(7):\n",
    "    g.edge(str(ix), str(ix+1))\n",
    "\n",
    "g.edge('7', '0')\n",
    "g.edge('5', '7')\n",
    "g.edge('1', '4')\n",
    "g.edge('0', '3')\n",
    "#g.edge('2', '6')\n",
    "\n",
    "\n",
    "g"
   ]
  },
  {
   "cell_type": "code",
   "execution_count": null,
   "metadata": {
    "run_control": {
     "frozen": false,
     "read_only": false
    }
   },
   "outputs": [],
   "source": [
    "g.source"
   ]
  },
  {
   "cell_type": "markdown",
   "metadata": {},
   "source": [
    "1. dfs-tree(node, visited=None)\n",
    "  1. visited = [False]*n if visited is None\n",
    "  1. for nbr in nbrhd(node)\n",
    "      1. if(!visited[nbr])\n",
    "        1. visited[nbr] = True\n",
    "        1. dfs.edge(node -> snbr)\n",
    "        1. dfs-tree(node, nbr)"
   ]
  },
  {
   "cell_type": "markdown",
   "metadata": {},
   "source": [
    "```python\n",
    "def post_order(dg, root):\n",
    "    po_children = [post_order(dg, c) for c in root.children].merge()\n",
    "    return po_children + [root]\n",
    "```"
   ]
  },
  {
   "cell_type": "markdown",
   "metadata": {},
   "source": [
    "dfs_tree = dfs-tree()  \n"
   ]
  },
  {
   "cell_type": "code",
   "execution_count": null,
   "metadata": {
    "run_control": {
     "frozen": false,
     "read_only": false
    }
   },
   "outputs": [],
   "source": [
    "def graph_repr(graph):\n",
    "    str_data = \" \"*4\n",
    "    for row in range(graph.num_vertices):\n",
    "        str_data += \" \" + str(row)\n",
    "    str_data += \"\\n\"+\" \"*4+\"--\"*(graph.num_vertices+1)+\"\\n\"\n",
    "\n",
    "    for row in range(graph.num_vertices):\n",
    "        str_data += str(row) + \" | \"\n",
    "        for col in range(graph.num_vertices):\n",
    "            str_data += \" \" + (\"1\" if graph.data[row,col] else \"0\")\n",
    "        str_data += \"\\n\"\n",
    "    return str_data"
   ]
  },
  {
   "cell_type": "code",
   "execution_count": null,
   "metadata": {
    "run_control": {
     "frozen": false,
     "read_only": false
    }
   },
   "outputs": [],
   "source": [
    "class Graph:\n",
    "    def __init__(self, _num_vertices):\n",
    "        self.data = np.zeros((_num_vertices, _num_vertices), dtype=bool)\n",
    "        self.num_vertices = _num_vertices\n",
    "    def assert_bounds(self, node):\n",
    "        assert(node >=0 and node<self.num_vertices)\n",
    "    def add_edge(self, node1, node2):\n",
    "        self.assert_bounds(node1); self.assert_bounds(node2)\n",
    "        self.data[node1, node2] = self.data[node2, node1] = True\n",
    "    def __str__(self):\n",
    "        return self.__repr__()\n",
    "    def nbrs(self, node):\n",
    "        for nbr in range(self.num_vertices):\n",
    "            if self.data[node, nbr]:\n",
    "                yield nbr\n",
    "\n",
    "Graph.__repr__ = graph_repr   \n",
    "        \n",
    "num_vertices = 8\n",
    "g1 = Graph(num_vertices)\n",
    "for ix in range(num_vertices-1):\n",
    "    g1.add_edge(ix, ix+1)\n",
    "print(\", \".join([str(nbr) for nbr in g1.nbrs(1)]))\n",
    "g1"
   ]
  },
  {
   "cell_type": "code",
   "execution_count": null,
   "metadata": {
    "run_control": {
     "frozen": false,
     "read_only": false
    }
   },
   "outputs": [],
   "source": []
  },
  {
   "cell_type": "code",
   "execution_count": null,
   "metadata": {
    "run_control": {
     "frozen": false,
     "read_only": false
    }
   },
   "outputs": [],
   "source": [
    "class DGraph(Graph):\n",
    "    def __init__(self, num_vertices):\n",
    "        Graph.__init__(self, num_vertices)\n",
    "        self.root = None\n",
    "    def add_edge(self, node1, node2):\n",
    "        self.data[node1, node2] = True\n",
    "    def is_edge(self, node1, node2):\n",
    "        return self.data[node1, node2]\n",
    "    def post_order(self, node=None):\n",
    "        if node is None:\n",
    "            assert self.root is not None, \"root is none\"\n",
    "            node = self.root\n",
    "        post_order_nodes = []\n",
    "        for nbr in self.nbrs(node):\n",
    "            post_order_nodes += self.post_order(nbr)\n",
    "        return post_order_nodes + [node]\n",
    "    def pre_order(self, node=None):\n",
    "        if node is None:\n",
    "            assert self.root is not None, \"root is none\"\n",
    "            node = self.root\n",
    "        pre_order_nodes = [node]\n",
    "        for nbr in self.nbrs(node):\n",
    "            pre_order_nodes += self.pre_order(nbr)\n",
    "        return pre_order_nodes\n",
    "    def form_num_descendants(self, node=None):\n",
    "        if node is None:\n",
    "            node = self.root\n",
    "            self.nd = [0 for _ in range(self.num_vertices)]\n",
    "        self.nd[node] += 1\n",
    "        for nbr in self.nbrs(node):\n",
    "            self.form_num_descendants(nbr)\n",
    "            self.nd[node] += self.nd[nbr]\n",
    "    def print_viz(self, engine='neato'):\n",
    "        g_viz = gv.Digraph(engine=engine)\n",
    "        for node in range(self.num_vertices):\n",
    "            for nbr in self.nbrs(node):\n",
    "                g_viz.edge(str(node), str(nbr))\n",
    "        return g_viz\n",
    "        \n",
    "    \n",
    "dg = DGraph(8)\n",
    "dg.add_edge(3,4)\n",
    "print(\", \".join([str(nbr) for nbr in dg.nbrs(4)]))\n",
    "print(\", \".join([str(nbr) for nbr in dg.nbrs(3)]))\n",
    "dg"
   ]
  },
  {
   "cell_type": "code",
   "execution_count": null,
   "metadata": {
    "run_control": {
     "frozen": false,
     "read_only": false
    }
   },
   "outputs": [],
   "source": [
    "class DfsTreeGenerator:\n",
    "    def __init__(self, graph, node):\n",
    "        self.num_vertices = graph.num_vertices\n",
    "        self.dfs_tree = DGraph(graph.num_vertices)\n",
    "        self.visited = [False for _ in range(self.num_vertices)]\n",
    "        self.dfs_tree.root = node\n",
    "        self.form_dfs_tree(graph, node)\n",
    "    def form_dfs_tree(self, graph, node):\n",
    "        self.visited[node] = True\n",
    "        for nbr in graph.nbrs(node):\n",
    "            if(not self.visited[nbr]):\n",
    "                self.dfs_tree.add_edge(node, nbr)\n",
    "                self.form_dfs_tree(graph, nbr)\n",
    "    def get(self):\n",
    "        return self.dfs_tree\n",
    "\n",
    "print(g1)\n",
    "dgraph_dfs = DfsTreeGenerator(g1, 1).get()\n",
    "print(dgraph_dfs)\n",
    "print(dgraph_dfs.post_order())"
   ]
  },
  {
   "cell_type": "code",
   "execution_count": null,
   "metadata": {
    "run_control": {
     "frozen": false,
     "read_only": false
    }
   },
   "outputs": [],
   "source": [
    "num_vertices = 8\n",
    "g2 = Graph(num_vertices)\n",
    "for ix in range(num_vertices-1):\n",
    "    g2.add_edge(ix, ix+1)\n",
    "g2.add_edge(7, 0)\n",
    "g2.add_edge(0, 3)\n",
    "g2.add_edge(1, 4)\n",
    "g2.add_edge(2, 6)\n",
    "g2.add_edge(5, 7)\n",
    "print(\", \".join([str(nbr) for nbr in g2.nbrs(1)]))\n",
    "print(g2)\n",
    "\n",
    "dfs_tree = DfsTreeGenerator(g2, 1).get()\n",
    "print(dfs_tree)\n",
    "dfs_tree.print_viz()"
   ]
  },
  {
   "cell_type": "code",
   "execution_count": null,
   "metadata": {
    "run_control": {
     "frozen": false,
     "read_only": false
    }
   },
   "outputs": [],
   "source": [
    "print(dfs_tree.pre_order())\n",
    "print(dfs_tree.post_order())"
   ]
  },
  {
   "cell_type": "code",
   "execution_count": null,
   "metadata": {
    "run_control": {
     "frozen": false,
     "read_only": false
    }
   },
   "outputs": [],
   "source": [
    "def get_numbers(dfs_tree):\n",
    "    post_order_dfs = dfs_tree.post_order()\n",
    "    numbers_machi = [ix for ix in range(dfs_tree.num_vertices)]\n",
    "    for ix, val in enumerate(post_order_dfs):\n",
    "        numbers_machi[val] = ix\n",
    "    return numbers_machi\n",
    "numbers = get_numbers(dfs_tree)\n",
    "print(numbers)"
   ]
  },
  {
   "cell_type": "code",
   "execution_count": null,
   "metadata": {
    "run_control": {
     "frozen": false,
     "read_only": false
    }
   },
   "outputs": [],
   "source": [
    "dfs_tree.form_num_descendants()\n",
    "dfs_tree.nd"
   ]
  },
  {
   "cell_type": "code",
   "execution_count": null,
   "metadata": {
    "run_control": {
     "frozen": false,
     "read_only": false
    }
   },
   "outputs": [],
   "source": [
    "dfs_tree_gv = dfs_tree.print_viz('neato')\n",
    "# body\n",
    "dfs_tree_gv.body.append('size = \"7.75,1.25\"')\n",
    "dfs_tree_gv"
   ]
  },
  {
   "cell_type": "markdown",
   "metadata": {},
   "source": [
    "Dependencies\n",
    "* TarjanTree\n",
    "  * form_dfs_tree -> DfsTreeGenerator(.)\n",
    "  * numbers -> DGraph.post_order()\n",
    "  * ND -> DGraph.nbrs(.)"
   ]
  },
  {
   "cell_type": "code",
   "execution_count": null,
   "metadata": {
    "run_control": {
     "frozen": false,
     "read_only": false
    }
   },
   "outputs": [],
   "source": [
    "class TarjanTree:\n",
    "    def __init__(self, graph, root):\n",
    "        self.num_vertices = graph.num_vertices\n",
    "        self.root = root\n",
    "        self.l = [None for _ in range(self.num_vertices)]\n",
    "        self.h = [None for _ in range(self.num_vertices)]\n",
    "        self.bridges = []\n",
    "        self.do_things(graph, root)\n",
    "        \n",
    "    def do_things(self, graph, root):\n",
    "        self.dfs_tree = self.form_dfs_tree(graph, root)\n",
    "        self.numbers = self.get_numbers(self.dfs_tree)\n",
    "        self.form_num_descendants(self.dfs_tree)\n",
    "        self.back_edges = self.compute_back_edges(graph, self.dfs_tree)\n",
    "        self.compute_lh()\n",
    "        self.bridges = self.compute_bridges()\n",
    "    def compute_bridges(self):\n",
    "        for node in range(self.num_vertices):\n",
    "            for nbr in self.dfs_tree.nbrs(node):\n",
    "                h_check = self.h[nbr] <= self.numbers[nbr]\n",
    "                l_check = self.l[nbr] > self.numbers[nbr] - self.nd[nbr]\n",
    "                if h_check and l_check:\n",
    "                    self.bridges.append([node,nbr])\n",
    "    def compute_l(self, node):\n",
    "        if self.l[node] is not None:\n",
    "            return self.l[node]\n",
    "        terms =  []\n",
    "        # v - ND(V) + 1\n",
    "        terms += [self.numbers[node] - self.nd[node] + 1]\n",
    "        # L(w) | v -> w\n",
    "        terms += [self.compute_l(nbr) for nbr in self.dfs_tree.nbrs(node)]\n",
    "        # w | v -- w\n",
    "        terms += [self.numbers[nbr_non] for nbr_non, val in enumerate(self.back_edges[node,:]) if val]\n",
    "        self.l[node] = min(terms)\n",
    "        return self.l[node]\n",
    "    def compute_h(self, node):\n",
    "        if self.h[node] is not None:\n",
    "            return self.h[node]\n",
    "        terms =  []\n",
    "        # v\n",
    "        terms += [self.numbers[node]]\n",
    "        # L(w) | v -> w\n",
    "        terms += [self.compute_h(nbr) for nbr in self.dfs_tree.nbrs(node)]\n",
    "        # w | v -- w\n",
    "        terms += [self.numbers[nbr_non] for nbr_non, val in enumerate(self.back_edges[node,:]) if val]\n",
    "        self.h[node] = max(terms)\n",
    "        return self.h[node]\n",
    "    def compute_lh(self):\n",
    "        self.compute_l(self.root)\n",
    "        self.compute_h(self.root)\n",
    "    def get_numbers(self, dfs_tree):\n",
    "        post_order_dfs = dfs_tree.post_order()\n",
    "        numbers_machi = [ix for ix in range(dfs_tree.num_vertices)]\n",
    "        for ix, val in enumerate(post_order_dfs):\n",
    "            numbers_machi[val] = ix\n",
    "        return numbers_machi\n",
    "    def form_dfs_tree(self, graph, node):\n",
    "         return DfsTreeGenerator(graph, node).get()\n",
    "    def form_num_descendants(self, dfs_tree, node=None):\n",
    "        if node is None:\n",
    "            node = self.root\n",
    "            self.nd = [0 for _ in range(self.num_vertices)]\n",
    "        self.nd[node] += 1\n",
    "        for nbr in dfs_tree.nbrs(node):\n",
    "            self.form_num_descendants(dfs_tree, nbr)\n",
    "            self.nd[node] += self.nd[nbr]\n",
    "    def compute_back_edges(self, graph, dfs_tree):\n",
    "        back_edges = np.zeros((graph.num_vertices,graph.num_vertices), dtype=bool)\n",
    "        for node in range(graph.num_vertices):\n",
    "            for nbr in graph.nbrs(node):\n",
    "                if dfs_tree.is_edge(node, nbr) or dfs_tree.is_edge(nbr,node):\n",
    "                    continue\n",
    "                back_edges[node,nbr] = True\n",
    "                #if node<nbr:\n",
    "                #    back_edges.append([node,nbr])\n",
    "        return back_edges\n",
    "    def get_gviz(self, with_backedges=True, graph_attrs=[]):\n",
    "        dfs_viz = dfs_tree.print_viz('dot')\n",
    "        self.annotate_dfs_viz(dfs_viz, with_backedges)\n",
    "        for graph_attr in graph_attrs:\n",
    "            dfs_viz.body.append(graph_attr)\n",
    "        return dfs_viz\n",
    "    def annotate_dfs_viz(self, dfs_viz, with_backedges=True):\n",
    "        for node in range(self.num_vertices):\n",
    "            dfs_viz.node(str(node), \n",
    "                         label=\"{0}\\nN:{1}\\nND:{2}\".format(node,\n",
    "                                                      self.numbers[node],\n",
    "                                                      self.nd[node]))\n",
    "        if with_backedges:\n",
    "            for row in range(self.num_vertices):\n",
    "                for col in range(row, self.num_vertices): \n",
    "                    if not self.back_edges[row, col]:\n",
    "                        continue\n",
    "                    dfs_viz.edge(str(row),str(col), color='red')\n",
    "tt = TarjanTree(graph=g2, root=1)\n",
    "print('NUMBER:', tt.numbers)\n",
    "print('ND:', tt.nd)\n",
    "print(tt.bridges)\n",
    "tt.get_gviz(with_backedges=False, graph_attrs=['size=\"5,5\"','rankdir=\"LR\"'])"
   ]
  },
  {
   "cell_type": "code",
   "execution_count": null,
   "metadata": {
    "run_control": {
     "frozen": false,
     "read_only": false
    }
   },
   "outputs": [],
   "source": [
    "tt.get_gviz(with_backedges=True, graph_attrs=['size=\"5,5\"','rankdir=\"LR\"'])"
   ]
  },
  {
   "cell_type": "code",
   "execution_count": null,
   "metadata": {
    "run_control": {
     "frozen": false,
     "read_only": false
    }
   },
   "outputs": [],
   "source": [
    "tt.back_edges"
   ]
  },
  {
   "cell_type": "code",
   "execution_count": null,
   "metadata": {
    "run_control": {
     "frozen": false,
     "read_only": false
    }
   },
   "outputs": [],
   "source": [
    "tt.back_edges[1,:]"
   ]
  },
  {
   "cell_type": "code",
   "execution_count": null,
   "metadata": {
    "run_control": {
     "frozen": false,
     "read_only": false
    }
   },
   "outputs": [],
   "source": [
    "[ix for (ix, val) in enumerate(tt.back_edges[1,:]) if val]"
   ]
  },
  {
   "cell_type": "code",
   "execution_count": null,
   "metadata": {
    "run_control": {
     "frozen": false,
     "read_only": false
    }
   },
   "outputs": [],
   "source": [
    "[val for val in tt.back_edges[1,:] if val]"
   ]
  },
  {
   "cell_type": "code",
   "execution_count": null,
   "metadata": {
    "run_control": {
     "frozen": false,
     "read_only": false
    }
   },
   "outputs": [],
   "source": []
  },
  {
   "cell_type": "code",
   "execution_count": null,
   "metadata": {
    "run_control": {
     "frozen": false,
     "read_only": false
    }
   },
   "outputs": [],
   "source": []
  },
  {
   "cell_type": "code",
   "execution_count": null,
   "metadata": {
    "run_control": {
     "frozen": false,
     "read_only": false
    }
   },
   "outputs": [],
   "source": []
  },
  {
   "cell_type": "code",
   "execution_count": null,
   "metadata": {
    "run_control": {
     "frozen": false,
     "read_only": false
    }
   },
   "outputs": [],
   "source": []
  },
  {
   "cell_type": "code",
   "execution_count": null,
   "metadata": {
    "run_control": {
     "frozen": false,
     "read_only": false
    }
   },
   "outputs": [],
   "source": []
  },
  {
   "cell_type": "code",
   "execution_count": null,
   "metadata": {
    "run_control": {
     "frozen": false,
     "read_only": false
    }
   },
   "outputs": [],
   "source": []
  },
  {
   "cell_type": "code",
   "execution_count": null,
   "metadata": {
    "run_control": {
     "frozen": false,
     "read_only": false
    }
   },
   "outputs": [],
   "source": []
  },
  {
   "cell_type": "code",
   "execution_count": null,
   "metadata": {
    "run_control": {
     "frozen": false,
     "read_only": false
    }
   },
   "outputs": [],
   "source": []
  },
  {
   "cell_type": "markdown",
   "metadata": {},
   "source": []
  },
  {
   "cell_type": "markdown",
   "metadata": {},
   "source": []
  },
  {
   "cell_type": "code",
   "execution_count": null,
   "metadata": {
    "run_control": {
     "frozen": false,
     "read_only": false
    }
   },
   "outputs": [],
   "source": []
  }
 ],
 "metadata": {
  "hide_input": false,
  "kernelspec": {
   "display_name": "Python 3",
   "language": "python",
   "name": "python3"
  },
  "language_info": {
   "codemirror_mode": {
    "name": "ipython",
    "version": 3
   },
   "file_extension": ".py",
   "mimetype": "text/x-python",
   "name": "python",
   "nbconvert_exporter": "python",
   "pygments_lexer": "ipython3",
   "version": "3.6.0"
  },
  "latex_envs": {
   "bibliofile": "biblio.bib",
   "cite_by": "apalike",
   "current_citInitial": 1,
   "eqLabelWithNumbers": true,
   "eqNumInitial": 0
  },
  "nav_menu": {},
  "toc": {
   "navigate_menu": true,
   "number_sections": true,
   "sideBar": false,
   "threshold": 6,
   "toc_cell": false,
   "toc_section_display": "block",
   "toc_window_display": false
  }
 },
 "nbformat": 4,
 "nbformat_minor": 1
}
