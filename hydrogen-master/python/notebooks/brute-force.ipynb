{
 "cells": [
  {
   "cell_type": "markdown",
   "metadata": {},
   "source": [
    "# preamble"
   ]
  },
  {
   "cell_type": "code",
   "execution_count": 1,
   "metadata": {
    "ExecuteTime": {
     "end_time": "2018-06-10T13:51:16.378358Z",
     "start_time": "2018-06-10T13:51:15.808446Z"
    },
    "init_cell": true,
    "run_control": {
     "frozen": false,
     "read_only": false
    }
   },
   "outputs": [],
   "source": [
    "import functools as ft\n",
    "import graphviz as gv\n",
    "import itertools\n",
    "import numpy as np\n",
    "import operator\n",
    "import os\n",
    "import seaborn as sns\n",
    "import sys"
   ]
  },
  {
   "cell_type": "code",
   "execution_count": 2,
   "metadata": {
    "ExecuteTime": {
     "end_time": "2018-06-10T13:51:16.387106Z",
     "start_time": "2018-06-10T13:51:16.379932Z"
    },
    "init_cell": true,
    "run_control": {
     "frozen": false,
     "read_only": false
    }
   },
   "outputs": [],
   "source": [
    "def insert_into_path(fo):\n",
    "    for fo_in_path in sys.path:\n",
    "        if fo == fo_in_path:\n",
    "            print('noop')\n",
    "            return\n",
    "        \n",
    "    sys.path.insert(0, fo)\n",
    "    \n",
    "insert_into_path('../h2py')\n",
    "insert_into_path('../h2py/chromatic')\n",
    "insert_into_path('../../python')"
   ]
  },
  {
   "cell_type": "code",
   "execution_count": 3,
   "metadata": {
    "ExecuteTime": {
     "end_time": "2018-06-10T13:51:16.392079Z",
     "start_time": "2018-06-10T13:51:16.388583Z"
    },
    "init_cell": true,
    "run_control": {
     "frozen": false,
     "read_only": false
    }
   },
   "outputs": [],
   "source": [
    "\n",
    "from __future__ import print_function\n",
    "from ipywidgets import interact, interactive, fixed, interact_manual\n",
    "import ipywidgets as widgets"
   ]
  },
  {
   "cell_type": "code",
   "execution_count": 4,
   "metadata": {
    "ExecuteTime": {
     "end_time": "2018-06-10T13:51:16.401799Z",
     "start_time": "2018-06-10T13:51:16.393475Z"
    },
    "init_cell": true,
    "run_control": {
     "frozen": false,
     "read_only": false
    }
   },
   "outputs": [
    {
     "data": {
      "text/html": [
       "<h1>Hello, world!</h1>"
      ],
      "text/plain": [
       "<IPython.core.display.HTML object>"
      ]
     },
     "metadata": {},
     "output_type": "display_data"
    }
   ],
   "source": [
    "from IPython.core.display import display, HTML\n",
    "display(HTML('<h1>Hello, world!</h1>'))"
   ]
  },
  {
   "cell_type": "markdown",
   "metadata": {},
   "source": [
    "# exact"
   ]
  },
  {
   "cell_type": "markdown",
   "metadata": {},
   "source": [
    "## preamble"
   ]
  },
  {
   "cell_type": "code",
   "execution_count": 5,
   "metadata": {
    "ExecuteTime": {
     "end_time": "2018-06-10T13:51:16.422425Z",
     "start_time": "2018-06-10T13:51:16.403490Z"
    },
    "init_cell": true,
    "run_control": {
     "frozen": false,
     "read_only": false
    }
   },
   "outputs": [],
   "source": [
    "from generic.ugraph import UGraph\n",
    "from generic.graph_utils import GraphUtils\n",
    "from generic.graph_types import GraphTypes\n",
    "from h2py.chromatic import BruteForceChromaticNumber\n",
    "from h2py.chromatic import BruteForceChromaticIndex\n",
    "\n",
    "from h2py.generic.unique_certificates import UniqueCertificates"
   ]
  },
  {
   "cell_type": "code",
   "execution_count": 6,
   "metadata": {
    "ExecuteTime": {
     "end_time": "2018-06-10T13:51:16.437388Z",
     "start_time": "2018-06-10T13:51:16.424027Z"
    },
    "init_cell": true,
    "run_control": {
     "frozen": false,
     "read_only": false
    }
   },
   "outputs": [],
   "source": [
    "def csv_to_ci_inputs():\n",
    "    fi_unique_certificates = '../../data/db_unique_certificates.csv'\n",
    "    if not os.path.isfile(fi_unique_certificates):\n",
    "        return []\n",
    "    \n",
    "    lines = []\n",
    "    with open(fi_unique_certificates, 'r') as f:\n",
    "        for line in f:\n",
    "            if len(line) < 2:\n",
    "                continue\n",
    "            num_vertices, graph_id = line.split(\",\")\n",
    "            num_vertices = int(num_vertices)\n",
    "            graph_id = int(graph_id)\n",
    "            lines.append((num_vertices, graph_id))\n",
    "    return lines"
   ]
  },
  {
   "cell_type": "markdown",
   "metadata": {},
   "source": [
    "## vertex coloring"
   ]
  },
  {
   "cell_type": "code",
   "execution_count": 15,
   "metadata": {
    "ExecuteTime": {
     "end_time": "2018-06-10T09:32:04.881799Z",
     "start_time": "2018-06-10T09:32:04.759481Z"
    },
    "run_control": {
     "frozen": false,
     "read_only": false
    }
   },
   "outputs": [
    {
     "data": {
      "application/vnd.jupyter.widget-view+json": {
       "model_id": "8a20d691e84344dfa6ee6d2c13ff4248",
       "version_major": 2,
       "version_minor": 0
      },
      "text/html": [
       "<p>Failed to display Jupyter Widget of type <code>interactive</code>.</p>\n",
       "<p>\n",
       "  If you're reading this message in the Jupyter Notebook or JupyterLab Notebook, it may mean\n",
       "  that the widgets JavaScript is still loading. If this message persists, it\n",
       "  likely means that the widgets JavaScript library is either not installed or\n",
       "  not enabled. See the <a href=\"https://ipywidgets.readthedocs.io/en/stable/user_install.html\">Jupyter\n",
       "  Widgets Documentation</a> for setup instructions.\n",
       "</p>\n",
       "<p>\n",
       "  If you're reading this message in another frontend (for example, a static\n",
       "  rendering on GitHub or <a href=\"https://nbviewer.jupyter.org/\">NBViewer</a>),\n",
       "  it may mean that your frontend doesn't currently support widgets.\n",
       "</p>\n"
      ],
      "text/plain": [
       "interactive(children=(Dropdown(description='ix_pmtr', options=(0, 1, 2, 3, 4, 5, 6, 7, 8, 9, 10, 11, 12, 13, 14, 15, 16, 17, 18, 19, 20, 21, 22, 23, 24, 25, 26, 27, 28), value=0), Output()), _dom_classes=('widget-interact',))"
      ]
     },
     "metadata": {},
     "output_type": "display_data"
    }
   ],
   "source": [
    "ci_pmtrs = csv_to_ci_inputs()\n",
    "\n",
    "@interact(ix_pmtr=range(len(ci_pmtrs)))\n",
    "def show_coloration(ix_pmtr):\n",
    "    num_vertices, graph_id = ci_pmtrs[ix_pmtr]\n",
    "    graph = UGraph.graph_from_graph_id(num_vertices, graph_id)\n",
    "    coloration = BruteForceChromaticNumber.compute(graph)\n",
    "    gviz = GraphUtils.color_vertices(graph, coloration)\n",
    "    display(HTML(gviz._repr_svg_()))\n",
    "\n",
    "# interact(show_coloration, pmtrs=ci_pmtrs)"
   ]
  },
  {
   "cell_type": "markdown",
   "metadata": {},
   "source": [
    "## edge coloring"
   ]
  },
  {
   "cell_type": "code",
   "execution_count": 16,
   "metadata": {
    "ExecuteTime": {
     "end_time": "2018-06-10T09:43:43.487657Z",
     "start_time": "2018-06-10T09:43:43.386199Z"
    },
    "run_control": {
     "frozen": false,
     "read_only": false
    }
   },
   "outputs": [
    {
     "data": {
      "application/vnd.jupyter.widget-view+json": {
       "model_id": "a8d37d4dc62d4e5eb12c75bc957b4ec4",
       "version_major": 2,
       "version_minor": 0
      },
      "text/html": [
       "<p>Failed to display Jupyter Widget of type <code>interactive</code>.</p>\n",
       "<p>\n",
       "  If you're reading this message in the Jupyter Notebook or JupyterLab Notebook, it may mean\n",
       "  that the widgets JavaScript is still loading. If this message persists, it\n",
       "  likely means that the widgets JavaScript library is either not installed or\n",
       "  not enabled. See the <a href=\"https://ipywidgets.readthedocs.io/en/stable/user_install.html\">Jupyter\n",
       "  Widgets Documentation</a> for setup instructions.\n",
       "</p>\n",
       "<p>\n",
       "  If you're reading this message in another frontend (for example, a static\n",
       "  rendering on GitHub or <a href=\"https://nbviewer.jupyter.org/\">NBViewer</a>),\n",
       "  it may mean that your frontend doesn't currently support widgets.\n",
       "</p>\n"
      ],
      "text/plain": [
       "interactive(children=(Dropdown(description='ix_pmtr', options=(0, 1, 2, 3, 4, 5, 6, 7, 8, 9, 10, 11, 12, 13, 14, 15, 16, 17, 18, 19, 20, 21, 22, 23, 24, 25, 26, 27, 28), value=0), Output()), _dom_classes=('widget-interact',))"
      ]
     },
     "metadata": {},
     "output_type": "display_data"
    }
   ],
   "source": [
    "ci_pmtrs = csv_to_ci_inputs()\n",
    "\n",
    "@interact(ix_pmtr=range(len(ci_pmtrs)))\n",
    "def show_coloration(ix_pmtr):\n",
    "    num_vertices, graph_id = ci_pmtrs[ix_pmtr]\n",
    "    graph = UGraph.graph_from_graph_id(num_vertices, graph_id)\n",
    "    coloration_edges = BruteForceChromaticIndex.compute(graph)\n",
    "    print(coloration_edges)\n",
    "    gviz = GraphUtils.color_edges(graph, coloration_edges)\n",
    "    display(HTML(gviz._repr_svg_()))\n",
    "\n",
    "# interact(show_coloration, pmtrs=ci_pmtrs)"
   ]
  },
  {
   "cell_type": "markdown",
   "metadata": {
    "heading_collapsed": true
   },
   "source": [
    "## dominating set"
   ]
  },
  {
   "cell_type": "code",
   "execution_count": null,
   "metadata": {
    "ExecuteTime": {
     "end_time": "2018-06-09T07:21:42.554266Z",
     "start_time": "2018-06-09T07:21:42.550668Z"
    },
    "hidden": true,
    "run_control": {
     "frozen": false,
     "read_only": false
    }
   },
   "outputs": [],
   "source": [
    "from h2py.domination.brute_force_dom_number import BruteForceDomNumber"
   ]
  },
  {
   "cell_type": "code",
   "execution_count": null,
   "metadata": {
    "ExecuteTime": {
     "end_time": "2018-06-09T07:21:42.617520Z",
     "start_time": "2018-06-09T07:21:42.555927Z"
    },
    "hidden": true,
    "run_control": {
     "frozen": false,
     "read_only": false
    }
   },
   "outputs": [],
   "source": [
    "graphs = list(UniqueCertificates(\"../../data/db_unique_certificates.csv\"))\n",
    "\n",
    "@interact(graph=graphs)\n",
    "def show_dominating_set(graph):\n",
    "    dom_set = BruteForceDomNumber(graph).compute()\n",
    "    gviz = GraphUtils.color_dominating_set(graph, dom_set)\n",
    "    display(HTML(gviz._repr_svg_()))"
   ]
  },
  {
   "cell_type": "markdown",
   "metadata": {},
   "source": [
    "## edge connectivity"
   ]
  },
  {
   "cell_type": "code",
   "execution_count": 7,
   "metadata": {
    "ExecuteTime": {
     "end_time": "2018-06-10T10:02:26.121437Z",
     "start_time": "2018-06-10T10:02:26.116995Z"
    },
    "run_control": {
     "frozen": false,
     "read_only": false
    }
   },
   "outputs": [],
   "source": [
    "from h2py.edge_connectivity.brute_force_edge_connectivity import BruteForceEdgeConnectivity"
   ]
  },
  {
   "cell_type": "code",
   "execution_count": 11,
   "metadata": {
    "ExecuteTime": {
     "end_time": "2018-06-10T10:02:53.669749Z",
     "start_time": "2018-06-10T10:02:53.578034Z"
    },
    "run_control": {
     "frozen": false,
     "read_only": false
    }
   },
   "outputs": [
    {
     "data": {
      "application/vnd.jupyter.widget-view+json": {
       "model_id": "e9265b9507c64d32b96bb4b9d816c1d0",
       "version_major": 2,
       "version_minor": 0
      },
      "text/html": [
       "<p>Failed to display Jupyter Widget of type <code>interactive</code>.</p>\n",
       "<p>\n",
       "  If you're reading this message in the Jupyter Notebook or JupyterLab Notebook, it may mean\n",
       "  that the widgets JavaScript is still loading. If this message persists, it\n",
       "  likely means that the widgets JavaScript library is either not installed or\n",
       "  not enabled. See the <a href=\"https://ipywidgets.readthedocs.io/en/stable/user_install.html\">Jupyter\n",
       "  Widgets Documentation</a> for setup instructions.\n",
       "</p>\n",
       "<p>\n",
       "  If you're reading this message in another frontend (for example, a static\n",
       "  rendering on GitHub or <a href=\"https://nbviewer.jupyter.org/\">NBViewer</a>),\n",
       "  it may mean that your frontend doesn't currently support widgets.\n",
       "</p>\n"
      ],
      "text/plain": [
       "interactive(children=(Dropdown(description='graph', options=(<h2py.generic.ugraph.UGraph object at 0x7f2000d6f7b8>,), value=<h2py.generic.ugraph.UGraph object at 0x7f2000d6f7b8>), Output()), _dom_classes=('widget-interact',))"
      ]
     },
     "metadata": {},
     "output_type": "display_data"
    }
   ],
   "source": [
    "graphs = list(UniqueCertificates(\"../../data/db_unique_certificates.csv\"))\n",
    "\n",
    "@interact(graph=graphs[2:3])\n",
    "def show_bridges(graph):\n",
    "    bridges = BruteForceEdgeConnectivity(graph).compute()\n",
    "    print(bridges)\n",
    "    gviz = GraphUtils.color_edge_subset(graph, bridges)\n",
    "    display(HTML(gviz._repr_svg_()))"
   ]
  },
  {
   "cell_type": "markdown",
   "metadata": {
    "heading_collapsed": true
   },
   "source": [
    "## tarjen"
   ]
  },
  {
   "cell_type": "code",
   "execution_count": null,
   "metadata": {
    "ExecuteTime": {
     "end_time": "2018-06-09T12:22:00.081296Z",
     "start_time": "2018-06-09T12:22:00.076383Z"
    },
    "hidden": true,
    "run_control": {
     "frozen": false,
     "read_only": false
    }
   },
   "outputs": [],
   "source": [
    "from h2py.generic.tarjen_bridges import TarjenBridges"
   ]
  },
  {
   "cell_type": "code",
   "execution_count": null,
   "metadata": {
    "ExecuteTime": {
     "end_time": "2018-06-09T12:22:13.875659Z",
     "start_time": "2018-06-09T12:22:13.782781Z"
    },
    "hidden": true,
    "run_control": {
     "frozen": false,
     "read_only": false
    }
   },
   "outputs": [],
   "source": [
    "graphs = list(UniqueCertificates(\"../../data/db_unique_certificates.csv\"))\n",
    "\n",
    "@interact(graph=graphs)\n",
    "def show_bridges(graph):\n",
    "    bridges = TarjenBridges(graph).compute()\n",
    "    gviz = GraphUtils.color_edge_subset(graph, bridges)\n",
    "    display(HTML(gviz._repr_svg_()))"
   ]
  },
  {
   "cell_type": "markdown",
   "metadata": {
    "heading_collapsed": true
   },
   "source": [
    "## longest path"
   ]
  },
  {
   "cell_type": "code",
   "execution_count": 13,
   "metadata": {
    "ExecuteTime": {
     "end_time": "2018-06-10T05:50:52.578352Z",
     "start_time": "2018-06-10T05:50:52.571009Z"
    },
    "hidden": true,
    "run_control": {
     "frozen": false,
     "read_only": false
    }
   },
   "outputs": [],
   "source": [
    "from h2py.path.longest_path_brute_force import LongestPathBruteForce"
   ]
  },
  {
   "cell_type": "code",
   "execution_count": 14,
   "metadata": {
    "ExecuteTime": {
     "end_time": "2018-06-10T05:50:54.053630Z",
     "start_time": "2018-06-10T05:50:53.859261Z"
    },
    "hidden": true,
    "run_control": {
     "frozen": false,
     "read_only": false
    }
   },
   "outputs": [
    {
     "ename": "NameError",
     "evalue": "name 'graphs' is not defined",
     "output_type": "error",
     "traceback": [
      "\u001b[0;31m---------------------------------------------------------------------------\u001b[0m",
      "\u001b[0;31mNameError\u001b[0m                                 Traceback (most recent call last)",
      "\u001b[0;32m<ipython-input-14-640098984a7a>\u001b[0m in \u001b[0;36m<module>\u001b[0;34m()\u001b[0m\n\u001b[0;32m----> 1\u001b[0;31m \u001b[0mLongestPathBruteForce\u001b[0m\u001b[0;34m.\u001b[0m\u001b[0mfind_longest_subpath\u001b[0m\u001b[0;34m(\u001b[0m\u001b[0mgraphs\u001b[0m\u001b[0;34m[\u001b[0m\u001b[0;36m0\u001b[0m\u001b[0;34m]\u001b[0m\u001b[0;34m,\u001b[0m \u001b[0;34m[\u001b[0m\u001b[0;36m0\u001b[0m\u001b[0;34m,\u001b[0m \u001b[0;36m1\u001b[0m\u001b[0;34m,\u001b[0m \u001b[0;36m2\u001b[0m\u001b[0;34m]\u001b[0m\u001b[0;34m)\u001b[0m\u001b[0;34m\u001b[0m\u001b[0m\n\u001b[0m",
      "\u001b[0;31mNameError\u001b[0m: name 'graphs' is not defined"
     ]
    }
   ],
   "source": [
    "LongestPathBruteForce.find_longest_subpath(graphs[0], [0, 1, 2])"
   ]
  },
  {
   "cell_type": "code",
   "execution_count": 20,
   "metadata": {
    "ExecuteTime": {
     "end_time": "2018-06-10T05:51:39.626157Z",
     "start_time": "2018-06-10T05:51:39.583949Z"
    },
    "hidden": true,
    "run_control": {
     "frozen": false,
     "read_only": false
    }
   },
   "outputs": [],
   "source": [
    "def label_path(cls, graph: GraphTypes.UGraph, path: GraphTypes.Vertices, engine='neato'):\n",
    "    graph_viz_object = gv.Graph(engine=engine)\n",
    "    color_xkcd = sns.xkcd_palette(np.random.choice(list(sns.xkcd_rgb.keys()), 1))[0]\n",
    "    hex_color = cls.sns_color_to_hex(color_xkcd)\n",
    "    edge_set = set(GraphUtils.make_edge_tuple(*edge) for edge in graph.edges())\n",
    "    \n",
    "    for ix_edge, (node1, node2) in enumerate(zip(path[:-1], path[1:])):\n",
    "        graph_viz_object.edge(str(node1), str(node2), label=str(ix_edge), color=hex_color, penwidth=str(4), fontsize=str(10))\n",
    "        edge_set.difference_update({GraphUtils.make_edge_tuple(node1, node2)})\n",
    "        \n",
    "    for col, row in edge_set:\n",
    "        graph_viz_object.edge(str(col), str(row), fontsize=str(10), penwidth=str(2))\n",
    "    return graph_viz_object"
   ]
  },
  {
   "cell_type": "code",
   "execution_count": 21,
   "metadata": {
    "ExecuteTime": {
     "end_time": "2018-06-10T05:51:40.345317Z",
     "start_time": "2018-06-10T05:51:40.250558Z"
    },
    "hidden": true,
    "run_control": {
     "frozen": false,
     "read_only": false
    }
   },
   "outputs": [
    {
     "data": {
      "application/vnd.jupyter.widget-view+json": {
       "model_id": "5a8d5faccc08468fb47f42db18c0b5ec",
       "version_major": 2,
       "version_minor": 0
      },
      "text/html": [
       "<p>Failed to display Jupyter Widget of type <code>interactive</code>.</p>\n",
       "<p>\n",
       "  If you're reading this message in the Jupyter Notebook or JupyterLab Notebook, it may mean\n",
       "  that the widgets JavaScript is still loading. If this message persists, it\n",
       "  likely means that the widgets JavaScript library is either not installed or\n",
       "  not enabled. See the <a href=\"https://ipywidgets.readthedocs.io/en/stable/user_install.html\">Jupyter\n",
       "  Widgets Documentation</a> for setup instructions.\n",
       "</p>\n",
       "<p>\n",
       "  If you're reading this message in another frontend (for example, a static\n",
       "  rendering on GitHub or <a href=\"https://nbviewer.jupyter.org/\">NBViewer</a>),\n",
       "  it may mean that your frontend doesn't currently support widgets.\n",
       "</p>\n"
      ],
      "text/plain": [
       "interactive(children=(Dropdown(description='graph', options=(<generic.ugraph.UGraph object at 0x7fa5722bb828>, <generic.ugraph.UGraph object at 0x7fa5722bb7f0>, <generic.ugraph.UGraph object at 0x7fa5722bb860>, <generic.ugraph.UGraph object at 0x7fa5722bb898>, <generic.ugraph.UGraph object at 0x7fa5722bb8d0>, <generic.ugraph.UGraph object at 0x7fa5722bb908>, <generic.ugraph.UGraph object at 0x7fa5722bb940>, <generic.ugraph.UGraph object at 0x7fa5722bb978>, <generic.ugraph.UGraph object at 0x7fa5722bb9b0>, <generic.ugraph.UGraph object at 0x7fa5722bb9e8>, <generic.ugraph.UGraph object at 0x7fa5722bba20>, <generic.ugraph.UGraph object at 0x7fa5722bba58>, <generic.ugraph.UGraph object at 0x7fa5722bba90>, <generic.ugraph.UGraph object at 0x7fa5722bbac8>, <generic.ugraph.UGraph object at 0x7fa5722bbb00>, <generic.ugraph.UGraph object at 0x7fa5722bbb38>, <generic.ugraph.UGraph object at 0x7fa5722bbb70>, <generic.ugraph.UGraph object at 0x7fa5722bbba8>, <generic.ugraph.UGraph object at 0x7fa5722bbbe0>, <generic.ugraph.UGraph object at 0x7fa5722bbc18>, <generic.ugraph.UGraph object at 0x7fa5722bbc50>, <generic.ugraph.UGraph object at 0x7fa5722bbc88>, <generic.ugraph.UGraph object at 0x7fa5722bbcc0>, <generic.ugraph.UGraph object at 0x7fa5722bbcf8>, <generic.ugraph.UGraph object at 0x7fa5722bbd30>, <generic.ugraph.UGraph object at 0x7fa5722bbd68>, <generic.ugraph.UGraph object at 0x7fa5722bbda0>, <generic.ugraph.UGraph object at 0x7fa5722bbdd8>, <generic.ugraph.UGraph object at 0x7fa5722bbe10>, <generic.ugraph.UGraph object at 0x7fa5722bbe48>, <generic.ugraph.UGraph object at 0x7fa5722bbe80>, <generic.ugraph.UGraph object at 0x7fa5722bbeb8>, <generic.ugraph.UGraph object at 0x7fa5722bbef0>, <generic.ugraph.UGraph object at 0x7fa5722bbf28>, <generic.ugraph.UGraph object at 0x7fa5722bbf60>, <generic.ugraph.UGraph object at 0x7fa5722bbf98>, <generic.ugraph.UGraph object at 0x7fa5722bbfd0>, <generic.ugraph.UGraph object at 0x7fa5722bf048>, <generic.ugraph.UGraph object at 0x7fa5722bf080>, <generic.ugraph.UGraph object at 0x7fa5722bf0b8>, <generic.ugraph.UGraph object at 0x7fa5722bf0f0>, <generic.ugraph.UGraph object at 0x7fa5722bf128>, <generic.ugraph.UGraph object at 0x7fa5722bf160>, <generic.ugraph.UGraph object at 0x7fa5722bf198>, <generic.ugraph.UGraph object at 0x7fa5722bf1d0>, <generic.ugraph.UGraph object at 0x7fa5722bf208>, <generic.ugraph.UGraph object at 0x7fa5722bf240>, <generic.ugraph.UGraph object at 0x7fa5722bf278>, <generic.ugraph.UGraph object at 0x7fa5722bf2b0>, <generic.ugraph.UGraph object at 0x7fa5722bf2e8>, <generic.ugraph.UGraph object at 0x7fa5722bf320>, <generic.ugraph.UGraph object at 0x7fa5722bf358>, <generic.ugraph.UGraph object at 0x7fa5722bf390>, <generic.ugraph.UGraph object at 0x7fa5722bf3c8>, <generic.ugraph.UGraph object at 0x7fa5722bf400>, <generic.ugraph.UGraph object at 0x7fa5722bf438>, <generic.ugraph.UGraph object at 0x7fa5722bf470>, <generic.ugraph.UGraph object at 0x7fa5722bf4a8>, <generic.ugraph.UGraph object at 0x7fa5722bf4e0>, <generic.ugraph.UGraph object at 0x7fa5722bf518>, <generic.ugraph.UGraph object at 0x7fa5722bf550>, <generic.ugraph.UGraph object at 0x7fa5722bf588>, <generic.ugraph.UGraph object at 0x7fa5722bf5c0>, <generic.ugraph.UGraph object at 0x7fa5722bf5f8>, <generic.ugraph.UGraph object at 0x7fa5722bf630>, <generic.ugraph.UGraph object at 0x7fa5722bf668>, <generic.ugraph.UGraph object at 0x7fa5722bf6a0>, <generic.ugraph.UGraph object at 0x7fa5722bf6d8>, <generic.ugraph.UGraph object at 0x7fa5722bf710>, <generic.ugraph.UGraph object at 0x7fa5722bf748>, <generic.ugraph.UGraph object at 0x7fa5722bf780>, <generic.ugraph.UGraph object at 0x7fa5722bf7b8>, <generic.ugraph.UGraph object at 0x7fa5722bf7f0>, <generic.ugraph.UGraph object at 0x7fa5722bf828>, <generic.ugraph.UGraph object at 0x7fa5722bf860>, <generic.ugraph.UGraph object at 0x7fa5722bf898>, <generic.ugraph.UGraph object at 0x7fa5722bf8d0>, <generic.ugraph.UGraph object at 0x7fa5722bf908>, <generic.ugraph.UGraph object at 0x7fa5722bf940>, <generic.ugraph.UGraph object at 0x7fa5722bf978>, <generic.ugraph.UGraph object at 0x7fa5722bf9b0>, <generic.ugraph.UGraph object at 0x7fa5722bf9e8>, <generic.ugraph.UGraph object at 0x7fa5722bfa20>, <generic.ugraph.UGraph object at 0x7fa5722bfa58>, <generic.ugraph.UGraph object at 0x7fa5722bfa90>, <generic.ugraph.UGraph object at 0x7fa5722bfac8>, <generic.ugraph.UGraph object at 0x7fa5722bfb00>, <generic.ugraph.UGraph object at 0x7fa5722bfb38>, <generic.ugraph.UGraph object at 0x7fa5722bfb70>, <generic.ugraph.UGraph object at 0x7fa5722bfba8>, <generic.ugraph.UGraph object at 0x7fa5722bfbe0>, <generic.ugraph.UGraph object at 0x7fa5722bfc18>, <generic.ugraph.UGraph object at 0x7fa5722bfc50>, <generic.ugraph.UGraph object at 0x7fa5722bfc88>, <generic.ugraph.UGraph object at 0x7fa5722bfcc0>, <generic.ugraph.UGraph object at 0x7fa5722bfcf8>, <generic.ugraph.UGraph object at 0x7fa5722bfd30>, <generic.ugraph.UGraph object at 0x7fa5722bfd68>, <generic.ugraph.UGraph object at 0x7fa5722bfda0>, <generic.ugraph.UGraph object at 0x7fa5722bfdd8>, <generic.ugraph.UGraph object at 0x7fa5722bfe10>, <generic.ugraph.UGraph object at 0x7fa5722bfe48>, <generic.ugraph.UGraph object at 0x7fa5722bfe80>, <generic.ugraph.UGraph object at 0x7fa5722bfeb8>, <generic.ugraph.UGraph object at 0x7fa5722bfef0>, <generic.ugraph.UGraph object at 0x7fa5722bff28>, <generic.ugraph.UGraph object at 0x7fa5722bff60>, <generic.ugraph.UGraph object at 0x7fa5722bff98>, <generic.ugraph.UGraph object at 0x7fa5722bffd0>, <generic.ugraph.UGraph object at 0x7fa5accc2048>, <generic.ugraph.UGraph object at 0x7fa5accc2080>, <generic.ugraph.UGraph object at 0x7fa5accc20b8>, <generic.ugraph.UGraph object at 0x7fa5accc20f0>, <generic.ugraph.UGraph object at 0x7fa5accc2128>, <generic.ugraph.UGraph object at 0x7fa5accc2160>, <generic.ugraph.UGraph object at 0x7fa5accc2198>, <generic.ugraph.UGraph object at 0x7fa5accc21d0>, <generic.ugraph.UGraph object at 0x7fa5accc2208>, <generic.ugraph.UGraph object at 0x7fa5accc2240>, <generic.ugraph.UGraph object at 0x7fa5accc2278>, <generic.ugraph.UGraph object at 0x7fa5accc22b0>, <generic.ugraph.UGraph object at 0x7fa5accc22e8>, <generic.ugraph.UGraph object at 0x7fa5accc2320>, <generic.ugraph.UGraph object at 0x7fa5accc2358>, <generic.ugraph.UGraph object at 0x7fa5accc2390>, <generic.ugraph.UGraph object at 0x7fa5accc23c8>, <generic.ugraph.UGraph object at 0x7fa5accc2400>, <generic.ugraph.UGraph object at 0x7fa5accc2438>, <generic.ugraph.UGraph object at 0x7fa5accc2470>, <generic.ugraph.UGraph object at 0x7fa5accc24a8>, <generic.ugraph.UGraph object at 0x7fa5accc24e0>, <generic.ugraph.UGraph object at 0x7fa5accc2518>, <generic.ugraph.UGraph object at 0x7fa5accc2550>, <generic.ugraph.UGraph object at 0x7fa5accc2588>, <generic.ugraph.UGraph object at 0x7fa5accc25c0>, <generic.ugraph.UGraph object at 0x7fa5accc25f8>, <generic.ugraph.UGraph object at 0x7fa5accc2630>, <generic.ugraph.UGraph object at 0x7fa5accc2668>, <generic.ugraph.UGraph object at 0x7fa5accc26a0>, <generic.ugraph.UGraph object at 0x7fa5accc26d8>, <generic.ugraph.UGraph object at 0x7fa5accc2710>), value=<generic.ugraph.UGraph object at 0x7fa5722bb828>), Output()), _dom_classes=('widget-interact',))"
      ]
     },
     "metadata": {},
     "output_type": "display_data"
    }
   ],
   "source": [
    "graphs = list(UniqueCertificates(\"../../data/db_unique_certificates.csv\"))\n",
    "\n",
    "@interact(graph=graphs)\n",
    "def show_bridges(graph):\n",
    "    path = LongestPathBruteForce.compute(graph)\n",
    "    print(path)\n",
    "    gviz = label_path(GraphUtils, graph, path)\n",
    "    display(HTML(gviz._repr_svg_()))"
   ]
  },
  {
   "cell_type": "markdown",
   "metadata": {},
   "source": [
    "## maximum matching"
   ]
  },
  {
   "cell_type": "code",
   "execution_count": 13,
   "metadata": {
    "ExecuteTime": {
     "end_time": "2018-06-10T06:11:14.080281Z",
     "start_time": "2018-06-10T06:11:14.075831Z"
    },
    "run_control": {
     "frozen": false,
     "read_only": false
    }
   },
   "outputs": [],
   "source": [
    "from h2py.matching.maximum_matching_brute_force import MaximumMatchingBruteForce"
   ]
  },
  {
   "cell_type": "code",
   "execution_count": 14,
   "metadata": {
    "ExecuteTime": {
     "end_time": "2018-06-10T06:11:22.228550Z",
     "start_time": "2018-06-10T06:11:22.118089Z"
    },
    "run_control": {
     "frozen": false,
     "read_only": false
    }
   },
   "outputs": [
    {
     "data": {
      "application/vnd.jupyter.widget-view+json": {
       "model_id": "897e69ea34104eaa94bd1b795432b1d8",
       "version_major": 2,
       "version_minor": 0
      },
      "text/html": [
       "<p>Failed to display Jupyter Widget of type <code>interactive</code>.</p>\n",
       "<p>\n",
       "  If you're reading this message in the Jupyter Notebook or JupyterLab Notebook, it may mean\n",
       "  that the widgets JavaScript is still loading. If this message persists, it\n",
       "  likely means that the widgets JavaScript library is either not installed or\n",
       "  not enabled. See the <a href=\"https://ipywidgets.readthedocs.io/en/stable/user_install.html\">Jupyter\n",
       "  Widgets Documentation</a> for setup instructions.\n",
       "</p>\n",
       "<p>\n",
       "  If you're reading this message in another frontend (for example, a static\n",
       "  rendering on GitHub or <a href=\"https://nbviewer.jupyter.org/\">NBViewer</a>),\n",
       "  it may mean that your frontend doesn't currently support widgets.\n",
       "</p>\n"
      ],
      "text/plain": [
       "interactive(children=(Dropdown(description='graph', options=(<generic.ugraph.UGraph object at 0x7f88d382e6d8>, <generic.ugraph.UGraph object at 0x7f88d382e6a0>, <generic.ugraph.UGraph object at 0x7f88d382e710>, <generic.ugraph.UGraph object at 0x7f88d382e748>, <generic.ugraph.UGraph object at 0x7f88d382e780>, <generic.ugraph.UGraph object at 0x7f88d382e7b8>, <generic.ugraph.UGraph object at 0x7f88d382e7f0>, <generic.ugraph.UGraph object at 0x7f88d382e828>, <generic.ugraph.UGraph object at 0x7f88d382e860>, <generic.ugraph.UGraph object at 0x7f88d382e898>, <generic.ugraph.UGraph object at 0x7f88d382e8d0>, <generic.ugraph.UGraph object at 0x7f88d382e908>, <generic.ugraph.UGraph object at 0x7f88d382e940>, <generic.ugraph.UGraph object at 0x7f88d382e978>, <generic.ugraph.UGraph object at 0x7f88d382e9b0>, <generic.ugraph.UGraph object at 0x7f88d382e9e8>, <generic.ugraph.UGraph object at 0x7f88d382ea20>, <generic.ugraph.UGraph object at 0x7f88d382ea58>, <generic.ugraph.UGraph object at 0x7f88d382ea90>, <generic.ugraph.UGraph object at 0x7f88d382eac8>, <generic.ugraph.UGraph object at 0x7f88d382eb00>, <generic.ugraph.UGraph object at 0x7f88d382eb38>, <generic.ugraph.UGraph object at 0x7f88d382eb70>, <generic.ugraph.UGraph object at 0x7f88d382eba8>, <generic.ugraph.UGraph object at 0x7f88d382ebe0>, <generic.ugraph.UGraph object at 0x7f88d382ec18>, <generic.ugraph.UGraph object at 0x7f88d382ec50>, <generic.ugraph.UGraph object at 0x7f88d382ec88>, <generic.ugraph.UGraph object at 0x7f88d382ecc0>, <generic.ugraph.UGraph object at 0x7f88d382ecf8>, <generic.ugraph.UGraph object at 0x7f88d382ed30>, <generic.ugraph.UGraph object at 0x7f88d382ed68>, <generic.ugraph.UGraph object at 0x7f88d382eda0>, <generic.ugraph.UGraph object at 0x7f88d382edd8>, <generic.ugraph.UGraph object at 0x7f88d382ee10>, <generic.ugraph.UGraph object at 0x7f88d382ee48>, <generic.ugraph.UGraph object at 0x7f88d382ee80>, <generic.ugraph.UGraph object at 0x7f88d382eeb8>, <generic.ugraph.UGraph object at 0x7f88d382eef0>, <generic.ugraph.UGraph object at 0x7f88d382ef28>, <generic.ugraph.UGraph object at 0x7f88d382ef60>, <generic.ugraph.UGraph object at 0x7f88d382ef98>, <generic.ugraph.UGraph object at 0x7f88d382efd0>, <generic.ugraph.UGraph object at 0x7f88d382f048>, <generic.ugraph.UGraph object at 0x7f88d382f080>, <generic.ugraph.UGraph object at 0x7f88d382f0b8>, <generic.ugraph.UGraph object at 0x7f88d382f0f0>, <generic.ugraph.UGraph object at 0x7f88d382f128>, <generic.ugraph.UGraph object at 0x7f88d382f160>, <generic.ugraph.UGraph object at 0x7f88d382f198>, <generic.ugraph.UGraph object at 0x7f88d382f1d0>, <generic.ugraph.UGraph object at 0x7f88d382f208>, <generic.ugraph.UGraph object at 0x7f88d382f240>, <generic.ugraph.UGraph object at 0x7f88d382f278>, <generic.ugraph.UGraph object at 0x7f88d382f2b0>, <generic.ugraph.UGraph object at 0x7f88d382f2e8>, <generic.ugraph.UGraph object at 0x7f88d382f320>, <generic.ugraph.UGraph object at 0x7f88d3914e10>, <generic.ugraph.UGraph object at 0x7f88d3914d30>, <generic.ugraph.UGraph object at 0x7f88d38a6128>, <generic.ugraph.UGraph object at 0x7f88d38a6780>, <generic.ugraph.UGraph object at 0x7f88d389c080>, <generic.ugraph.UGraph object at 0x7f88d38bb128>, <generic.ugraph.UGraph object at 0x7f88d38bb6a0>, <generic.ugraph.UGraph object at 0x7f88d38bb400>, <generic.ugraph.UGraph object at 0x7f88d38bb550>, <generic.ugraph.UGraph object at 0x7f88d38bb518>, <generic.ugraph.UGraph object at 0x7f88d38bb0f0>, <generic.ugraph.UGraph object at 0x7f88d38bb208>, <generic.ugraph.UGraph object at 0x7f88d38bb2b0>, <generic.ugraph.UGraph object at 0x7f88d38bba90>, <generic.ugraph.UGraph object at 0x7f88d38bb160>, <generic.ugraph.UGraph object at 0x7f88d38bb5c0>, <generic.ugraph.UGraph object at 0x7f88d38bb390>, <generic.ugraph.UGraph object at 0x7f88d38bb4e0>, <generic.ugraph.UGraph object at 0x7f88d38bbe80>, <generic.ugraph.UGraph object at 0x7f88d38bb588>, <generic.ugraph.UGraph object at 0x7f88d38bbdd8>, <generic.ugraph.UGraph object at 0x7f88d38bb198>, <generic.ugraph.UGraph object at 0x7f88d38bbef0>, <generic.ugraph.UGraph object at 0x7f88d38a0da0>, <generic.ugraph.UGraph object at 0x7f88d3910588>, <generic.ugraph.UGraph object at 0x7f88d39100b8>, <generic.ugraph.UGraph object at 0x7f88d39104e0>, <generic.ugraph.UGraph object at 0x7f88d39105c0>, <generic.ugraph.UGraph object at 0x7f88d3910208>, <generic.ugraph.UGraph object at 0x7f88d382f358>, <generic.ugraph.UGraph object at 0x7f88d382f390>, <generic.ugraph.UGraph object at 0x7f88d382f3c8>, <generic.ugraph.UGraph object at 0x7f88d382f400>, <generic.ugraph.UGraph object at 0x7f88d382f438>, <generic.ugraph.UGraph object at 0x7f88d382f470>, <generic.ugraph.UGraph object at 0x7f88d382f4a8>, <generic.ugraph.UGraph object at 0x7f88d382f4e0>, <generic.ugraph.UGraph object at 0x7f88d382f518>, <generic.ugraph.UGraph object at 0x7f88d382f550>, <generic.ugraph.UGraph object at 0x7f88d382f588>, <generic.ugraph.UGraph object at 0x7f88d382f5c0>, <generic.ugraph.UGraph object at 0x7f88d382f5f8>, <generic.ugraph.UGraph object at 0x7f88d382f630>, <generic.ugraph.UGraph object at 0x7f88d382f668>, <generic.ugraph.UGraph object at 0x7f88d382f6a0>, <generic.ugraph.UGraph object at 0x7f88d382f6d8>, <generic.ugraph.UGraph object at 0x7f88d382f710>, <generic.ugraph.UGraph object at 0x7f88d382f748>, <generic.ugraph.UGraph object at 0x7f88d382f780>, <generic.ugraph.UGraph object at 0x7f88d382f7b8>, <generic.ugraph.UGraph object at 0x7f88d382f7f0>, <generic.ugraph.UGraph object at 0x7f88d382f828>, <generic.ugraph.UGraph object at 0x7f88d382f860>, <generic.ugraph.UGraph object at 0x7f88d382f898>, <generic.ugraph.UGraph object at 0x7f88d382f8d0>, <generic.ugraph.UGraph object at 0x7f88d382f908>, <generic.ugraph.UGraph object at 0x7f88d382f940>, <generic.ugraph.UGraph object at 0x7f88d382f978>, <generic.ugraph.UGraph object at 0x7f88d382f9b0>, <generic.ugraph.UGraph object at 0x7f88d382f9e8>, <generic.ugraph.UGraph object at 0x7f88d382fa20>, <generic.ugraph.UGraph object at 0x7f88d382fa58>, <generic.ugraph.UGraph object at 0x7f88d382fa90>, <generic.ugraph.UGraph object at 0x7f88d382fac8>, <generic.ugraph.UGraph object at 0x7f88d382fb00>, <generic.ugraph.UGraph object at 0x7f88d382fb38>, <generic.ugraph.UGraph object at 0x7f88d382fb70>, <generic.ugraph.UGraph object at 0x7f88d382fba8>, <generic.ugraph.UGraph object at 0x7f88d382fbe0>, <generic.ugraph.UGraph object at 0x7f88d382fc18>, <generic.ugraph.UGraph object at 0x7f88d382fc50>, <generic.ugraph.UGraph object at 0x7f88d382fc88>, <generic.ugraph.UGraph object at 0x7f88d382fcc0>, <generic.ugraph.UGraph object at 0x7f88d382fcf8>, <generic.ugraph.UGraph object at 0x7f88d382fd30>, <generic.ugraph.UGraph object at 0x7f88d382fd68>, <generic.ugraph.UGraph object at 0x7f88d382fda0>, <generic.ugraph.UGraph object at 0x7f88d382fdd8>, <generic.ugraph.UGraph object at 0x7f88d382fe10>, <generic.ugraph.UGraph object at 0x7f88d382fe48>, <generic.ugraph.UGraph object at 0x7f88d382fe80>, <generic.ugraph.UGraph object at 0x7f88d382feb8>, <generic.ugraph.UGraph object at 0x7f88d382fef0>, <generic.ugraph.UGraph object at 0x7f88d382ff28>), value=<generic.ugraph.UGraph object at 0x7f88d382e6d8>), Output()), _dom_classes=('widget-interact',))"
      ]
     },
     "metadata": {},
     "output_type": "display_data"
    }
   ],
   "source": [
    "graphs = list(UniqueCertificates(\"../../data/db_unique_certificates.csv\"))\n",
    "\n",
    "@interact(graph=graphs)\n",
    "def show_bridges(graph):\n",
    "    edges = MaximumMatchingBruteForce.compute(graph)\n",
    "    gviz = GraphUtils.color_edge_subset(graph, edges)\n",
    "    display(HTML(gviz._repr_svg_()))"
   ]
  },
  {
   "cell_type": "markdown",
   "metadata": {},
   "source": [
    "## eigen"
   ]
  },
  {
   "cell_type": "code",
   "execution_count": 7,
   "metadata": {
    "ExecuteTime": {
     "end_time": "2018-06-10T13:51:17.183575Z",
     "start_time": "2018-06-10T13:51:17.179252Z"
    },
    "run_control": {
     "frozen": false,
     "read_only": false
    }
   },
   "outputs": [],
   "source": [
    "from h2py.eigen import EigenValueBruteForce"
   ]
  },
  {
   "cell_type": "code",
   "execution_count": 8,
   "metadata": {
    "ExecuteTime": {
     "end_time": "2018-06-10T13:51:18.607399Z",
     "start_time": "2018-06-10T13:51:18.572735Z"
    },
    "run_control": {
     "frozen": false,
     "read_only": false
    }
   },
   "outputs": [
    {
     "data": {
      "text/plain": [
       "[]"
      ]
     },
     "execution_count": 8,
     "metadata": {},
     "output_type": "execute_result"
    }
   ],
   "source": [
    "graphs = list(UniqueCertificates(\"../../data/db_unique_certificates.csv\"))\n",
    "\n",
    "graphs_i = [graph for graph in graphs if EigenValueBruteForce.compute(graph).dtype == np.complex128]\n",
    "graphs_i"
   ]
  },
  {
   "cell_type": "code",
   "execution_count": 33,
   "metadata": {
    "ExecuteTime": {
     "end_time": "2018-06-10T13:49:46.151935Z",
     "start_time": "2018-06-10T13:49:46.143695Z"
    }
   },
   "outputs": [
    {
     "data": {
      "text/plain": [
       "dtype('complex128')"
      ]
     },
     "execution_count": 33,
     "metadata": {},
     "output_type": "execute_result"
    }
   ],
   "source": [
    "aa.dtype"
   ]
  },
  {
   "cell_type": "code",
   "execution_count": 18,
   "metadata": {
    "ExecuteTime": {
     "end_time": "2018-06-10T13:41:05.824599Z",
     "start_time": "2018-06-10T13:41:05.815948Z"
    }
   },
   "outputs": [
    {
     "data": {
      "text/plain": [
       "array([ 3.37228132e+00+0.00000000e+00j, -2.37228132e+00+0.00000000e+00j,\n",
       "       -8.17181493e-17+0.00000000e+00j, -1.09694870e-16+4.12678875e-17j,\n",
       "       -1.09694870e-16-4.12678875e-17j, -1.00000000e+00+0.00000000e+00j])"
      ]
     },
     "execution_count": 18,
     "metadata": {},
     "output_type": "execute_result"
    }
   ],
   "source": [
    "aa = EigenValueBruteForce().compute(graphs_i[0])\n",
    "aa"
   ]
  },
  {
   "cell_type": "code",
   "execution_count": 31,
   "metadata": {
    "ExecuteTime": {
     "end_time": "2018-06-10T13:49:08.792665Z",
     "start_time": "2018-06-10T13:49:08.785115Z"
    }
   },
   "outputs": [
    {
     "data": {
      "text/plain": [
       "array([ 3.37228132e+00, -2.37228132e+00, -8.17181493e-17, -1.09694870e-16,\n",
       "       -1.09694870e-16, -1.00000000e+00])"
      ]
     },
     "execution_count": 31,
     "metadata": {},
     "output_type": "execute_result"
    }
   ],
   "source": [
    "aa.real"
   ]
  },
  {
   "cell_type": "code",
   "execution_count": 30,
   "metadata": {
    "ExecuteTime": {
     "end_time": "2018-06-10T13:44:45.635945Z",
     "start_time": "2018-06-10T13:44:45.628577Z"
    }
   },
   "outputs": [
    {
     "data": {
      "text/plain": [
       "0"
      ]
     },
     "execution_count": 30,
     "metadata": {},
     "output_type": "execute_result"
    }
   ],
   "source": [
    "np.sum(np.absolute(aa.imag) > 1e-10)"
   ]
  },
  {
   "cell_type": "code",
   "execution_count": 23,
   "metadata": {
    "ExecuteTime": {
     "end_time": "2018-06-10T13:43:21.673177Z",
     "start_time": "2018-06-10T13:43:21.666530Z"
    }
   },
   "outputs": [
    {
     "data": {
      "text/plain": [
       "array([-1.0969487e-16+4.12678875e-17j])"
      ]
     },
     "execution_count": 23,
     "metadata": {},
     "output_type": "execute_result"
    }
   ],
   "source": [
    "aa[aa.imag]"
   ]
  },
  {
   "cell_type": "code",
   "execution_count": 20,
   "metadata": {
    "ExecuteTime": {
     "end_time": "2018-06-10T13:42:55.247243Z",
     "start_time": "2018-06-10T13:42:55.240373Z"
    }
   },
   "outputs": [
    {
     "data": {
      "text/plain": [
       "array([3.37228132e+00, 2.37228132e+00, 8.17181493e-17, 1.17200695e-16,\n",
       "       1.17200695e-16, 1.00000000e+00])"
      ]
     },
     "execution_count": 20,
     "metadata": {},
     "output_type": "execute_result"
    }
   ],
   "source": [
    "np.absolute(aa)"
   ]
  },
  {
   "cell_type": "code",
   "execution_count": 11,
   "metadata": {
    "ExecuteTime": {
     "end_time": "2018-06-10T13:38:41.986293Z",
     "start_time": "2018-06-10T13:38:41.952084Z"
    },
    "run_control": {
     "frozen": false,
     "read_only": false
    }
   },
   "outputs": [
    {
     "data": {
      "text/plain": [
       "{dtype('float64'), dtype('complex128')}"
      ]
     },
     "execution_count": 11,
     "metadata": {},
     "output_type": "execute_result"
    }
   ],
   "source": [
    "graphs = list(UniqueCertificates(\"../../data/db_unique_certificates.csv\"))\n",
    "\n",
    "[graph for graph in graphs]"
   ]
  },
  {
   "cell_type": "code",
   "execution_count": null,
   "metadata": {},
   "outputs": [],
   "source": []
  },
  {
   "cell_type": "code",
   "execution_count": null,
   "metadata": {
    "run_control": {
     "frozen": false,
     "read_only": false
    }
   },
   "outputs": [],
   "source": []
  },
  {
   "cell_type": "code",
   "execution_count": null,
   "metadata": {
    "run_control": {
     "frozen": false,
     "read_only": false
    }
   },
   "outputs": [],
   "source": []
  },
  {
   "cell_type": "code",
   "execution_count": null,
   "metadata": {
    "run_control": {
     "frozen": false,
     "read_only": false
    }
   },
   "outputs": [],
   "source": []
  },
  {
   "cell_type": "code",
   "execution_count": null,
   "metadata": {
    "run_control": {
     "frozen": false,
     "read_only": false
    }
   },
   "outputs": [],
   "source": []
  },
  {
   "cell_type": "code",
   "execution_count": null,
   "metadata": {
    "run_control": {
     "frozen": false,
     "read_only": false
    }
   },
   "outputs": [],
   "source": []
  },
  {
   "cell_type": "code",
   "execution_count": null,
   "metadata": {
    "run_control": {
     "frozen": false,
     "read_only": false
    }
   },
   "outputs": [],
   "source": []
  },
  {
   "cell_type": "code",
   "execution_count": null,
   "metadata": {
    "run_control": {
     "frozen": false,
     "read_only": false
    }
   },
   "outputs": [],
   "source": []
  },
  {
   "cell_type": "code",
   "execution_count": null,
   "metadata": {
    "run_control": {
     "frozen": false,
     "read_only": false
    }
   },
   "outputs": [],
   "source": []
  },
  {
   "cell_type": "code",
   "execution_count": null,
   "metadata": {
    "run_control": {
     "frozen": false,
     "read_only": false
    }
   },
   "outputs": [],
   "source": []
  },
  {
   "cell_type": "markdown",
   "metadata": {},
   "source": [
    "# scratchyard"
   ]
  }
 ],
 "metadata": {
  "celltoolbar": "Initialisation Cell",
  "hide_input": false,
  "kernelspec": {
   "display_name": "Python 3",
   "language": "python",
   "name": "python3"
  },
  "language_info": {
   "codemirror_mode": {
    "name": "ipython",
    "version": 3
   },
   "file_extension": ".py",
   "mimetype": "text/x-python",
   "name": "python",
   "nbconvert_exporter": "python",
   "pygments_lexer": "ipython3",
   "version": "3.6.0"
  },
  "latex_envs": {
   "bibliofile": "biblio.bib",
   "cite_by": "apalike",
   "current_citInitial": 1,
   "eqLabelWithNumbers": true,
   "eqNumInitial": 0
  },
  "nav_menu": {},
  "toc": {
   "navigate_menu": true,
   "number_sections": true,
   "sideBar": true,
   "threshold": 6,
   "toc_cell": false,
   "toc_section_display": "block",
   "toc_window_display": true
  },
  "toc_position": {
   "height": "938px",
   "left": "0px",
   "right": "1734px",
   "top": "231px",
   "width": "182px"
  }
 },
 "nbformat": 4,
 "nbformat_minor": 2
}
