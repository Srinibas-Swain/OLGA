{
 "cells": [
  {
   "cell_type": "code",
   "execution_count": 1,
   "metadata": {
    "ExecuteTime": {
     "end_time": "2018-04-15T15:13:33.609121Z",
     "start_time": "2018-04-15T15:13:33.605758Z"
    },
    "init_cell": true,
    "run_control": {
     "frozen": false,
     "read_only": false
    }
   },
   "outputs": [],
   "source": [
    "import sys"
   ]
  },
  {
   "cell_type": "code",
   "execution_count": 2,
   "metadata": {
    "ExecuteTime": {
     "end_time": "2018-04-15T15:13:33.613216Z",
     "start_time": "2018-04-15T15:13:33.610829Z"
    },
    "init_cell": true,
    "run_control": {
     "frozen": false,
     "read_only": false
    }
   },
   "outputs": [],
   "source": [
    "sys.path.insert(0, '../')"
   ]
  },
  {
   "cell_type": "code",
   "execution_count": 3,
   "metadata": {
    "ExecuteTime": {
     "end_time": "2018-04-15T15:13:34.179074Z",
     "start_time": "2018-04-15T15:13:33.614606Z"
    },
    "init_cell": true,
    "run_control": {
     "frozen": false,
     "read_only": false
    }
   },
   "outputs": [],
   "source": [
    "import numpy as np\n",
    "import operator\n",
    "\n",
    "# required for interactive plotting\n",
    "from __future__ import print_function\n",
    "from ipywidgets import interact, interactive, fixed\n",
    "import ipywidgets as widgets\n",
    "import numpy.polynomial as np_poly\n",
    "\n",
    "from IPython.display import Math\n",
    "from IPython.display import Latex\n",
    "from IPython.display import HTML\n",
    "\n",
    "import seaborn as sns\n",
    "\n",
    "from IPython.display import SVG\n",
    "from IPython.display import display as i_display"
   ]
  },
  {
   "cell_type": "code",
   "execution_count": 4,
   "metadata": {
    "ExecuteTime": {
     "end_time": "2018-04-15T15:13:34.289429Z",
     "start_time": "2018-04-15T15:13:34.180797Z"
    },
    "init_cell": true,
    "run_control": {
     "frozen": false,
     "read_only": false
    }
   },
   "outputs": [
    {
     "ename": "ModuleNotFoundError",
     "evalue": "No module named 'graph'",
     "output_type": "error",
     "traceback": [
      "\u001b[0;31m---------------------------------------------------------------------------\u001b[0m",
      "\u001b[0;31mModuleNotFoundError\u001b[0m                       Traceback (most recent call last)",
      "\u001b[0;32m<ipython-input-4-19d7392d5af8>\u001b[0m in \u001b[0;36m<module>\u001b[0;34m()\u001b[0m\n\u001b[0;32m----> 1\u001b[0;31m \u001b[0;32mfrom\u001b[0m \u001b[0mgraph\u001b[0m \u001b[0;32mimport\u001b[0m \u001b[0mUGraph\u001b[0m\u001b[0;34m\u001b[0m\u001b[0m\n\u001b[0m\u001b[1;32m      2\u001b[0m \u001b[0m_graph\u001b[0m \u001b[0;34m=\u001b[0m \u001b[0mUGraph\u001b[0m\u001b[0;34m.\u001b[0m\u001b[0mgraph_from_edges\u001b[0m\u001b[0;34m(\u001b[0m\u001b[0;34m{\u001b[0m\u001b[0;34m'num_vertices'\u001b[0m\u001b[0;34m:\u001b[0m\u001b[0;36m3\u001b[0m\u001b[0;34m,\u001b[0m \u001b[0;34m'edges'\u001b[0m\u001b[0;34m:\u001b[0m \u001b[0;34m[\u001b[0m\u001b[0;34m(\u001b[0m\u001b[0;36m0\u001b[0m\u001b[0;34m,\u001b[0m\u001b[0;36m1\u001b[0m\u001b[0;34m)\u001b[0m\u001b[0;34m,\u001b[0m\u001b[0;34m(\u001b[0m\u001b[0;36m0\u001b[0m\u001b[0;34m,\u001b[0m\u001b[0;36m2\u001b[0m\u001b[0;34m)\u001b[0m\u001b[0;34m]\u001b[0m\u001b[0;34m}\u001b[0m\u001b[0;34m)\u001b[0m\u001b[0;34m\u001b[0m\u001b[0m\n\u001b[1;32m      3\u001b[0m \u001b[0m_graph\u001b[0m\u001b[0;34m.\u001b[0m\u001b[0mgraph_viz\u001b[0m\u001b[0;34m(\u001b[0m\u001b[0;34m)\u001b[0m\u001b[0;34m\u001b[0m\u001b[0m\n",
      "\u001b[0;31mModuleNotFoundError\u001b[0m: No module named 'graph'"
     ]
    }
   ],
   "source": [
    "from graph import UGraph\n",
    "_graph = UGraph.graph_from_edges({'num_vertices':3, 'edges': [(0,1),(0,2)]})\n",
    "_graph.graph_viz()"
   ]
  },
  {
   "cell_type": "markdown",
   "metadata": {},
   "source": [
    "# Notes"
   ]
  },
  {
   "cell_type": "markdown",
   "metadata": {},
   "source": [
    "## DSatur"
   ]
  },
  {
   "cell_type": "markdown",
   "metadata": {},
   "source": [
    "**Saturation Degree**   \n",
    "Number of different colors to which it is adjacent (colored vertices)"
   ]
  },
  {
   "cell_type": "markdown",
   "metadata": {},
   "source": [
    "1. Arrange vertices by decreasing order of degrees\n",
    "1. Color a vertex of maximal degree with color 1\n",
    "1. Choose a vertex with a maximal saturation degree.\n",
    "  * If there is an equality, choose any vertex of maximal degree in the uncolored **subgraph**\n",
    "1. Color the chosen vertex with the least possible (lowest numbered) color\n",
    "1. If all the vertices are colored, stop.\n",
    "  * Otherwise, return to 3"
   ]
  },
  {
   "cell_type": "markdown",
   "metadata": {},
   "source": [
    "Doubt:  \n",
    "1. In step 3, in case of equality, should we consider the vertex of maximum degree in the subgraph induced by the uncolored vertices?  "
   ]
  },
  {
   "cell_type": "code",
   "execution_count": 23,
   "metadata": {
    "ExecuteTime": {
     "end_time": "2018-04-07T14:58:29.371318Z",
     "start_time": "2018-04-07T14:58:29.365324Z"
    },
    "run_control": {
     "frozen": false,
     "read_only": false
    }
   },
   "outputs": [],
   "source": [
    "?sns.xkcd_palette"
   ]
  },
  {
   "cell_type": "code",
   "execution_count": 26,
   "metadata": {
    "ExecuteTime": {
     "end_time": "2018-04-07T15:00:06.691291Z",
     "start_time": "2018-04-07T15:00:06.684509Z"
    },
    "run_control": {
     "frozen": false,
     "read_only": false
    }
   },
   "outputs": [
    {
     "data": {
      "text/plain": [
       "[219.0, 180.0, 12.0]"
      ]
     },
     "execution_count": 26,
     "metadata": {},
     "output_type": "execute_result"
    }
   ],
   "source": []
  },
  {
   "cell_type": "code",
   "execution_count": 30,
   "metadata": {
    "ExecuteTime": {
     "end_time": "2018-04-07T15:01:04.953502Z",
     "start_time": "2018-04-07T15:01:04.940040Z"
    },
    "run_control": {
     "frozen": false,
     "read_only": false
    }
   },
   "outputs": [
    {
     "name": "stdout",
     "output_type": "stream",
     "text": [
      "(1.0, 0.9803921568627451, 0.5254901960784314) [255, 250, 134] #fffa86\n",
      "(1.0, 0.6039215686274509, 0.5411764705882353) [255, 154, 138] #ff9a8a\n",
      "(0.5254901960784314, 0.4666666666666667, 0.37254901960784315) [134, 119, 95] #86775f\n",
      "(0.0196078431372549, 0.2823529411764706, 0.050980392156862744) [5, 72, 13] #05480d\n",
      "(0.0196078431372549, 0.2823529411764706, 0.050980392156862744) [5, 72, 13] #05480d\n",
      "(0.7803921568627451, 0.2784313725490196, 0.403921568627451) [199, 71, 103] #c74767\n",
      "(0.29411764705882354, 0.3803921568627451, 0.07450980392156863) [75, 97, 19] #4b6113\n",
      "(0.4392156862745098, 0.4235294117647059, 0.06666666666666667) [112, 108, 17] #706c11\n",
      "(0.7450980392156863, 0.6823529411764706, 0.5411764705882353) [190, 174, 138] #beae8a\n",
      "(0.6784313725490196, 0.5058823529411764, 0.3137254901960784) [173, 129, 80] #ad8150\n"
     ]
    }
   ],
   "source": [
    "for _rgb in sns.xkcd_palette(np.random.choice(list(sns.xkcd_rgb.keys()), 10)):\n",
    "    _rgb1 = [int(x*255) for x in _rgb]\n",
    "    print(_rgb, _rgb1, '#%02x%02x%02x' % tuple(_rgb1))"
   ]
  },
  {
   "cell_type": "code",
   "execution_count": 88,
   "metadata": {
    "ExecuteTime": {
     "end_time": "2018-04-07T14:47:51.090774Z",
     "start_time": "2018-04-07T14:47:50.975134Z"
    },
    "run_control": {
     "frozen": false,
     "read_only": false
    }
   },
   "outputs": [
    {
     "data": {
      "image/png": "[encoded data removed]",
      "text/plain": [
       "<matplotlib.figure.Figure at 0x7f98442f95c0>"
      ]
     },
     "metadata": {},
     "output_type": "display_data"
    }
   ],
   "source": [
    "sns.palplot(sns.xkcd_palette(np.random.choice(list(sns.xkcd_rgb.keys()), 10)))"
   ]
  },
  {
   "cell_type": "code",
   "execution_count": 10,
   "metadata": {
    "ExecuteTime": {
     "end_time": "2018-04-07T15:07:07.113691Z",
     "start_time": "2018-04-07T15:07:07.012432Z"
    },
    "run_control": {
     "frozen": false,
     "read_only": false
    }
   },
   "outputs": [
    {
     "data": {
      "application/vnd.jupyter.widget-view+json": {
       "model_id": "1f257af176c142279d182705737a92fa",
       "version_major": 2,
       "version_minor": 0
      },
      "text/html": [
       "<p>Failed to display Jupyter Widget of type <code>interactive</code>.</p>\n",
       "<p>\n",
       "  If you're reading this message in the Jupyter Notebook or JupyterLab Notebook, it may mean\n",
       "  that the widgets JavaScript is still loading. If this message persists, it\n",
       "  likely means that the widgets JavaScript library is either not installed or\n",
       "  not enabled. See the <a href=\"https://ipywidgets.readthedocs.io/en/stable/user_install.html\">Jupyter\n",
       "  Widgets Documentation</a> for setup instructions.\n",
       "</p>\n",
       "<p>\n",
       "  If you're reading this message in another frontend (for example, a static\n",
       "  rendering on GitHub or <a href=\"https://nbviewer.jupyter.org/\">NBViewer</a>),\n",
       "  it may mean that your frontend doesn't currently support widgets.\n",
       "</p>\n"
      ],
      "text/plain": [
       "interactive(children=(Dropdown(description='graph_obj', options=((0, <graph.UGraph object at 0x7effa7c6df28>), (1, <graph.UGraph object at 0x7effa7c6df98>), (2, <graph.UGraph object at 0x7effa7c6ddd8>), (3, <graph.UGraph object at 0x7effa7c6dda0>)), value=<graph.UGraph object at 0x7effa7c6df28>), Output()), _dom_classes=('widget-interact',))"
      ]
     },
     "metadata": {},
     "output_type": "display_data"
    }
   ],
   "source": [
    "from dsatur import DSatur\n",
    "\n",
    "def compute_dsat(graph_obj):\n",
    "    dsatur = DSatur(graph_obj)\n",
    "    gv = dsatur.color_graph()\n",
    "    i_display(SVG(gv._repr_svg_()))\n",
    "    \n",
    "graphs = [UGraph.graph_from_edges({'num_vertices': 2, 'edges': [(0, 1)]}),\n",
    "          UGraph.graph_from_edges({'num_vertices': 3, 'edges': [(0, 1), (1, 2)]}),\n",
    "          UGraph.graph_from_edges({'num_vertices': 3, 'edges': [(0, 1), (1, 2), (2, 0)]}),\n",
    "          UGraph.graph_from_edges({'num_vertices': 4, 'edges': [(0, 1), (1, 2), (2, 3), (3, 0)]})]\n",
    "\n",
    "interactive(compute_dsat, graph_obj=enumerate(graphs))"
   ]
  },
  {
   "cell_type": "markdown",
   "metadata": {},
   "source": [
    "# scratchyard"
   ]
  },
  {
   "cell_type": "code",
   "execution_count": 22,
   "metadata": {
    "ExecuteTime": {
     "end_time": "2018-03-18T04:52:13.237357Z",
     "start_time": "2018-03-18T04:52:13.233441Z"
    },
    "run_control": {
     "frozen": false,
     "read_only": false
    }
   },
   "outputs": [],
   "source": [
    "import heapq"
   ]
  },
  {
   "cell_type": "code",
   "execution_count": 40,
   "metadata": {
    "ExecuteTime": {
     "end_time": "2018-03-18T05:07:24.759673Z",
     "start_time": "2018-03-18T05:07:24.736364Z"
    },
    "run_control": {
     "frozen": false,
     "read_only": false
    }
   },
   "outputs": [],
   "source": [
    "class Obj1:\n",
    "    def __init__(self, sat_degree, degree):\n",
    "        self.sat_degree, self.degree = sat_degree, degree\n",
    "    def __lt__(self, other):\n",
    "        return (self.sat_degree < other.sat_degree) or ((self.sat_degree==other.sat_degree) and (self.degree<other.degree))\n",
    "    def __cmp__(self, other):\n",
    "        if (self.sat_degree < other.sat_degree):\n",
    "            return -1\n",
    "        elif (self.sat_degree == other.sat_degree):\n",
    "            if (self.degree < other.sat_degree):\n",
    "                return -1\n",
    "            elif (self.degree == other.sat_degree):\n",
    "                return 0\n",
    "            else:\n",
    "                return 1\n",
    "        else:\n",
    "            return 1\n",
    "    def __str__(self):\n",
    "        return \"({},{})\".format(self.sat_degree, self.degree)"
   ]
  },
  {
   "cell_type": "code",
   "execution_count": 41,
   "metadata": {
    "ExecuteTime": {
     "end_time": "2018-03-18T05:07:25.721648Z",
     "start_time": "2018-03-18T05:07:25.713419Z"
    },
    "run_control": {
     "frozen": false,
     "read_only": false
    }
   },
   "outputs": [
    {
     "data": {
      "text/plain": [
       "True"
      ]
     },
     "execution_count": 41,
     "metadata": {},
     "output_type": "execute_result"
    }
   ],
   "source": [
    "Obj1(5,3) < Obj1(5,4)"
   ]
  },
  {
   "cell_type": "code",
   "execution_count": 26,
   "metadata": {
    "ExecuteTime": {
     "end_time": "2018-03-18T04:54:51.560405Z",
     "start_time": "2018-03-18T04:54:51.556227Z"
    },
    "run_control": {
     "frozen": false,
     "read_only": false
    }
   },
   "outputs": [],
   "source": [
    "heapq.heapify?"
   ]
  },
  {
   "cell_type": "code",
   "execution_count": 42,
   "metadata": {
    "ExecuteTime": {
     "end_time": "2018-03-18T05:07:27.370601Z",
     "start_time": "2018-03-18T05:07:27.364237Z"
    },
    "run_control": {
     "frozen": false,
     "read_only": false
    }
   },
   "outputs": [
    {
     "name": "stdout",
     "output_type": "stream",
     "text": [
      "(5,1)\n",
      "(4,1)\n",
      "(5,3)\n",
      "(5,2)\n",
      "(6,3)\n"
     ]
    }
   ],
   "source": [
    "tmp = [Obj1(*x[0]) for x in [((5,1),'1'),((4,1),'2'),((5,3),'3'),((5,2),'4'),((6,3),'5')]]\n",
    "[print(x) for x in tmp];"
   ]
  },
  {
   "cell_type": "code",
   "execution_count": 43,
   "metadata": {
    "ExecuteTime": {
     "end_time": "2018-03-18T05:07:28.748345Z",
     "start_time": "2018-03-18T05:07:28.743500Z"
    },
    "run_control": {
     "frozen": false,
     "read_only": false
    }
   },
   "outputs": [
    {
     "name": "stdout",
     "output_type": "stream",
     "text": [
      "(4,1)\n",
      "(5,1)\n",
      "(5,3)\n",
      "(5,2)\n",
      "(6,3)\n"
     ]
    },
    {
     "data": {
      "text/plain": [
       "[None, None, None, None, None]"
      ]
     },
     "execution_count": 43,
     "metadata": {},
     "output_type": "execute_result"
    }
   ],
   "source": [
    "heapq.heapify(tmp)\n",
    "[print(x) for x in tmp]"
   ]
  },
  {
   "cell_type": "code",
   "execution_count": null,
   "metadata": {
    "run_control": {
     "frozen": false,
     "read_only": false
    }
   },
   "outputs": [],
   "source": []
  },
  {
   "cell_type": "code",
   "execution_count": null,
   "metadata": {
    "run_control": {
     "frozen": false,
     "read_only": false
    }
   },
   "outputs": [],
   "source": []
  },
  {
   "cell_type": "code",
   "execution_count": null,
   "metadata": {
    "run_control": {
     "frozen": false,
     "read_only": false
    }
   },
   "outputs": [],
   "source": []
  },
  {
   "cell_type": "code",
   "execution_count": null,
   "metadata": {
    "run_control": {
     "frozen": false,
     "read_only": false
    }
   },
   "outputs": [],
   "source": []
  },
  {
   "cell_type": "code",
   "execution_count": null,
   "metadata": {
    "run_control": {
     "frozen": false,
     "read_only": false
    }
   },
   "outputs": [],
   "source": []
  },
  {
   "cell_type": "code",
   "execution_count": null,
   "metadata": {
    "run_control": {
     "frozen": false,
     "read_only": false
    }
   },
   "outputs": [],
   "source": []
  },
  {
   "cell_type": "code",
   "execution_count": null,
   "metadata": {
    "run_control": {
     "frozen": false,
     "read_only": false
    }
   },
   "outputs": [],
   "source": []
  },
  {
   "cell_type": "code",
   "execution_count": null,
   "metadata": {
    "run_control": {
     "frozen": false,
     "read_only": false
    }
   },
   "outputs": [],
   "source": []
  },
  {
   "cell_type": "code",
   "execution_count": null,
   "metadata": {
    "run_control": {
     "frozen": false,
     "read_only": false
    }
   },
   "outputs": [],
   "source": []
  },
  {
   "cell_type": "code",
   "execution_count": null,
   "metadata": {
    "run_control": {
     "frozen": false,
     "read_only": false
    }
   },
   "outputs": [],
   "source": []
  },
  {
   "cell_type": "code",
   "execution_count": null,
   "metadata": {
    "run_control": {
     "frozen": false,
     "read_only": false
    }
   },
   "outputs": [],
   "source": []
  }
 ],
 "metadata": {
  "celltoolbar": "Initialisation Cell",
  "hide_input": false,
  "kernelspec": {
   "display_name": "Python 3",
   "language": "python",
   "name": "python3"
  },
  "language_info": {
   "codemirror_mode": {
    "name": "ipython",
    "version": 3
   },
   "file_extension": ".py",
   "mimetype": "text/x-python",
   "name": "python",
   "nbconvert_exporter": "python",
   "pygments_lexer": "ipython3",
   "version": "3.6.0"
  },
  "latex_envs": {
   "bibliofile": "biblio.bib",
   "cite_by": "apalike",
   "current_citInitial": 1,
   "eqLabelWithNumbers": true,
   "eqNumInitial": 0
  },
  "nav_menu": {},
  "toc": {
   "navigate_menu": true,
   "number_sections": true,
   "sideBar": true,
   "threshold": 6,
   "toc_cell": false,
   "toc_section_display": "block",
   "toc_window_display": true
  },
  "toc_position": {
   "height": "823px",
   "left": "0px",
   "right": "1734px",
   "top": "32px",
   "width": "182px"
  }
 },
 "nbformat": 4,
 "nbformat_minor": 2
}
